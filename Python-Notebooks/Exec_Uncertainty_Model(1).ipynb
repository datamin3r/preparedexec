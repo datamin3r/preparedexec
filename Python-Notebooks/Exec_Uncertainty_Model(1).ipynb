{
 "cells": [
  {
   "cell_type": "markdown",
   "metadata": {},
   "source": [
    "Set up logging"
   ]
  },
  {
   "cell_type": "code",
   "execution_count": 3,
   "metadata": {
    "collapsed": true
   },
   "outputs": [],
   "source": [
    "import logging\n",
    "logging.basicConfig(format='%(asctime)s : %(levelname)s : %(message)s', level=logging.INFO)"
   ]
  },
  {
   "cell_type": "code",
   "execution_count": 4,
   "metadata": {
    "collapsed": true
   },
   "outputs": [],
   "source": [
    "from unidecode import unidecode"
   ]
  },
  {
   "cell_type": "code",
   "execution_count": 5,
   "metadata": {
    "collapsed": false
   },
   "outputs": [
    {
     "name": "stdout",
     "output_type": "stream",
     "text": [
      "Folder \"c:\\users\\tomd\\appdata\\local\\temp\" will be used to save temporary dictionary and corpus.\n"
     ]
    }
   ],
   "source": [
    "import os\n",
    "import json\n",
    "import tempfile\n",
    "TEMP_FOLDER = tempfile.gettempdir()\n",
    "print('Folder \"{}\" will be used to save temporary dictionary and corpus.'.format(TEMP_FOLDER))"
   ]
  },
  {
   "cell_type": "markdown",
   "metadata": {},
   "source": [
    "Import gensim"
   ]
  },
  {
   "cell_type": "code",
   "execution_count": 6,
   "metadata": {
    "collapsed": false
   },
   "outputs": [
    {
     "name": "stderr",
     "output_type": "stream",
     "text": [
      "C:\\Users\\tomd\\Anaconda2\\lib\\site-packages\\gensim\\utils.py:855: UserWarning: detected Windows; aliasing chunkize to chunkize_serial\n",
      "  warnings.warn(\"detected Windows; aliasing chunkize to chunkize_serial\")\n",
      "2017-07-12 11:02:25,887 : INFO : 'pattern' package not found; tag filters are not available for English\n"
     ]
    }
   ],
   "source": [
    "from gensim import corpora, models, similarities"
   ]
  },
  {
   "cell_type": "markdown",
   "metadata": {},
   "source": [
    "nltk libs for pre-processing"
   ]
  },
  {
   "cell_type": "code",
   "execution_count": 7,
   "metadata": {
    "collapsed": true
   },
   "outputs": [],
   "source": [
    "import nltk\n",
    "from nltk.tokenize import word_tokenize, sent_tokenize\n",
    "from nltk.corpus import stopwords\n",
    "from string import punctuation\n",
    "from nltk.probability import FreqDist\n",
    "from collections import defaultdict\n",
    "from heapq import nlargest"
   ]
  },
  {
   "cell_type": "markdown",
   "metadata": {},
   "source": [
    "get the single executive answers with 19 documents"
   ]
  },
  {
   "cell_type": "code",
   "execution_count": 8,
   "metadata": {
    "collapsed": true
   },
   "outputs": [],
   "source": [
    "path = 'C:\\\\Users\\\\tomd\\\\pda\\\\textout\\\\execEach\\\\'\n",
    "fname = \"Rob Sands_text_jun14_transcript_may31_seq_resulttranscripts_may29const_Q1_17.json\"\n",
    "\n",
    "json_data=open(path + fname ).read()\n",
    "\n",
    "data = json.loads(json_data)\n"
   ]
  },
  {
   "cell_type": "markdown",
   "metadata": {},
   "source": [
    "Load LM Uncertainty List of words"
   ]
  },
  {
   "cell_type": "code",
   "execution_count": 9,
   "metadata": {
    "collapsed": false
   },
   "outputs": [],
   "source": [
    "fh = open('C:\\\\Users\\\\tomd\\\\pda\\\\LM_Uncertainty.txt')\n"
   ]
  },
  {
   "cell_type": "code",
   "execution_count": 10,
   "metadata": {
    "collapsed": false
   },
   "outputs": [],
   "source": [
    "lmUcertWords = [x.strip().lower() for x in fh]"
   ]
  },
  {
   "cell_type": "code",
   "execution_count": 11,
   "metadata": {
    "collapsed": false
   },
   "outputs": [],
   "source": [
    "#lmUcertWords"
   ]
  },
  {
   "cell_type": "markdown",
   "metadata": {},
   "source": [
    "Create the list of documents"
   ]
  },
  {
   "cell_type": "code",
   "execution_count": 12,
   "metadata": {
    "collapsed": false,
    "scrolled": true
   },
   "outputs": [],
   "source": [
    "docs = []\n",
    "\n",
    "for entry in data['execResp']:\n",
    "    #print entry\n",
    "    docs.append(unidecode(entry))\n"
   ]
  },
  {
   "cell_type": "code",
   "execution_count": 13,
   "metadata": {
    "collapsed": false,
    "scrolled": true
   },
   "outputs": [],
   "source": [
    "#docs"
   ]
  },
  {
   "cell_type": "code",
   "execution_count": 14,
   "metadata": {
    "collapsed": false
   },
   "outputs": [
    {
     "data": {
      "text/plain": [
       "19"
      ]
     },
     "execution_count": 14,
     "metadata": {},
     "output_type": "execute_result"
    }
   ],
   "source": [
    "len(docs)"
   ]
  },
  {
   "cell_type": "code",
   "execution_count": 36,
   "metadata": {
    "collapsed": false
   },
   "outputs": [
    {
     "data": {
      "text/plain": [
       "\"ACV growth has been and will continue to be a number one priority for the beer business and Modelo Especial in particular, when you say pick up, it's not like we wrapped at a particular point in time on distribution growth, it's what, that is what the sales organization basically is all about and does, okay. When companies like ourselves talk about execution or sales execution, they're talking about growing distribution first and foremost and then probably the number to think in sales organization execution is all about merchandising and add activity at retail. So that's what sales forces do. That's all they do, they run out and get distribution. They grow distribution and they work with the distributors and the retailers to maximize the merchandising opportunities.\""
      ]
     },
     "execution_count": 36,
     "metadata": {},
     "output_type": "execute_result"
    }
   ],
   "source": [
    "docs[15]"
   ]
  },
  {
   "cell_type": "markdown",
   "metadata": {},
   "source": [
    "set up stop words"
   ]
  },
  {
   "cell_type": "code",
   "execution_count": 16,
   "metadata": {
    "collapsed": true
   },
   "outputs": [],
   "source": [
    "customStopWords=set(stopwords.words('english')+list(punctuation))"
   ]
  },
  {
   "cell_type": "code",
   "execution_count": 17,
   "metadata": {
    "collapsed": true
   },
   "outputs": [],
   "source": [
    "#texts = [[word for word in document.lower().split() if word not in customStopWords]\n",
    "#         for document in docs]"
   ]
  },
  {
   "cell_type": "markdown",
   "metadata": {},
   "source": [
    "create list of tokens for each document "
   ]
  },
  {
   "cell_type": "code",
   "execution_count": 18,
   "metadata": {
    "collapsed": false
   },
   "outputs": [],
   "source": [
    "texts = [[word for word in word_tokenize(document.lower())if word not in customStopWords]\n",
    "         for document in docs]"
   ]
  },
  {
   "cell_type": "markdown",
   "metadata": {},
   "source": [
    "and inspect number of tokens per documents"
   ]
  },
  {
   "cell_type": "code",
   "execution_count": 19,
   "metadata": {
    "collapsed": false
   },
   "outputs": [],
   "source": [
    "repLens = [len(text) for text in texts]\n",
    "    "
   ]
  },
  {
   "cell_type": "code",
   "execution_count": 20,
   "metadata": {
    "collapsed": false
   },
   "outputs": [
    {
     "data": {
      "text/plain": [
       "[70, 29, 91, 105, 74, 69, 73, 60, 40, 53, 3, 48, 57, 175, 113, 63, 72, 67, 8]"
      ]
     },
     "execution_count": 20,
     "metadata": {},
     "output_type": "execute_result"
    }
   ],
   "source": [
    "repLens"
   ]
  },
  {
   "cell_type": "code",
   "execution_count": 21,
   "metadata": {
    "collapsed": false
   },
   "outputs": [],
   "source": [
    "#sum(repLens)"
   ]
  },
  {
   "cell_type": "code",
   "execution_count": 22,
   "metadata": {
    "collapsed": false
   },
   "outputs": [],
   "source": [
    "#word_freq = FreqDist(texts[13])#texts[0]"
   ]
  },
  {
   "cell_type": "code",
   "execution_count": 48,
   "metadata": {
    "collapsed": false
   },
   "outputs": [
    {
     "data": {
      "text/plain": [
       "[\"'s\", 'totally', 'unpredictable']"
      ]
     },
     "execution_count": 48,
     "metadata": {},
     "output_type": "execute_result"
    }
   ],
   "source": [
    "#word_freq\n",
    "texts[10]"
   ]
  },
  {
   "cell_type": "markdown",
   "metadata": {},
   "source": [
    "For each documents check if the tokens are in the uncertainty list of words\n",
    "If an uncertain word is found then sum the counts and calcualte a measure of \n",
    "uncertainty as a value between 0 and 1 and subtract this from 1. The higher the \n",
    "score the higher the uncertainty"
   ]
  },
  {
   "cell_type": "code",
   "execution_count": 24,
   "metadata": {
    "collapsed": false,
    "scrolled": true
   },
   "outputs": [
    {
     "name": "stdout",
     "output_type": "stream",
     "text": [
      "Uncertain Word:  probably  - doc id :  2\n",
      "Uncertain Word:  maybe  - doc id :  2\n",
      "No. of Uncertain tokens found 2\n",
      "No. Tokens 91\n",
      "Uncertainty measure 0.021978021978\n",
      "-----------------\n",
      "Uncertain Word:  sometimes  - doc id :  5\n",
      "No. of Uncertain tokens found 1\n",
      "No. Tokens 69\n",
      "Uncertainty measure 0.0144927536232\n",
      "-----------------\n",
      "Uncertain Word:  somewhat  - doc id :  6\n",
      "No. of Uncertain tokens found 1\n",
      "No. Tokens 73\n",
      "Uncertainty measure 0.013698630137\n",
      "-----------------\n",
      "Uncertain Word:  perhaps  - doc id :  9\n",
      "Uncertain Word:  might  - doc id :  9\n",
      "Uncertain Word:  might  - doc id :  9\n",
      "No. of Uncertain tokens found 3\n",
      "No. Tokens 53\n",
      "Uncertainty measure 0.0566037735849\n",
      "-----------------\n",
      "Uncertain Word:  unpredictable  - doc id :  10\n",
      "No. of Uncertain tokens found 1\n",
      "No. Tokens 3\n",
      "Uncertainty measure 0.333333333333\n",
      "-----------------\n",
      "Uncertain Word:  probably  - doc id :  12\n",
      "Uncertain Word:  probably  - doc id :  12\n",
      "No. of Uncertain tokens found 2\n",
      "No. Tokens 57\n",
      "Uncertainty measure 0.0350877192982\n",
      "-----------------\n",
      "Uncertain Word:  somewhat  - doc id :  13\n",
      "No. of Uncertain tokens found 1\n",
      "No. Tokens 175\n",
      "Uncertainty measure 0.00571428571429\n",
      "-----------------\n",
      "Uncertain Word:  probably  - doc id :  14\n",
      "Uncertain Word:  probably  - doc id :  14\n",
      "No. of Uncertain tokens found 2\n",
      "No. Tokens 113\n",
      "Uncertainty measure 0.0176991150442\n",
      "-----------------\n",
      "Uncertain Word:  probably  - doc id :  15\n",
      "No. of Uncertain tokens found 1\n",
      "No. Tokens 63\n",
      "Uncertainty measure 0.015873015873\n",
      "-----------------\n",
      "Uncertain Word:  seems  - doc id :  16\n",
      "Uncertain Word:  seems  - doc id :  16\n",
      "No. of Uncertain tokens found 2\n",
      "No. Tokens 72\n",
      "Uncertainty measure 0.0277777777778\n",
      "-----------------\n"
     ]
    }
   ],
   "source": [
    "#texts[0]\n",
    "for i in range(len(repLens)):\n",
    "    wrdCount = 0\n",
    "    for token in texts[i]:\n",
    "        #print token\n",
    "        if token in lmUcertWords:\n",
    "            wrdCount +=1\n",
    "            print \"Uncertain Word: \", token, \" - doc id : \", i\n",
    "    if wrdCount > 0:\n",
    "        print \"No. of Uncertain tokens found\", wrdCount\n",
    "        print \"No. Tokens\", repLens[i]\n",
    "        umsr = 1 - float(repLens[i] - wrdCount)/ repLens[i]\n",
    "        print \"Uncertainty measure\", umsr\n",
    "        print \"-----------------\"\n",
    "    \n"
   ]
  },
  {
   "cell_type": "code",
   "execution_count": null,
   "metadata": {
    "collapsed": true
   },
   "outputs": [],
   "source": [
    "Cohen Kappa"
   ]
  },
  {
   "cell_type": "code",
   "execution_count": null,
   "metadata": {
    "collapsed": true
   },
   "outputs": [],
   "source": [
    "from sklearn.metrics import cohen_kappa_score\n",
    ">>> y_true = [2, 0, 2, 2, 0, 1]\n",
    ">>> y_pred = [0, 0, 2, 2, 0, 2]\n",
    ">>> cohen_kappa_score(y_true, y_pred)"
   ]
  },
  {
   "cell_type": "markdown",
   "metadata": {},
   "source": [
    "Create Dictionary, BoW and tf-idf of Robs 19 Answers"
   ]
  },
  {
   "cell_type": "code",
   "execution_count": 25,
   "metadata": {
    "collapsed": false
   },
   "outputs": [
    {
     "name": "stderr",
     "output_type": "stream",
     "text": [
      "2017-07-12 11:03:48,585 : INFO : adding document #0 to Dictionary(0 unique tokens: [])\n",
      "2017-07-12 11:03:48,589 : INFO : built Dictionary(552 unique tokens: [u'ale', u'focus', u'per', u'go', u'follow']...) from 19 documents (total 1270 corpus positions)\n",
      "2017-07-12 11:03:48,591 : INFO : saving Dictionary object under c:\\users\\tomd\\appdata\\local\\temp\\RobExecUncertain.dict, separately None\n",
      "2017-07-12 11:03:48,612 : INFO : saved c:\\users\\tomd\\appdata\\local\\temp\\RobExecUncertain.dict\n"
     ]
    },
    {
     "name": "stdout",
     "output_type": "stream",
     "text": [
      "Dictionary(552 unique tokens: [u'ale', u'focus', u'per', u'go', u'follow']...)\n"
     ]
    }
   ],
   "source": [
    "dictionary = corpora.Dictionary(texts)\n",
    "dictionary.save(os.path.join(TEMP_FOLDER, 'RobExecUncertain.dict'))  # store the dictionary, for future reference\n",
    "print(dictionary)"
   ]
  },
  {
   "cell_type": "code",
   "execution_count": 26,
   "metadata": {
    "collapsed": false
   },
   "outputs": [],
   "source": [
    "#for k, v in dictionary.token2id.iteritems():\n",
    "#    print k, v"
   ]
  },
  {
   "cell_type": "markdown",
   "metadata": {},
   "source": [
    "Create the BoW"
   ]
  },
  {
   "cell_type": "code",
   "execution_count": 27,
   "metadata": {
    "collapsed": false
   },
   "outputs": [
    {
     "name": "stderr",
     "output_type": "stream",
     "text": [
      "2017-07-12 11:03:58,638 : INFO : storing corpus in Matrix Market format to c:\\users\\tomd\\appdata\\local\\temp\\RobExecUncertain.mm\n",
      "2017-07-12 11:03:58,640 : INFO : saving sparse matrix to c:\\users\\tomd\\appdata\\local\\temp\\RobExecUncertain.mm\n",
      "2017-07-12 11:03:58,641 : INFO : PROGRESS: saving document #0\n",
      "2017-07-12 11:03:58,664 : INFO : saved 19x552 matrix, density=8.944% (938/10488)\n",
      "2017-07-12 11:03:58,703 : INFO : saving MmCorpus index to c:\\users\\tomd\\appdata\\local\\temp\\RobExecUncertain.mm.index\n"
     ]
    }
   ],
   "source": [
    "corpus = [dictionary.doc2bow(text) for text in texts]\n",
    "corpora.MmCorpus.serialize(os.path.join(TEMP_FOLDER, 'RobExecUncertain.mm'), corpus)  # store to disk, for later use\n",
    "#for c in corpus:\n",
    "#    print(c)"
   ]
  },
  {
   "cell_type": "markdown",
   "metadata": {},
   "source": [
    "Calculate the tfidf"
   ]
  },
  {
   "cell_type": "code",
   "execution_count": 28,
   "metadata": {
    "collapsed": false
   },
   "outputs": [
    {
     "name": "stderr",
     "output_type": "stream",
     "text": [
      "2017-07-12 11:04:03,717 : INFO : collecting document frequencies\n",
      "2017-07-12 11:04:03,717 : INFO : PROGRESS: processing document #0\n",
      "2017-07-12 11:04:03,720 : INFO : calculating IDF weights for 19 documents and 551 features (938 matrix non-zeros)\n"
     ]
    }
   ],
   "source": [
    "tf_idf = models.TfidfModel(corpus)"
   ]
  },
  {
   "cell_type": "markdown",
   "metadata": {},
   "source": [
    "Inspect 1 of the anwsers"
   ]
  },
  {
   "cell_type": "code",
   "execution_count": 30,
   "metadata": {
    "collapsed": false
   },
   "outputs": [
    {
     "data": {
      "text/plain": [
       "[(38, 0.026701303650248823),\n",
       " (341, 0.706854666951905),\n",
       " (342, 0.706854666951905)]"
      ]
     },
     "execution_count": 30,
     "metadata": {},
     "output_type": "execute_result"
    }
   ],
   "source": [
    "#corpus_tf_idf = tf_idf[corpus]\n",
    "\n",
    "corpus_tf_idf[10]\n",
    "#for docu in corpus_tf_idf:\n",
    "#     print(docu)"
   ]
  },
  {
   "cell_type": "markdown",
   "metadata": {},
   "source": [
    "lookup the index value in the dictionay to find the token"
   ]
  },
  {
   "cell_type": "code",
   "execution_count": 50,
   "metadata": {
    "collapsed": false
   },
   "outputs": [
    {
     "data": {
      "text/plain": [
       "u'unpredictable'"
      ]
     },
     "execution_count": 50,
     "metadata": {},
     "output_type": "execute_result"
    }
   ],
   "source": [
    "dictionary.get(341)"
   ]
  },
  {
   "cell_type": "code",
   "execution_count": 33,
   "metadata": {
    "collapsed": false
   },
   "outputs": [
    {
     "data": {
      "text/plain": [
       "[(28, 0.08351068543455017),\n",
       " (38, 0.005032178304584122),\n",
       " (58, 0.017169238361873885),\n",
       " (86, 0.14099018692171245),\n",
       " (88, 0.2710584719291071),\n",
       " (98, 0.14099018692171245),\n",
       " (111, 0.08351068543455017),\n",
       " (112, 0.20371026400539496),\n",
       " (116, 0.10185513200269748),\n",
       " (133, 0.039135054919014964),\n",
       " (176, 0.2114852803825687),\n",
       " (194, 0.13552923596455355),\n",
       " (215, 0.06039941599748701),\n",
       " (225, 0.30556539600809246),\n",
       " (237, 0.3340427417382007),\n",
       " (291, 0.10185513200269748),\n",
       " (321, 0.20371026400539496),\n",
       " (363, 0.13321517054453874),\n",
       " (364, 0.13321517054453874),\n",
       " (365, 0.13321517054453874),\n",
       " (366, 0.20371026400539496),\n",
       " (367, 0.13321517054453874),\n",
       " (368, 0.13321517054453874),\n",
       " (369, 0.13321517054453874),\n",
       " (370, 0.10185513200269748),\n",
       " (371, 0.13321517054453874),\n",
       " (372, 0.2664303410890775),\n",
       " (373, 0.13321517054453874),\n",
       " (374, 0.13321517054453874),\n",
       " (375, 0.13321517054453874),\n",
       " (376, 0.2664303410890775),\n",
       " (377, 0.13321517054453874),\n",
       " (378, 0.13321517054453874),\n",
       " (379, 0.2664303410890775),\n",
       " (380, 0.13321517054453874)]"
      ]
     },
     "execution_count": 33,
     "metadata": {},
     "output_type": "execute_result"
    }
   ],
   "source": [
    "corpus_tf_idf[12]"
   ]
  },
  {
   "cell_type": "code",
   "execution_count": 34,
   "metadata": {
    "collapsed": false
   },
   "outputs": [
    {
     "data": {
      "text/plain": [
       "u'probably'"
      ]
     },
     "execution_count": 34,
     "metadata": {},
     "output_type": "execute_result"
    }
   ],
   "source": [
    "dictionary.get(98)"
   ]
  },
  {
   "cell_type": "markdown",
   "metadata": {},
   "source": [
    "Explore word frequencies"
   ]
  },
  {
   "cell_type": "code",
   "execution_count": 35,
   "metadata": {
    "collapsed": false
   },
   "outputs": [
    {
     "data": {
      "text/plain": [
       "[(10, 0.09766581496994232),\n",
       " (38, 0.018848157193616044),\n",
       " (49, 0.07329069264322807),\n",
       " (58, 0.016076959318217465),\n",
       " (66, 0.036645346321614036),\n",
       " (75, 0.07819787133651193),\n",
       " (80, 0.06601031017315481),\n",
       " (81, 0.019467943633430403),\n",
       " (88, 0.04230236207156975),\n",
       " (98, 0.06601031017315481),\n",
       " (103, 0.027191939452451255),\n",
       " (133, 0.036645346321614036),\n",
       " (142, 0.036645346321614036),\n",
       " (152, 0.06601031017315481),\n",
       " (169, 0.06601031017315481),\n",
       " (175, 0.07819787133651193),\n",
       " (194, 0.04230236207156975),\n",
       " (197, 0.04883290748497116),\n",
       " (214, 0.06601031017315481),\n",
       " (243, 0.07819787133651193),\n",
       " (246, 0.19075054804939115),\n",
       " (281, 0.06601031017315481),\n",
       " (282, 0.07819787133651193),\n",
       " (421, 0.09537527402469557),\n",
       " (434, 0.3127914853460477),\n",
       " (448, 0.09537527402469557),\n",
       " (452, 0.09537527402469557),\n",
       " (461, 0.09537527402469557),\n",
       " (464, 0.12474023787623632),\n",
       " (465, 0.12474023787623632),\n",
       " (466, 0.12474023787623632),\n",
       " (467, 0.12474023787623632),\n",
       " (468, 0.12474023787623632),\n",
       " (469, 0.12474023787623632),\n",
       " (470, 0.12474023787623632),\n",
       " (471, 0.4989609515049453),\n",
       " (472, 0.12474023787623632),\n",
       " (473, 0.12474023787623632),\n",
       " (474, 0.12474023787623632),\n",
       " (475, 0.12474023787623632),\n",
       " (476, 0.12474023787623632),\n",
       " (477, 0.19075054804939115),\n",
       " (478, 0.12474023787623632),\n",
       " (479, 0.24948047575247265),\n",
       " (480, 0.374220713628709),\n",
       " (481, 0.24948047575247265)]"
      ]
     },
     "execution_count": 35,
     "metadata": {},
     "output_type": "execute_result"
    }
   ],
   "source": [
    "corpus_tf_idf[15]"
   ]
  },
  {
   "cell_type": "code",
   "execution_count": 59,
   "metadata": {
    "collapsed": false
   },
   "outputs": [
    {
     "data": {
      "text/plain": [
       "u'probably'"
      ]
     },
     "execution_count": 59,
     "metadata": {},
     "output_type": "execute_result"
    }
   ],
   "source": [
    "dictionary.get(98)"
   ]
  },
  {
   "cell_type": "code",
   "execution_count": 27,
   "metadata": {
    "collapsed": true
   },
   "outputs": [],
   "source": [
    "import numpy as np"
   ]
  },
  {
   "cell_type": "code",
   "execution_count": 68,
   "metadata": {
    "collapsed": false
   },
   "outputs": [],
   "source": [
    "word_freq = FreqDist(texts[0])#texts[0]"
   ]
  },
  {
   "cell_type": "code",
   "execution_count": 87,
   "metadata": {
    "collapsed": false
   },
   "outputs": [
    {
     "name": "stdout",
     "output_type": "stream",
     "text": [
      "66.8421052632\n",
      "37.2717801502\n",
      "175\n",
      "3\n"
     ]
    }
   ],
   "source": [
    "print np.mean(repLens)\n",
    "print np.std(repLens)\n",
    "print max(repLens)\n",
    "print min(repLens)"
   ]
  },
  {
   "cell_type": "code",
   "execution_count": 73,
   "metadata": {
    "collapsed": false
   },
   "outputs": [
    {
     "data": {
      "image/png": "[encoded data removed]",
      "text/plain": [
       "<matplotlib.figure.Figure at 0xccfbfd0>"
      ]
     },
     "metadata": {},
     "output_type": "display_data"
    }
   ],
   "source": [
    "word_freq.plot(50, cumulative=False)"
   ]
  },
  {
   "cell_type": "code",
   "execution_count": 72,
   "metadata": {
    "collapsed": false
   },
   "outputs": [
    {
     "data": {
      "text/plain": [
       "[('brand', 6),\n",
       " ('really', 3),\n",
       " ('brands', 3),\n",
       " ('significantly', 2),\n",
       " ('acquired', 2),\n",
       " (\"'s\", 2),\n",
       " ('ago', 2),\n",
       " ('subset', 1),\n",
       " ('heavy', 1),\n",
       " ('right', 1),\n",
       " ('nik', 1),\n",
       " ('woodbridge', 1),\n",
       " ('double-digits', 1),\n",
       " ('focus', 1),\n",
       " ('years', 1),\n",
       " ('prisoner', 1),\n",
       " ('growth', 1),\n",
       " ('clos', 1),\n",
       " ('mentioned', 1),\n",
       " ('portfolio', 1),\n",
       " ('yes', 1),\n",
       " ('fortunate', 1),\n",
       " ('even', 1),\n",
       " ('bois', 1),\n",
       " ('guess', 1),\n",
       " ('noir', 1),\n",
       " ('driving', 1),\n",
       " ('also', 1),\n",
       " ('west', 1),\n",
       " ('robert', 1),\n",
       " ('question', 1),\n",
       " ('meiomi', 1),\n",
       " ('mark', 1),\n",
       " ('depletion', 1),\n",
       " ('hot', 1),\n",
       " ('black', 1),\n",
       " ('largest', 1),\n",
       " ('got', 1),\n",
       " ('newly', 1),\n",
       " ('crawford', 1),\n",
       " ('texas', 1),\n",
       " ('box', 1),\n",
       " ('mondavi', 1),\n",
       " ('fire', 1),\n",
       " ('includes', 1),\n",
       " ('moment', 1),\n",
       " ('base', 1),\n",
       " ('kim', 1),\n",
       " ('du', 1),\n",
       " ('sharply', 1)]"
      ]
     },
     "execution_count": 72,
     "metadata": {},
     "output_type": "execute_result"
    }
   ],
   "source": [
    "word_freq.most_common(50)"
   ]
  },
  {
   "cell_type": "code",
   "execution_count": 74,
   "metadata": {
    "collapsed": false,
    "scrolled": true
   },
   "outputs": [
    {
     "name": "stderr",
     "output_type": "stream",
     "text": [
      "2017-06-14 22:20:01,309 : INFO : adding document #0 to Dictionary(0 unique tokens: [])\n",
      "2017-06-14 22:20:01,313 : INFO : built Dictionary(552 unique tokens: [u'ale', u'focus', u'per', u'go', u'follow']...) from 19 documents (total 1270 corpus positions)\n",
      "2017-06-14 22:20:01,315 : INFO : saving Dictionary object under c:\\users\\tomd\\appdata\\local\\temp\\execsEachtext.dict, separately None\n",
      "2017-06-14 22:20:01,336 : INFO : saved c:\\users\\tomd\\appdata\\local\\temp\\execsEachtext.dict\n"
     ]
    },
    {
     "name": "stdout",
     "output_type": "stream",
     "text": [
      "Dictionary(552 unique tokens: [u'ale', u'focus', u'per', u'go', u'follow']...)\n"
     ]
    }
   ],
   "source": [
    "dictionary = corpora.Dictionary(texts)\n",
    "dictionary.save(os.path.join(TEMP_FOLDER, 'execsUnCertaintext.dict'))  # store the dictionary, for future reference\n",
    "print(dictionary)"
   ]
  },
  {
   "cell_type": "code",
   "execution_count": 75,
   "metadata": {
    "collapsed": false
   },
   "outputs": [
    {
     "name": "stderr",
     "output_type": "stream",
     "text": [
      "2017-06-14 22:21:34,490 : INFO : storing corpus in Matrix Market format to c:\\users\\tomd\\appdata\\local\\temp\\execsEachtextLDA.mm\n",
      "2017-06-14 22:21:34,492 : INFO : saving sparse matrix to c:\\users\\tomd\\appdata\\local\\temp\\execsEachtextLDA.mm\n",
      "2017-06-14 22:21:34,493 : INFO : PROGRESS: saving document #0\n",
      "2017-06-14 22:21:34,516 : INFO : saved 19x552 matrix, density=8.944% (938/10488)\n",
      "2017-06-14 22:21:34,565 : INFO : saving MmCorpus index to c:\\users\\tomd\\appdata\\local\\temp\\execsEachtextLDA.mm.index\n"
     ]
    },
    {
     "name": "stdout",
     "output_type": "stream",
     "text": [
      "[(0, 1), (1, 1), (2, 1), (3, 2), (4, 2), (5, 1), (6, 1), (7, 1), (8, 1), (9, 3), (10, 1), (11, 1), (12, 1), (13, 1), (14, 1), (15, 1), (16, 3), (17, 1), (18, 1), (19, 1), (20, 1), (21, 1), (22, 1), (23, 1), (24, 1), (25, 1), (26, 1), (27, 1), (28, 1), (29, 1), (30, 1), (31, 1), (32, 1), (33, 1), (34, 1), (35, 1), (36, 1), (37, 1), (38, 2), (39, 1), (40, 6), (41, 1), (42, 1), (43, 1), (44, 1), (45, 1), (46, 1), (47, 1), (48, 1), (49, 1), (50, 1), (51, 1), (52, 1), (53, 1), (54, 1), (55, 1), (56, 2)]\n",
      "[(38, 1), (40, 2), (57, 1), (58, 1), (59, 1), (60, 1), (61, 3), (62, 1), (63, 1), (64, 1), (65, 1), (66, 1), (67, 2), (68, 1), (69, 1), (70, 4), (71, 1), (72, 1), (73, 1), (74, 1), (75, 2)]\n",
      "[(2, 1), (8, 1), (9, 2), (12, 1), (13, 1), (16, 3), (17, 2), (26, 1), (29, 1), (38, 3), (45, 1), (49, 1), (52, 1), (56, 1), (58, 2), (66, 1), (76, 1), (77, 1), (78, 1), (79, 1), (80, 1), (81, 3), (82, 2), (83, 1), (84, 1), (85, 1), (86, 2), (87, 1), (88, 1), (89, 4), (90, 1), (91, 3), (92, 1), (93, 1), (94, 1), (95, 1), (96, 1), (97, 1), (98, 1), (99, 1), (100, 1), (101, 1), (102, 2), (103, 2), (104, 1), (105, 2), (106, 1), (107, 1), (108, 1), (109, 1), (110, 2), (111, 3), (112, 3), (113, 1), (114, 1), (115, 1), (116, 1), (117, 1), (118, 1), (119, 1), (120, 1), (121, 1), (122, 1), (123, 1), (124, 1), (125, 1), (126, 1)]\n",
      "[(4, 1), (9, 1), (20, 4), (25, 1), (29, 4), (32, 1), (33, 1), (38, 3), (40, 3), (45, 2), (51, 4), (52, 1), (58, 1), (61, 2), (65, 1), (75, 1), (76, 1), (81, 2), (86, 1), (89, 2), (99, 2), (103, 1), (104, 1), (105, 1), (107, 1), (122, 1), (124, 1), (127, 1), (128, 1), (129, 1), (130, 1), (131, 2), (132, 1), (133, 1), (134, 1), (135, 1), (136, 1), (137, 2), (138, 1), (139, 2), (140, 1), (141, 1), (142, 1), (143, 1), (144, 1), (145, 1), (146, 1), (147, 1), (148, 1), (149, 1), (150, 1), (151, 1), (152, 1), (153, 2), (154, 1), (155, 1), (156, 3), (157, 1), (158, 1), (159, 1), (160, 1), (161, 1), (162, 1), (163, 1), (164, 1), (165, 1), (166, 1), (167, 1), (168, 1), (169, 2), (170, 2), (171, 1), (172, 2), (173, 1), (174, 2), (175, 1), (176, 1)]\n",
      "[(10, 1), (13, 1), (14, 1), (38, 1), (79, 1), (81, 1), (86, 1), (88, 2), (89, 2), (90, 1), (93, 1), (103, 1), (107, 1), (113, 1), (114, 1), (125, 1), (126, 1), (140, 2), (152, 1), (172, 1), (177, 1), (178, 1), (179, 1), (180, 1), (181, 1), (182, 1), (183, 1), (184, 1), (185, 2), (186, 1), (187, 1), (188, 1), (189, 2), (190, 1), (191, 1), (192, 1), (193, 1), (194, 3), (195, 1), (196, 1), (197, 3), (198, 1), (199, 3), (200, 1), (201, 1), (202, 1), (203, 1), (204, 1), (205, 1), (206, 1), (207, 1), (208, 1), (209, 1), (210, 1), (211, 1), (212, 1), (213, 1), (214, 1), (215, 4), (216, 1)]\n",
      "[(2, 1), (10, 2), (13, 3), (17, 3), (19, 1), (38, 5), (40, 1), (43, 1), (58, 1), (66, 1), (76, 1), (80, 1), (81, 1), (88, 1), (103, 1), (107, 1), (111, 1), (121, 1), (133, 1), (135, 1), (142, 2), (168, 1), (172, 1), (175, 1), (180, 1), (185, 1), (194, 1), (211, 1), (217, 1), (218, 1), (219, 2), (220, 1), (221, 1), (222, 1), (223, 1), (224, 1), (225, 1), (226, 1), (227, 2), (228, 1), (229, 1), (230, 2), (231, 1), (232, 1), (233, 1), (234, 1), (235, 1), (236, 1), (237, 1), (238, 2), (239, 1), (240, 1), (241, 1), (242, 1), (243, 1)]\n",
      "[(7, 1), (14, 1), (26, 1), (45, 1), (49, 1), (52, 1), (58, 1), (61, 1), (81, 2), (84, 1), (89, 3), (90, 3), (107, 1), (117, 1), (127, 2), (133, 1), (136, 1), (140, 1), (156, 1), (168, 1), (169, 1), (185, 1), (208, 2), (211, 1), (229, 1), (237, 1), (244, 1), (245, 1), (246, 1), (247, 1), (248, 1), (249, 1), (250, 1), (251, 1), (252, 1), (253, 1), (254, 1), (255, 1), (256, 1), (257, 1), (258, 1), (259, 1), (260, 1), (261, 1), (262, 1), (263, 1), (264, 1), (265, 1), (266, 1), (267, 1), (268, 1), (269, 1), (270, 1), (271, 2), (272, 1), (273, 1), (274, 1), (275, 1), (276, 1), (277, 1), (278, 1), (279, 1), (280, 1), (281, 1), (282, 1)]\n",
      "[(2, 2), (12, 1), (16, 1), (25, 1), (32, 1), (38, 1), (52, 2), (58, 3), (62, 1), (66, 1), (68, 1), (81, 2), (84, 1), (89, 2), (103, 1), (127, 1), (142, 1), (144, 1), (150, 1), (155, 1), (158, 1), (169, 1), (182, 1), (197, 1), (258, 1), (259, 1), (269, 1), (278, 1), (280, 1), (282, 1), (283, 1), (284, 1), (285, 1), (286, 1), (287, 1), (288, 1), (289, 1), (290, 1), (291, 1), (292, 1), (293, 1), (294, 2), (295, 1), (296, 1), (297, 1), (298, 1), (299, 1), (300, 1), (301, 1), (302, 1), (303, 2), (304, 1)]\n",
      "[(3, 1), (14, 2), (16, 3), (38, 2), (49, 1), (58, 1), (81, 1), (89, 1), (90, 1), (119, 1), (127, 1), (142, 1), (168, 3), (181, 2), (214, 1), (277, 3), (305, 1), (306, 1), (307, 1), (308, 1), (309, 2), (310, 1), (311, 1), (312, 1), (313, 1), (314, 1), (315, 2), (316, 1), (317, 1)]\n",
      "[(8, 1), (9, 1), (14, 1), (16, 2), (38, 1), (58, 1), (76, 1), (81, 1), (89, 2), (90, 1), (96, 2), (107, 3), (127, 2), (129, 1), (168, 3), (205, 1), (207, 1), (211, 1), (214, 2), (252, 1), (318, 1), (319, 1), (320, 1), (321, 1), (322, 1), (323, 1), (324, 1), (325, 1), (326, 2), (327, 1), (328, 1), (329, 1), (330, 1), (331, 1), (332, 1), (333, 1), (334, 1), (335, 1), (336, 1), (337, 1), (338, 1), (339, 1), (340, 1)]\n",
      "[(38, 1), (341, 1), (342, 1)]\n",
      "[(13, 1), (14, 1), (16, 1), (38, 1), (40, 3), (49, 1), (52, 1), (61, 1), (88, 1), (89, 2), (133, 1), (135, 2), (140, 1), (147, 1), (152, 1), (188, 2), (194, 1), (197, 1), (230, 1), (234, 1), (281, 1), (343, 1), (344, 1), (345, 1), (346, 1), (347, 1), (348, 1), (349, 1), (350, 1), (351, 1), (352, 1), (353, 1), (354, 1), (355, 1), (356, 1), (357, 1), (358, 1), (359, 1), (360, 3), (361, 1), (362, 1)]\n",
      "[(28, 1), (38, 1), (58, 1), (86, 2), (88, 6), (98, 2), (111, 1), (112, 2), (116, 1), (133, 1), (176, 3), (194, 3), (215, 1), (225, 3), (237, 4), (291, 1), (321, 2), (363, 1), (364, 1), (365, 1), (366, 2), (367, 1), (368, 1), (369, 1), (370, 1), (371, 1), (372, 2), (373, 1), (374, 1), (375, 1), (376, 2), (377, 1), (378, 1), (379, 2), (380, 1)]\n",
      "[(2, 2), (16, 6), (29, 1), (32, 1), (38, 12), (40, 1), (49, 8), (58, 7), (61, 3), (81, 2), (89, 2), (97, 1), (103, 3), (107, 1), (122, 1), (127, 3), (129, 1), (131, 1), (133, 1), (142, 2), (144, 1), (148, 3), (156, 1), (171, 1), (172, 1), (176, 3), (194, 4), (198, 1), (202, 1), (219, 3), (231, 2), (235, 1), (252, 1), (260, 1), (267, 1), (286, 2), (317, 1), (322, 1), (324, 2), (349, 1), (361, 1), (381, 1), (382, 1), (383, 1), (384, 1), (385, 2), (386, 1), (387, 1), (388, 1), (389, 1), (390, 2), (391, 1), (392, 1), (393, 3), (394, 2), (395, 3), (396, 1), (397, 3), (398, 2), (399, 2), (400, 1), (401, 1), (402, 2), (403, 1), (404, 5), (405, 2), (406, 2), (407, 3), (408, 1), (409, 1), (410, 4), (411, 1), (412, 1), (413, 1), (414, 1), (415, 2), (416, 1), (417, 1), (418, 1), (419, 2), (420, 1), (421, 1), (422, 1), (423, 1), (424, 1), (425, 1), (426, 1), (427, 2), (428, 1), (429, 1), (430, 1), (431, 1), (432, 1), (433, 1), (434, 1), (435, 1), (436, 1), (437, 1)]\n",
      "[(2, 1), (9, 4), (10, 7), (13, 1), (14, 1), (22, 2), (32, 2), (38, 7), (49, 1), (52, 1), (58, 1), (61, 1), (66, 1), (68, 2), (80, 1), (81, 1), (87, 1), (98, 2), (103, 3), (122, 2), (128, 1), (133, 1), (142, 1), (150, 2), (159, 1), (172, 2), (176, 1), (181, 2), (194, 3), (197, 1), (208, 2), (215, 1), (229, 2), (238, 1), (243, 1), (261, 1), (306, 1), (307, 1), (334, 1), (366, 1), (434, 7), (438, 1), (439, 1), (440, 1), (441, 1), (442, 2), (443, 1), (444, 1), (445, 1), (446, 1), (447, 1), (448, 4), (449, 2), (450, 1), (451, 1), (452, 4), (453, 1), (454, 1), (455, 1), (456, 1), (457, 1), (458, 2), (459, 2), (460, 1), (461, 1), (462, 2), (463, 1)]\n",
      "[(10, 2), (38, 4), (49, 2), (58, 1), (66, 1), (75, 1), (80, 1), (81, 1), (88, 1), (98, 1), (103, 1), (133, 1), (142, 1), (152, 1), (169, 1), (175, 1), (194, 1), (197, 1), (214, 1), (243, 1), (246, 2), (281, 1), (282, 1), (421, 1), (434, 4), (448, 1), (452, 1), (461, 1), (464, 1), (465, 1), (466, 1), (467, 1), (468, 1), (469, 1), (470, 1), (471, 4), (472, 1), (473, 1), (474, 1), (475, 1), (476, 1), (477, 2), (478, 1), (479, 2), (480, 3), (481, 2)]\n",
      "[(10, 2), (12, 1), (22, 1), (28, 1), (38, 1), (39, 2), (40, 2), (58, 1), (66, 1), (67, 1), (81, 3), (89, 3), (103, 1), (127, 1), (136, 1), (142, 1), (158, 1), (160, 1), (168, 1), (172, 1), (181, 1), (197, 1), (202, 1), (215, 1), (235, 3), (307, 2), (324, 3), (410, 1), (426, 2), (477, 3), (482, 1), (483, 1), (484, 2), (485, 1), (486, 1), (487, 1), (488, 1), (489, 1), (490, 2), (491, 2), (492, 1), (493, 1), (494, 1), (495, 1), (496, 1), (497, 1), (498, 2), (499, 1), (500, 1), (501, 3), (502, 1)]\n",
      "[(61, 1), (66, 1), (88, 2), (103, 1), (114, 1), (124, 1), (132, 1), (138, 1), (147, 1), (165, 1), (208, 1), (215, 1), (234, 1), (255, 1), (281, 1), (286, 1), (370, 1), (404, 1), (503, 1), (504, 1), (505, 1), (506, 1), (507, 1), (508, 1), (509, 1), (510, 1), (511, 1), (512, 1), (513, 1), (514, 1), (515, 1), (516, 1), (517, 1), (518, 1), (519, 1), (520, 1), (521, 1), (522, 1), (523, 1), (524, 2), (525, 1), (526, 1), (527, 1), (528, 1), (529, 1), (530, 1), (531, 1), (532, 1), (533, 2), (534, 1), (535, 1), (536, 1), (537, 1), (538, 1), (539, 1), (540, 1), (541, 1), (542, 1), (543, 2), (544, 1), (545, 1), (546, 1), (547, 1)]\n",
      "[(38, 1), (147, 1), (513, 1), (520, 1), (548, 1), (549, 1), (550, 1), (551, 1)]\n"
     ]
    }
   ],
   "source": [
    "corpus = [dictionary.doc2bow(text) for text in texts]\n",
    "corpora.MmCorpus.serialize(os.path.join(TEMP_FOLDER, 'execsUnCertaintext.mm'), corpus)  # store to disk, for later use\n",
    "#for c in corpus:\n",
    "#    print(c)"
   ]
  },
  {
   "cell_type": "code",
   "execution_count": 92,
   "metadata": {
    "collapsed": false
   },
   "outputs": [
    {
     "name": "stderr",
     "output_type": "stream",
     "text": [
      "2017-06-16 11:54:11,280 : INFO : collecting document frequencies\n",
      "2017-06-16 11:54:11,282 : INFO : PROGRESS: processing document #0\n",
      "2017-06-16 11:54:11,283 : INFO : calculating IDF weights for 19 documents and 551 features (938 matrix non-zeros)\n"
     ]
    }
   ],
   "source": [
    "tf_idf = models.TfidfModel(corpus)"
   ]
  },
  {
   "cell_type": "code",
   "execution_count": 93,
   "metadata": {
    "collapsed": false
   },
   "outputs": [
    {
     "name": "stdout",
     "output_type": "stream",
     "text": [
      "TfidfModel(num_docs=19, num_nnz=938)\n"
     ]
    }
   ],
   "source": [
    "print(tf_idf)"
   ]
  },
  {
   "cell_type": "code",
   "execution_count": 95,
   "metadata": {
    "collapsed": false
   },
   "outputs": [
    {
     "name": "stderr",
     "output_type": "stream",
     "text": [
      "2017-06-16 12:05:48,565 : INFO : starting similarity index under c:\\users\\tomd\\appdata\\local\\temp\n"
     ]
    },
    {
     "name": "stdout",
     "output_type": "stream",
     "text": [
      "Similarity index with 19 documents in 0 shards (stored under c:\\users\\tomd\\appdata\\local\\temp)\n"
     ]
    }
   ],
   "source": [
    "simer = similarities.Similarity(TEMP_FOLDER,tf_idf[corpus],\n",
    "                                      num_features=len(dictionary))\n",
    "print(simer)"
   ]
  },
  {
   "cell_type": "code",
   "execution_count": 100,
   "metadata": {
    "collapsed": false
   },
   "outputs": [],
   "source": [
    "#sims = index[tf_idf[]]\n",
    "#print(list(enumerate(sims)))"
   ]
  },
  {
   "cell_type": "code",
   "execution_count": 78,
   "metadata": {
    "collapsed": false,
    "scrolled": true
   },
   "outputs": [
    {
     "name": "stderr",
     "output_type": "stream",
     "text": [
      "2017-06-14 22:23:42,561 : INFO : using symmetric alpha at 0.142857142857\n",
      "2017-06-14 22:23:42,562 : INFO : using symmetric eta at 0.0018115942029\n",
      "2017-06-14 22:23:42,563 : INFO : using serial LDA version on this node\n",
      "2017-06-14 22:23:42,631 : INFO : running online LDA training, 7 topics, 100 passes over the supplied corpus of 19 documents, updating model once every 19 documents, evaluating perplexity every 19 documents, iterating 50x with a convergence threshold of 0.001000\n",
      "2017-06-14 22:23:42,798 : INFO : -9.596 per-word bound, 774.0 perplexity estimate based on a held-out corpus of 19 documents with 1270 words\n",
      "2017-06-14 22:23:42,799 : INFO : PROGRESS: pass 0, at document #19/19\n",
      "2017-06-14 22:23:42,858 : INFO : topic #4 (0.143): 0.024*\"business\" + 0.017*\"beer\" + 0.017*\"reflective\" + 0.014*\"'s\" + 0.012*\"would\" + 0.012*\"wine\" + 0.011*\"iri\" + 0.011*\"quarter\" + 0.010*\"probably\" + 0.010*\"think\"\n",
      "2017-06-14 22:23:42,859 : INFO : topic #0 (0.143): 0.019*\"'s\" + 0.019*\"would\" + 0.015*\"really\" + 0.012*\"say\" + 0.012*\"kind\" + 0.012*\"beer\" + 0.011*\"sort\" + 0.011*\"quarter\" + 0.010*\"hot\" + 0.010*\"n't\"\n",
      "2017-06-14 22:23:42,861 : INFO : topic #5 (0.143): 0.017*\"brand\" + 0.017*\"'s\" + 0.015*\"would\" + 0.012*\"n't\" + 0.011*\"margins\" + 0.011*\"business\" + 0.011*\"really\" + 0.011*\"say\" + 0.010*\"yes\" + 0.009*\"expect\"\n",
      "2017-06-14 22:23:42,861 : INFO : topic #1 (0.143): 0.043*\"'s\" + 0.024*\"think\" + 0.022*\"like\" + 0.014*\"really\" + 0.014*\"distribution\" + 0.014*\"say\" + 0.014*\"growth\" + 0.014*\"okay\" + 0.013*\"would\" + 0.012*\"beer\"\n",
      "2017-06-14 22:23:42,864 : INFO : topic #3 (0.143): 0.032*\"'s\" + 0.020*\"distribution\" + 0.017*\"growth\" + 0.013*\"business\" + 0.012*\"beer\" + 0.012*\"okay\" + 0.011*\"say\" + 0.010*\"brands\" + 0.009*\"modelo\" + 0.009*\"think\"\n",
      "2017-06-14 22:23:42,865 : INFO : topic diff=3.494540, rho=1.000000\n",
      "2017-06-14 22:23:42,927 : INFO : -6.821 per-word bound, 113.1 perplexity estimate based on a held-out corpus of 19 documents with 1270 words\n",
      "2017-06-14 22:23:42,928 : INFO : PROGRESS: pass 1, at document #19/19\n",
      "2017-06-14 22:23:42,973 : INFO : topic #2 (0.143): 0.031*\"test\" + 0.026*\"well\" + 0.020*\"brand\" + 0.017*\"basically\" + 0.017*\"advertising\" + 0.013*\"'s\" + 0.011*\"think\" + 0.010*\"'re\" + 0.009*\"extremely\" + 0.009*\"back\"\n",
      "2017-06-14 22:23:42,973 : INFO : topic #1 (0.143): 0.043*\"'s\" + 0.026*\"think\" + 0.023*\"like\" + 0.015*\"say\" + 0.014*\"really\" + 0.014*\"would\" + 0.014*\"okay\" + 0.013*\"distribution\" + 0.012*\"beer\" + 0.011*\"sort\"\n",
      "2017-06-14 22:23:42,976 : INFO : topic #6 (0.143): 0.026*\"'s\" + 0.025*\"really\" + 0.022*\"brand\" + 0.019*\"brands\" + 0.016*\"would\" + 0.013*\"kind\" + 0.011*\"n't\" + 0.011*\"say\" + 0.010*\"interested\" + 0.010*\"ago\"\n",
      "2017-06-14 22:23:42,976 : INFO : topic #5 (0.143): 0.018*\"would\" + 0.018*\"brand\" + 0.015*\"'s\" + 0.014*\"n't\" + 0.012*\"say\" + 0.012*\"really\" + 0.011*\"business\" + 0.011*\"margins\" + 0.010*\"yes\" + 0.009*\"craft\"\n",
      "2017-06-14 22:23:42,977 : INFO : topic #0 (0.143): 0.019*\"would\" + 0.018*\"'s\" + 0.014*\"hot\" + 0.013*\"quarter\" + 0.013*\"say\" + 0.012*\"pinot\" + 0.012*\"noir\" + 0.012*\"beer\" + 0.010*\"affected\" + 0.010*\"said\"\n",
      "2017-06-14 22:23:42,979 : INFO : topic diff=0.546384, rho=0.577350\n",
      "2017-06-14 22:23:43,043 : INFO : -6.519 per-word bound, 91.7 perplexity estimate based on a held-out corpus of 19 documents with 1270 words\n",
      "2017-06-14 22:23:43,045 : INFO : PROGRESS: pass 2, at document #19/19\n",
      "2017-06-14 22:23:43,088 : INFO : topic #0 (0.143): 0.017*\"would\" + 0.017*\"'s\" + 0.015*\"hot\" + 0.015*\"quarter\" + 0.014*\"pinot\" + 0.014*\"noir\" + 0.013*\"say\" + 0.012*\"beer\" + 0.011*\"affected\" + 0.011*\"said\"\n",
      "2017-06-14 22:23:43,089 : INFO : topic #3 (0.143): 0.041*\"'s\" + 0.030*\"growth\" + 0.027*\"distribution\" + 0.016*\"okay\" + 0.015*\"modelo\" + 0.015*\"brands\" + 0.014*\"beer\" + 0.014*\"portfolio\" + 0.014*\"especial\" + 0.010*\"mean\"\n",
      "2017-06-14 22:23:43,092 : INFO : topic #6 (0.143): 0.027*\"'s\" + 0.026*\"really\" + 0.021*\"brand\" + 0.020*\"brands\" + 0.018*\"would\" + 0.013*\"kind\" + 0.012*\"say\" + 0.011*\"n't\" + 0.010*\"interested\" + 0.010*\"ago\"\n",
      "2017-06-14 22:23:43,092 : INFO : topic #5 (0.143): 0.019*\"would\" + 0.018*\"brand\" + 0.014*\"n't\" + 0.014*\"'s\" + 0.013*\"say\" + 0.013*\"really\" + 0.011*\"business\" + 0.010*\"margins\" + 0.010*\"yes\" + 0.010*\"craft\"\n",
      "2017-06-14 22:23:43,095 : INFO : topic #1 (0.143): 0.041*\"'s\" + 0.026*\"think\" + 0.024*\"like\" + 0.016*\"say\" + 0.015*\"really\" + 0.015*\"would\" + 0.013*\"okay\" + 0.012*\"sort\" + 0.012*\"distribution\" + 0.012*\"beer\"\n",
      "2017-06-14 22:23:43,095 : INFO : topic diff=0.376083, rho=0.500000\n",
      "2017-06-14 22:23:43,160 : INFO : -6.378 per-word bound, 83.2 perplexity estimate based on a held-out corpus of 19 documents with 1270 words\n",
      "2017-06-14 22:23:43,160 : INFO : PROGRESS: pass 3, at document #19/19\n",
      "2017-06-14 22:23:43,203 : INFO : topic #3 (0.143): 0.043*\"'s\" + 0.033*\"growth\" + 0.027*\"distribution\" + 0.016*\"okay\" + 0.015*\"modelo\" + 0.015*\"brands\" + 0.015*\"beer\" + 0.015*\"portfolio\" + 0.015*\"especial\" + 0.011*\"mean\"\n",
      "2017-06-14 22:23:43,203 : INFO : topic #1 (0.143): 0.040*\"'s\" + 0.027*\"think\" + 0.024*\"like\" + 0.016*\"say\" + 0.015*\"really\" + 0.015*\"would\" + 0.013*\"sort\" + 0.012*\"okay\" + 0.012*\"distribution\" + 0.012*\"beer\"\n",
      "2017-06-14 22:23:43,206 : INFO : topic #5 (0.143): 0.019*\"would\" + 0.017*\"brand\" + 0.014*\"n't\" + 0.014*\"'s\" + 0.013*\"say\" + 0.013*\"really\" + 0.010*\"business\" + 0.010*\"margins\" + 0.010*\"yes\" + 0.010*\"craft\"\n",
      "2017-06-14 22:23:43,207 : INFO : topic #6 (0.143): 0.027*\"'s\" + 0.027*\"really\" + 0.021*\"brand\" + 0.020*\"brands\" + 0.019*\"would\" + 0.013*\"kind\" + 0.013*\"say\" + 0.011*\"n't\" + 0.010*\"interested\" + 0.010*\"ago\"\n",
      "2017-06-14 22:23:43,209 : INFO : topic #2 (0.143): 0.036*\"test\" + 0.028*\"well\" + 0.020*\"brand\" + 0.019*\"basically\" + 0.019*\"advertising\" + 0.011*\"'s\" + 0.011*\"think\" + 0.010*\"'re\" + 0.010*\"extremely\" + 0.010*\"back\"\n",
      "2017-06-14 22:23:43,210 : INFO : topic diff=0.236523, rho=0.447214\n",
      "2017-06-14 22:23:43,273 : INFO : -6.324 per-word bound, 80.1 perplexity estimate based on a held-out corpus of 19 documents with 1270 words\n",
      "2017-06-14 22:23:43,275 : INFO : PROGRESS: pass 4, at document #19/19\n",
      "2017-06-14 22:23:43,315 : INFO : topic #3 (0.143): 0.045*\"'s\" + 0.034*\"growth\" + 0.027*\"distribution\" + 0.016*\"okay\" + 0.016*\"modelo\" + 0.015*\"brands\" + 0.015*\"beer\" + 0.015*\"portfolio\" + 0.015*\"especial\" + 0.012*\"mean\"\n",
      "2017-06-14 22:23:43,318 : INFO : topic #5 (0.143): 0.020*\"would\" + 0.017*\"brand\" + 0.014*\"n't\" + 0.014*\"'s\" + 0.013*\"say\" + 0.013*\"really\" + 0.010*\"business\" + 0.010*\"margins\" + 0.010*\"yes\" + 0.010*\"craft\"\n",
      "2017-06-14 22:23:43,319 : INFO : topic #2 (0.143): 0.037*\"test\" + 0.029*\"well\" + 0.020*\"brand\" + 0.019*\"basically\" + 0.019*\"advertising\" + 0.011*\"'s\" + 0.011*\"think\" + 0.010*\"'re\" + 0.010*\"extremely\" + 0.010*\"back\"\n",
      "2017-06-14 22:23:43,321 : INFO : topic #4 (0.143): 0.043*\"business\" + 0.029*\"reflective\" + 0.023*\"beer\" + 0.022*\"wine\" + 0.022*\"iri\" + 0.015*\"probably\" + 0.015*\"category\" + 0.015*\"categories\" + 0.015*\"market\" + 0.015*\"premise\"\n",
      "2017-06-14 22:23:43,322 : INFO : topic #0 (0.143): 0.017*\"would\" + 0.016*\"'s\" + 0.016*\"hot\" + 0.016*\"quarter\" + 0.015*\"pinot\" + 0.015*\"noir\" + 0.012*\"say\" + 0.012*\"beer\" + 0.012*\"affected\" + 0.012*\"said\"\n",
      "2017-06-14 22:23:43,323 : INFO : topic diff=0.148753, rho=0.408248\n",
      "2017-06-14 22:23:43,388 : INFO : -6.303 per-word bound, 79.0 perplexity estimate based on a held-out corpus of 19 documents with 1270 words\n",
      "2017-06-14 22:23:43,390 : INFO : PROGRESS: pass 5, at document #19/19\n",
      "2017-06-14 22:23:43,433 : INFO : topic #5 (0.143): 0.020*\"would\" + 0.017*\"brand\" + 0.014*\"n't\" + 0.014*\"'s\" + 0.013*\"say\" + 0.013*\"really\" + 0.010*\"business\" + 0.010*\"margins\" + 0.010*\"yes\" + 0.010*\"craft\"\n",
      "2017-06-14 22:23:43,434 : INFO : topic #1 (0.143): 0.039*\"'s\" + 0.027*\"think\" + 0.025*\"like\" + 0.016*\"say\" + 0.016*\"really\" + 0.016*\"would\" + 0.013*\"sort\" + 0.012*\"okay\" + 0.012*\"distribution\" + 0.012*\"beer\"\n",
      "2017-06-14 22:23:43,437 : INFO : topic #6 (0.143): 0.027*\"'s\" + 0.027*\"really\" + 0.020*\"brand\" + 0.020*\"brands\" + 0.020*\"would\" + 0.014*\"kind\" + 0.013*\"say\" + 0.010*\"n't\" + 0.010*\"interested\" + 0.010*\"ago\"\n",
      "2017-06-14 22:23:43,437 : INFO : topic #3 (0.143): 0.045*\"'s\" + 0.034*\"growth\" + 0.027*\"distribution\" + 0.016*\"okay\" + 0.016*\"modelo\" + 0.016*\"brands\" + 0.016*\"beer\" + 0.016*\"portfolio\" + 0.016*\"especial\" + 0.012*\"mean\"\n",
      "2017-06-14 22:23:43,438 : INFO : topic #0 (0.143): 0.016*\"would\" + 0.016*\"'s\" + 0.016*\"hot\" + 0.016*\"quarter\" + 0.016*\"pinot\" + 0.016*\"noir\" + 0.012*\"say\" + 0.012*\"beer\" + 0.012*\"affected\" + 0.012*\"said\"\n",
      "2017-06-14 22:23:43,440 : INFO : topic diff=0.095185, rho=0.377964\n",
      "2017-06-14 22:23:43,503 : INFO : -6.294 per-word bound, 78.5 perplexity estimate based on a held-out corpus of 19 documents with 1270 words\n",
      "2017-06-14 22:23:43,503 : INFO : PROGRESS: pass 6, at document #19/19\n",
      "2017-06-14 22:23:43,546 : INFO : topic #0 (0.143): 0.016*\"would\" + 0.016*\"'s\" + 0.016*\"hot\" + 0.016*\"quarter\" + 0.016*\"pinot\" + 0.016*\"noir\" + 0.012*\"say\" + 0.012*\"beer\" + 0.012*\"affected\" + 0.012*\"said\"\n",
      "2017-06-14 22:23:43,546 : INFO : topic #4 (0.143): 0.044*\"business\" + 0.030*\"reflective\" + 0.023*\"beer\" + 0.023*\"wine\" + 0.023*\"iri\" + 0.016*\"probably\" + 0.016*\"category\" + 0.015*\"categories\" + 0.015*\"market\" + 0.015*\"premise\"\n",
      "2017-06-14 22:23:43,549 : INFO : topic #3 (0.143): 0.046*\"'s\" + 0.034*\"growth\" + 0.027*\"distribution\" + 0.016*\"okay\" + 0.016*\"modelo\" + 0.016*\"brands\" + 0.016*\"beer\" + 0.016*\"portfolio\" + 0.016*\"especial\" + 0.012*\"mean\"\n",
      "2017-06-14 22:23:43,549 : INFO : topic #1 (0.143): 0.039*\"'s\" + 0.027*\"think\" + 0.025*\"like\" + 0.016*\"say\" + 0.016*\"really\" + 0.016*\"would\" + 0.013*\"sort\" + 0.012*\"okay\" + 0.012*\"distribution\" + 0.011*\"beer\"\n",
      "2017-06-14 22:23:43,552 : INFO : topic #6 (0.143): 0.027*\"'s\" + 0.027*\"really\" + 0.020*\"brand\" + 0.020*\"brands\" + 0.020*\"would\" + 0.014*\"kind\" + 0.013*\"say\" + 0.010*\"n't\" + 0.010*\"interested\" + 0.010*\"ago\"\n",
      "2017-06-14 22:23:43,552 : INFO : topic diff=0.061727, rho=0.353553\n",
      "2017-06-14 22:23:43,618 : INFO : -6.290 per-word bound, 78.3 perplexity estimate based on a held-out corpus of 19 documents with 1270 words\n",
      "2017-06-14 22:23:43,618 : INFO : PROGRESS: pass 7, at document #19/19\n",
      "2017-06-14 22:23:43,661 : INFO : topic #1 (0.143): 0.038*\"'s\" + 0.027*\"think\" + 0.025*\"like\" + 0.016*\"say\" + 0.016*\"really\" + 0.016*\"would\" + 0.014*\"sort\" + 0.012*\"okay\" + 0.011*\"distribution\" + 0.011*\"beer\"\n",
      "2017-06-14 22:23:43,663 : INFO : topic #5 (0.143): 0.020*\"would\" + 0.017*\"brand\" + 0.014*\"n't\" + 0.014*\"'s\" + 0.013*\"say\" + 0.013*\"really\" + 0.010*\"business\" + 0.010*\"margins\" + 0.010*\"yes\" + 0.010*\"craft\"\n",
      "2017-06-14 22:23:43,664 : INFO : topic #2 (0.143): 0.038*\"test\" + 0.029*\"well\" + 0.020*\"brand\" + 0.020*\"basically\" + 0.020*\"advertising\" + 0.011*\"'s\" + 0.011*\"think\" + 0.011*\"'re\" + 0.011*\"extremely\" + 0.010*\"back\"\n",
      "2017-06-14 22:23:43,664 : INFO : topic #0 (0.143): 0.016*\"would\" + 0.016*\"'s\" + 0.016*\"hot\" + 0.016*\"quarter\" + 0.016*\"pinot\" + 0.016*\"noir\" + 0.012*\"say\" + 0.012*\"beer\" + 0.012*\"affected\" + 0.012*\"said\"\n",
      "2017-06-14 22:23:43,667 : INFO : topic #4 (0.143): 0.045*\"business\" + 0.030*\"reflective\" + 0.023*\"beer\" + 0.023*\"wine\" + 0.023*\"iri\" + 0.016*\"probably\" + 0.016*\"category\" + 0.016*\"categories\" + 0.016*\"market\" + 0.016*\"premise\"\n",
      "2017-06-14 22:23:43,668 : INFO : topic diff=0.040589, rho=0.333333\n",
      "2017-06-14 22:23:43,732 : INFO : -6.289 per-word bound, 78.2 perplexity estimate based on a held-out corpus of 19 documents with 1270 words\n",
      "2017-06-14 22:23:43,733 : INFO : PROGRESS: pass 8, at document #19/19\n",
      "2017-06-14 22:23:43,773 : INFO : topic #3 (0.143): 0.046*\"'s\" + 0.035*\"growth\" + 0.027*\"distribution\" + 0.016*\"okay\" + 0.016*\"modelo\" + 0.016*\"brands\" + 0.016*\"beer\" + 0.016*\"portfolio\" + 0.016*\"especial\" + 0.012*\"mean\"\n",
      "2017-06-14 22:23:43,776 : INFO : topic #1 (0.143): 0.038*\"'s\" + 0.027*\"think\" + 0.025*\"like\" + 0.016*\"say\" + 0.016*\"really\" + 0.016*\"would\" + 0.014*\"sort\" + 0.012*\"okay\" + 0.011*\"distribution\" + 0.011*\"beer\"\n",
      "2017-06-14 22:23:43,778 : INFO : topic #5 (0.143): 0.020*\"would\" + 0.017*\"brand\" + 0.014*\"n't\" + 0.014*\"'s\" + 0.014*\"say\" + 0.014*\"really\" + 0.010*\"business\" + 0.010*\"margins\" + 0.010*\"yes\" + 0.010*\"craft\"\n",
      "2017-06-14 22:23:43,779 : INFO : topic #4 (0.143): 0.045*\"business\" + 0.030*\"reflective\" + 0.023*\"beer\" + 0.023*\"wine\" + 0.023*\"iri\" + 0.016*\"probably\" + 0.016*\"category\" + 0.016*\"categories\" + 0.016*\"market\" + 0.016*\"premise\"\n",
      "2017-06-14 22:23:43,779 : INFO : topic #0 (0.143): 0.016*\"would\" + 0.016*\"'s\" + 0.016*\"hot\" + 0.016*\"quarter\" + 0.016*\"pinot\" + 0.016*\"noir\" + 0.012*\"say\" + 0.012*\"beer\" + 0.012*\"affected\" + 0.012*\"said\"\n",
      "2017-06-14 22:23:43,780 : INFO : topic diff=0.027079, rho=0.316228\n",
      "2017-06-14 22:23:43,845 : INFO : -6.288 per-word bound, 78.1 perplexity estimate based on a held-out corpus of 19 documents with 1270 words\n",
      "2017-06-14 22:23:43,848 : INFO : PROGRESS: pass 9, at document #19/19\n",
      "2017-06-14 22:23:43,888 : INFO : topic #0 (0.143): 0.016*\"would\" + 0.016*\"'s\" + 0.016*\"hot\" + 0.016*\"quarter\" + 0.016*\"pinot\" + 0.016*\"noir\" + 0.012*\"say\" + 0.012*\"beer\" + 0.012*\"affected\" + 0.012*\"said\"\n",
      "2017-06-14 22:23:43,890 : INFO : topic #1 (0.143): 0.038*\"'s\" + 0.027*\"think\" + 0.025*\"like\" + 0.016*\"say\" + 0.016*\"really\" + 0.016*\"would\" + 0.014*\"sort\" + 0.011*\"okay\" + 0.011*\"distribution\" + 0.011*\"beer\"\n",
      "2017-06-14 22:23:43,891 : INFO : topic #2 (0.143): 0.038*\"test\" + 0.029*\"well\" + 0.020*\"brand\" + 0.020*\"basically\" + 0.020*\"advertising\" + 0.011*\"'s\" + 0.011*\"think\" + 0.011*\"'re\" + 0.011*\"extremely\" + 0.011*\"back\"\n",
      "2017-06-14 22:23:43,892 : INFO : topic #4 (0.143): 0.045*\"business\" + 0.030*\"reflective\" + 0.023*\"beer\" + 0.023*\"wine\" + 0.023*\"iri\" + 0.016*\"probably\" + 0.016*\"category\" + 0.016*\"categories\" + 0.016*\"market\" + 0.016*\"premise\"\n",
      "2017-06-14 22:23:43,894 : INFO : topic #5 (0.143): 0.020*\"would\" + 0.017*\"brand\" + 0.014*\"n't\" + 0.014*\"'s\" + 0.014*\"say\" + 0.014*\"really\" + 0.010*\"business\" + 0.010*\"margins\" + 0.010*\"yes\" + 0.010*\"craft\"\n",
      "2017-06-14 22:23:43,894 : INFO : topic diff=0.018333, rho=0.301511\n",
      "2017-06-14 22:23:43,959 : INFO : -6.287 per-word bound, 78.1 perplexity estimate based on a held-out corpus of 19 documents with 1270 words\n",
      "2017-06-14 22:23:43,960 : INFO : PROGRESS: pass 10, at document #19/19\n",
      "2017-06-14 22:23:44,000 : INFO : topic #5 (0.143): 0.020*\"would\" + 0.017*\"brand\" + 0.014*\"n't\" + 0.014*\"'s\" + 0.014*\"say\" + 0.014*\"really\" + 0.010*\"business\" + 0.010*\"margins\" + 0.010*\"yes\" + 0.010*\"craft\"\n",
      "2017-06-14 22:23:44,003 : INFO : topic #2 (0.143): 0.038*\"test\" + 0.029*\"well\" + 0.020*\"brand\" + 0.020*\"basically\" + 0.020*\"advertising\" + 0.011*\"'s\" + 0.011*\"think\" + 0.011*\"'re\" + 0.011*\"extremely\" + 0.011*\"back\"\n",
      "2017-06-14 22:23:44,005 : INFO : topic #0 (0.143): 0.016*\"would\" + 0.016*\"'s\" + 0.016*\"hot\" + 0.016*\"quarter\" + 0.016*\"pinot\" + 0.016*\"noir\" + 0.012*\"say\" + 0.012*\"beer\" + 0.012*\"said\" + 0.012*\"affected\"\n",
      "2017-06-14 22:23:44,009 : INFO : topic #6 (0.143): 0.027*\"'s\" + 0.027*\"really\" + 0.020*\"brand\" + 0.020*\"brands\" + 0.020*\"would\" + 0.014*\"kind\" + 0.014*\"say\" + 0.010*\"n't\" + 0.010*\"interested\" + 0.010*\"ago\"\n",
      "2017-06-14 22:23:44,010 : INFO : topic #4 (0.143): 0.045*\"business\" + 0.030*\"reflective\" + 0.023*\"beer\" + 0.023*\"wine\" + 0.023*\"iri\" + 0.016*\"probably\" + 0.016*\"category\" + 0.016*\"categories\" + 0.016*\"market\" + 0.016*\"premise\"\n",
      "2017-06-14 22:23:44,013 : INFO : topic diff=0.012593, rho=0.288675\n",
      "2017-06-14 22:23:44,078 : INFO : -6.287 per-word bound, 78.1 perplexity estimate based on a held-out corpus of 19 documents with 1270 words\n",
      "2017-06-14 22:23:44,079 : INFO : PROGRESS: pass 11, at document #19/19\n",
      "2017-06-14 22:23:44,122 : INFO : topic #4 (0.143): 0.045*\"business\" + 0.030*\"reflective\" + 0.023*\"beer\" + 0.023*\"wine\" + 0.023*\"iri\" + 0.016*\"probably\" + 0.016*\"category\" + 0.016*\"categories\" + 0.016*\"market\" + 0.016*\"premise\"\n",
      "2017-06-14 22:23:44,124 : INFO : topic #1 (0.143): 0.038*\"'s\" + 0.027*\"think\" + 0.025*\"like\" + 0.016*\"say\" + 0.016*\"really\" + 0.016*\"would\" + 0.014*\"sort\" + 0.011*\"okay\" + 0.011*\"distribution\" + 0.011*\"beer\"\n",
      "2017-06-14 22:23:44,125 : INFO : topic #5 (0.143): 0.020*\"would\" + 0.017*\"brand\" + 0.014*\"n't\" + 0.014*\"'s\" + 0.014*\"say\" + 0.014*\"really\" + 0.010*\"business\" + 0.010*\"margins\" + 0.010*\"yes\" + 0.010*\"craft\"\n",
      "2017-06-14 22:23:44,127 : INFO : topic #0 (0.143): 0.016*\"would\" + 0.016*\"'s\" + 0.016*\"hot\" + 0.016*\"quarter\" + 0.016*\"pinot\" + 0.016*\"noir\" + 0.012*\"say\" + 0.012*\"beer\" + 0.012*\"said\" + 0.012*\"affected\"\n",
      "2017-06-14 22:23:44,128 : INFO : topic #6 (0.143): 0.027*\"really\" + 0.027*\"'s\" + 0.020*\"brand\" + 0.020*\"brands\" + 0.020*\"would\" + 0.014*\"kind\" + 0.014*\"say\" + 0.010*\"n't\" + 0.010*\"interested\" + 0.010*\"ago\"\n",
      "2017-06-14 22:23:44,128 : INFO : topic diff=0.008773, rho=0.277350\n",
      "2017-06-14 22:23:44,194 : INFO : -6.287 per-word bound, 78.1 perplexity estimate based on a held-out corpus of 19 documents with 1270 words\n",
      "2017-06-14 22:23:44,194 : INFO : PROGRESS: pass 12, at document #19/19\n",
      "2017-06-14 22:23:44,236 : INFO : topic #1 (0.143): 0.038*\"'s\" + 0.027*\"think\" + 0.025*\"like\" + 0.016*\"say\" + 0.016*\"really\" + 0.016*\"would\" + 0.014*\"sort\" + 0.011*\"okay\" + 0.011*\"distribution\" + 0.011*\"beer\"\n",
      "2017-06-14 22:23:44,239 : INFO : topic #5 (0.143): 0.020*\"would\" + 0.017*\"brand\" + 0.014*\"n't\" + 0.014*\"'s\" + 0.014*\"say\" + 0.014*\"really\" + 0.010*\"business\" + 0.010*\"margins\" + 0.010*\"yes\" + 0.010*\"craft\"\n",
      "2017-06-14 22:23:44,240 : INFO : topic #3 (0.143): 0.046*\"'s\" + 0.035*\"growth\" + 0.027*\"distribution\" + 0.016*\"okay\" + 0.016*\"modelo\" + 0.016*\"brands\" + 0.016*\"beer\" + 0.016*\"portfolio\" + 0.016*\"especial\" + 0.012*\"mean\"\n",
      "2017-06-14 22:23:44,240 : INFO : topic #0 (0.143): 0.016*\"would\" + 0.016*\"'s\" + 0.016*\"hot\" + 0.016*\"quarter\" + 0.016*\"pinot\" + 0.016*\"noir\" + 0.012*\"say\" + 0.012*\"beer\" + 0.012*\"said\" + 0.012*\"affected\"\n",
      "2017-06-14 22:23:44,242 : INFO : topic #2 (0.143): 0.038*\"test\" + 0.029*\"well\" + 0.020*\"brand\" + 0.020*\"basically\" + 0.020*\"advertising\" + 0.011*\"'s\" + 0.011*\"think\" + 0.011*\"'re\" + 0.011*\"extremely\" + 0.011*\"back\"\n",
      "2017-06-14 22:23:44,243 : INFO : topic diff=0.006193, rho=0.267261\n",
      "2017-06-14 22:23:44,305 : INFO : -6.287 per-word bound, 78.1 perplexity estimate based on a held-out corpus of 19 documents with 1270 words\n",
      "2017-06-14 22:23:44,305 : INFO : PROGRESS: pass 13, at document #19/19\n",
      "2017-06-14 22:23:44,346 : INFO : topic #4 (0.143): 0.045*\"business\" + 0.030*\"reflective\" + 0.023*\"beer\" + 0.023*\"wine\" + 0.023*\"iri\" + 0.016*\"probably\" + 0.016*\"category\" + 0.016*\"categories\" + 0.016*\"market\" + 0.016*\"premise\"\n",
      "2017-06-14 22:23:44,348 : INFO : topic #6 (0.143): 0.027*\"really\" + 0.027*\"'s\" + 0.020*\"brand\" + 0.020*\"brands\" + 0.020*\"would\" + 0.014*\"kind\" + 0.014*\"say\" + 0.010*\"n't\" + 0.010*\"interested\" + 0.010*\"ago\"\n",
      "2017-06-14 22:23:44,351 : INFO : topic #2 (0.143): 0.038*\"test\" + 0.029*\"well\" + 0.020*\"brand\" + 0.020*\"basically\" + 0.020*\"advertising\" + 0.011*\"'s\" + 0.011*\"think\" + 0.011*\"'re\" + 0.011*\"extremely\" + 0.011*\"back\"\n",
      "2017-06-14 22:23:44,351 : INFO : topic #1 (0.143): 0.038*\"'s\" + 0.027*\"think\" + 0.025*\"like\" + 0.016*\"say\" + 0.016*\"really\" + 0.016*\"would\" + 0.014*\"sort\" + 0.011*\"okay\" + 0.011*\"distribution\" + 0.011*\"beer\"\n",
      "2017-06-14 22:23:44,352 : INFO : topic #0 (0.143): 0.016*\"would\" + 0.016*\"'s\" + 0.016*\"hot\" + 0.016*\"quarter\" + 0.016*\"pinot\" + 0.016*\"noir\" + 0.012*\"say\" + 0.012*\"beer\" + 0.012*\"said\" + 0.012*\"affected\"\n",
      "2017-06-14 22:23:44,354 : INFO : topic diff=0.004428, rho=0.258199\n",
      "2017-06-14 22:23:44,414 : INFO : -6.287 per-word bound, 78.1 perplexity estimate based on a held-out corpus of 19 documents with 1270 words\n",
      "2017-06-14 22:23:44,415 : INFO : PROGRESS: pass 14, at document #19/19\n",
      "2017-06-14 22:23:44,457 : INFO : topic #0 (0.143): 0.016*\"would\" + 0.016*\"'s\" + 0.016*\"hot\" + 0.016*\"quarter\" + 0.016*\"pinot\" + 0.016*\"noir\" + 0.012*\"say\" + 0.012*\"beer\" + 0.012*\"said\" + 0.012*\"affected\"\n",
      "2017-06-14 22:23:44,459 : INFO : topic #1 (0.143): 0.038*\"'s\" + 0.027*\"think\" + 0.025*\"like\" + 0.016*\"say\" + 0.016*\"really\" + 0.016*\"would\" + 0.014*\"sort\" + 0.011*\"okay\" + 0.011*\"distribution\" + 0.011*\"beer\"\n",
      "2017-06-14 22:23:44,460 : INFO : topic #5 (0.143): 0.020*\"would\" + 0.017*\"brand\" + 0.014*\"n't\" + 0.014*\"'s\" + 0.014*\"say\" + 0.014*\"really\" + 0.010*\"business\" + 0.010*\"margins\" + 0.010*\"yes\" + 0.010*\"craft\"\n",
      "2017-06-14 22:23:44,460 : INFO : topic #4 (0.143): 0.045*\"business\" + 0.030*\"reflective\" + 0.023*\"beer\" + 0.023*\"wine\" + 0.023*\"iri\" + 0.016*\"probably\" + 0.016*\"category\" + 0.016*\"categories\" + 0.016*\"market\" + 0.016*\"premise\"\n",
      "2017-06-14 22:23:44,461 : INFO : topic #3 (0.143): 0.047*\"'s\" + 0.035*\"growth\" + 0.027*\"distribution\" + 0.016*\"okay\" + 0.016*\"modelo\" + 0.016*\"brands\" + 0.016*\"beer\" + 0.016*\"portfolio\" + 0.016*\"especial\" + 0.012*\"mean\"\n",
      "2017-06-14 22:23:44,463 : INFO : topic diff=0.003203, rho=0.250000\n",
      "2017-06-14 22:23:44,523 : INFO : -6.287 per-word bound, 78.1 perplexity estimate based on a held-out corpus of 19 documents with 1270 words\n",
      "2017-06-14 22:23:44,525 : INFO : PROGRESS: pass 15, at document #19/19\n",
      "2017-06-14 22:23:44,565 : INFO : topic #6 (0.143): 0.027*\"really\" + 0.027*\"'s\" + 0.020*\"brand\" + 0.020*\"brands\" + 0.020*\"would\" + 0.014*\"kind\" + 0.014*\"say\" + 0.010*\"n't\" + 0.010*\"interested\" + 0.010*\"ago\"\n",
      "2017-06-14 22:23:44,568 : INFO : topic #4 (0.143): 0.045*\"business\" + 0.030*\"reflective\" + 0.023*\"beer\" + 0.023*\"wine\" + 0.023*\"iri\" + 0.016*\"probably\" + 0.016*\"category\" + 0.016*\"categories\" + 0.016*\"market\" + 0.016*\"premise\"\n",
      "2017-06-14 22:23:44,569 : INFO : topic #5 (0.143): 0.020*\"would\" + 0.017*\"brand\" + 0.014*\"n't\" + 0.014*\"'s\" + 0.014*\"say\" + 0.014*\"really\" + 0.010*\"business\" + 0.010*\"margins\" + 0.010*\"yes\" + 0.010*\"craft\"\n",
      "2017-06-14 22:23:44,571 : INFO : topic #0 (0.143): 0.016*\"would\" + 0.016*\"'s\" + 0.016*\"hot\" + 0.016*\"quarter\" + 0.016*\"pinot\" + 0.016*\"noir\" + 0.012*\"say\" + 0.012*\"beer\" + 0.012*\"said\" + 0.012*\"brand\"\n",
      "2017-06-14 22:23:44,572 : INFO : topic #3 (0.143): 0.047*\"'s\" + 0.035*\"growth\" + 0.027*\"distribution\" + 0.016*\"okay\" + 0.016*\"modelo\" + 0.016*\"brands\" + 0.016*\"beer\" + 0.016*\"portfolio\" + 0.016*\"especial\" + 0.012*\"mean\"\n",
      "2017-06-14 22:23:44,572 : INFO : topic diff=0.002343, rho=0.242536\n",
      "2017-06-14 22:23:44,635 : INFO : -6.287 per-word bound, 78.1 perplexity estimate based on a held-out corpus of 19 documents with 1270 words\n",
      "2017-06-14 22:23:44,637 : INFO : PROGRESS: pass 16, at document #19/19\n",
      "2017-06-14 22:23:44,678 : INFO : topic #6 (0.143): 0.027*\"really\" + 0.027*\"'s\" + 0.020*\"brand\" + 0.020*\"brands\" + 0.020*\"would\" + 0.014*\"kind\" + 0.014*\"say\" + 0.010*\"n't\" + 0.010*\"interested\" + 0.010*\"ago\"\n",
      "2017-06-14 22:23:44,680 : INFO : topic #4 (0.143): 0.045*\"business\" + 0.030*\"reflective\" + 0.023*\"beer\" + 0.023*\"wine\" + 0.023*\"iri\" + 0.016*\"probably\" + 0.016*\"category\" + 0.016*\"categories\" + 0.016*\"market\" + 0.016*\"spirits\"\n",
      "2017-06-14 22:23:44,681 : INFO : topic #0 (0.143): 0.016*\"would\" + 0.016*\"'s\" + 0.016*\"hot\" + 0.016*\"quarter\" + 0.016*\"pinot\" + 0.016*\"noir\" + 0.012*\"say\" + 0.012*\"beer\" + 0.012*\"said\" + 0.012*\"brand\"\n",
      "2017-06-14 22:23:44,683 : INFO : topic #2 (0.143): 0.038*\"test\" + 0.029*\"well\" + 0.020*\"brand\" + 0.020*\"basically\" + 0.020*\"advertising\" + 0.011*\"'s\" + 0.011*\"think\" + 0.011*\"'re\" + 0.011*\"extremely\" + 0.011*\"back\"\n",
      "2017-06-14 22:23:44,684 : INFO : topic #3 (0.143): 0.047*\"'s\" + 0.035*\"growth\" + 0.027*\"distribution\" + 0.016*\"okay\" + 0.016*\"modelo\" + 0.016*\"brands\" + 0.016*\"beer\" + 0.016*\"portfolio\" + 0.016*\"especial\" + 0.012*\"mean\"\n",
      "2017-06-14 22:23:44,686 : INFO : topic diff=0.001732, rho=0.235702\n",
      "2017-06-14 22:23:44,747 : INFO : -6.287 per-word bound, 78.1 perplexity estimate based on a held-out corpus of 19 documents with 1270 words\n",
      "2017-06-14 22:23:44,750 : INFO : PROGRESS: pass 17, at document #19/19\n",
      "2017-06-14 22:23:44,790 : INFO : topic #0 (0.143): 0.016*\"would\" + 0.016*\"'s\" + 0.016*\"hot\" + 0.016*\"quarter\" + 0.016*\"pinot\" + 0.016*\"noir\" + 0.012*\"say\" + 0.012*\"beer\" + 0.012*\"said\" + 0.012*\"brand\"\n",
      "2017-06-14 22:23:44,792 : INFO : topic #5 (0.143): 0.020*\"would\" + 0.017*\"brand\" + 0.014*\"n't\" + 0.014*\"'s\" + 0.014*\"say\" + 0.014*\"really\" + 0.010*\"business\" + 0.010*\"margins\" + 0.010*\"yes\" + 0.010*\"craft\"\n",
      "2017-06-14 22:23:44,793 : INFO : topic #3 (0.143): 0.047*\"'s\" + 0.035*\"growth\" + 0.027*\"distribution\" + 0.016*\"okay\" + 0.016*\"modelo\" + 0.016*\"brands\" + 0.016*\"beer\" + 0.016*\"portfolio\" + 0.016*\"especial\" + 0.012*\"mean\"\n",
      "2017-06-14 22:23:44,796 : INFO : topic #4 (0.143): 0.045*\"business\" + 0.030*\"reflective\" + 0.023*\"beer\" + 0.023*\"wine\" + 0.023*\"iri\" + 0.016*\"probably\" + 0.016*\"category\" + 0.016*\"categories\" + 0.016*\"market\" + 0.016*\"spirits\"\n",
      "2017-06-14 22:23:44,796 : INFO : topic #2 (0.143): 0.038*\"test\" + 0.029*\"well\" + 0.020*\"brand\" + 0.020*\"basically\" + 0.020*\"advertising\" + 0.011*\"'s\" + 0.011*\"think\" + 0.011*\"'re\" + 0.011*\"extremely\" + 0.011*\"back\"\n",
      "2017-06-14 22:23:44,798 : INFO : topic diff=0.001292, rho=0.229416\n",
      "2017-06-14 22:23:44,864 : INFO : -6.287 per-word bound, 78.1 perplexity estimate based on a held-out corpus of 19 documents with 1270 words\n",
      "2017-06-14 22:23:44,865 : INFO : PROGRESS: pass 18, at document #19/19\n",
      "2017-06-14 22:23:44,905 : INFO : topic #1 (0.143): 0.038*\"'s\" + 0.027*\"think\" + 0.025*\"like\" + 0.016*\"say\" + 0.016*\"really\" + 0.016*\"would\" + 0.014*\"sort\" + 0.011*\"okay\" + 0.011*\"distribution\" + 0.011*\"beer\"\n",
      "2017-06-14 22:23:44,907 : INFO : topic #3 (0.143): 0.047*\"'s\" + 0.035*\"growth\" + 0.027*\"distribution\" + 0.016*\"okay\" + 0.016*\"modelo\" + 0.016*\"brands\" + 0.016*\"beer\" + 0.016*\"portfolio\" + 0.016*\"especial\" + 0.012*\"mean\"\n",
      "2017-06-14 22:23:44,908 : INFO : topic #4 (0.143): 0.045*\"business\" + 0.030*\"reflective\" + 0.023*\"beer\" + 0.023*\"wine\" + 0.023*\"iri\" + 0.016*\"probably\" + 0.016*\"category\" + 0.016*\"categories\" + 0.016*\"market\" + 0.016*\"spirits\"\n",
      "2017-06-14 22:23:44,910 : INFO : topic #6 (0.143): 0.027*\"really\" + 0.027*\"'s\" + 0.020*\"brand\" + 0.020*\"brands\" + 0.020*\"would\" + 0.014*\"kind\" + 0.014*\"say\" + 0.010*\"n't\" + 0.010*\"interested\" + 0.010*\"ago\"\n",
      "2017-06-14 22:23:44,911 : INFO : topic #5 (0.143): 0.020*\"would\" + 0.017*\"brand\" + 0.014*\"n't\" + 0.014*\"'s\" + 0.014*\"say\" + 0.014*\"really\" + 0.010*\"business\" + 0.010*\"margins\" + 0.010*\"yes\" + 0.010*\"craft\"\n",
      "2017-06-14 22:23:44,911 : INFO : topic diff=0.000973, rho=0.223607\n",
      "2017-06-14 22:23:44,974 : INFO : -6.287 per-word bound, 78.1 perplexity estimate based on a held-out corpus of 19 documents with 1270 words\n",
      "2017-06-14 22:23:44,976 : INFO : PROGRESS: pass 19, at document #19/19\n",
      "2017-06-14 22:23:45,016 : INFO : topic #3 (0.143): 0.047*\"'s\" + 0.035*\"growth\" + 0.027*\"distribution\" + 0.016*\"okay\" + 0.016*\"modelo\" + 0.016*\"brands\" + 0.016*\"beer\" + 0.016*\"portfolio\" + 0.016*\"especial\" + 0.012*\"mean\"\n",
      "2017-06-14 22:23:45,019 : INFO : topic #4 (0.143): 0.045*\"business\" + 0.030*\"reflective\" + 0.023*\"beer\" + 0.023*\"wine\" + 0.023*\"iri\" + 0.016*\"probably\" + 0.016*\"category\" + 0.016*\"categories\" + 0.016*\"market\" + 0.016*\"spirits\"\n",
      "2017-06-14 22:23:45,019 : INFO : topic #5 (0.143): 0.020*\"would\" + 0.017*\"brand\" + 0.014*\"n't\" + 0.014*\"'s\" + 0.014*\"say\" + 0.014*\"really\" + 0.010*\"business\" + 0.010*\"margins\" + 0.010*\"yes\" + 0.010*\"craft\"\n",
      "2017-06-14 22:23:45,022 : INFO : topic #2 (0.143): 0.038*\"test\" + 0.029*\"well\" + 0.020*\"brand\" + 0.020*\"basically\" + 0.020*\"advertising\" + 0.011*\"'s\" + 0.011*\"think\" + 0.011*\"'re\" + 0.011*\"extremely\" + 0.011*\"back\"\n",
      "2017-06-14 22:23:45,023 : INFO : topic #1 (0.143): 0.038*\"'s\" + 0.027*\"think\" + 0.025*\"like\" + 0.016*\"say\" + 0.016*\"really\" + 0.016*\"would\" + 0.014*\"sort\" + 0.011*\"okay\" + 0.011*\"distribution\" + 0.011*\"beer\"\n",
      "2017-06-14 22:23:45,023 : INFO : topic diff=0.000738, rho=0.218218\n",
      "2017-06-14 22:23:45,085 : INFO : -6.287 per-word bound, 78.1 perplexity estimate based on a held-out corpus of 19 documents with 1270 words\n",
      "2017-06-14 22:23:45,086 : INFO : PROGRESS: pass 20, at document #19/19\n",
      "2017-06-14 22:23:45,128 : INFO : topic #5 (0.143): 0.020*\"would\" + 0.017*\"brand\" + 0.014*\"n't\" + 0.014*\"'s\" + 0.014*\"say\" + 0.014*\"really\" + 0.010*\"business\" + 0.010*\"margins\" + 0.010*\"yes\" + 0.010*\"craft\"\n",
      "2017-06-14 22:23:45,130 : INFO : topic #6 (0.143): 0.027*\"really\" + 0.027*\"'s\" + 0.020*\"brand\" + 0.020*\"brands\" + 0.020*\"would\" + 0.014*\"kind\" + 0.014*\"say\" + 0.010*\"n't\" + 0.010*\"interested\" + 0.010*\"ago\"\n",
      "2017-06-14 22:23:45,131 : INFO : topic #3 (0.143): 0.047*\"'s\" + 0.035*\"growth\" + 0.027*\"distribution\" + 0.016*\"okay\" + 0.016*\"modelo\" + 0.016*\"brands\" + 0.016*\"beer\" + 0.016*\"portfolio\" + 0.016*\"especial\" + 0.012*\"mean\"\n",
      "2017-06-14 22:23:45,131 : INFO : topic #0 (0.143): 0.016*\"would\" + 0.016*\"'s\" + 0.016*\"hot\" + 0.016*\"quarter\" + 0.016*\"pinot\" + 0.016*\"noir\" + 0.012*\"say\" + 0.012*\"beer\" + 0.012*\"said\" + 0.012*\"brand\"\n",
      "2017-06-14 22:23:45,134 : INFO : topic #4 (0.143): 0.045*\"business\" + 0.030*\"reflective\" + 0.023*\"beer\" + 0.023*\"wine\" + 0.023*\"iri\" + 0.016*\"probably\" + 0.016*\"category\" + 0.016*\"categories\" + 0.016*\"market\" + 0.016*\"spirits\"\n",
      "2017-06-14 22:23:45,135 : INFO : topic diff=0.000564, rho=0.213201\n",
      "2017-06-14 22:23:45,198 : INFO : -6.287 per-word bound, 78.1 perplexity estimate based on a held-out corpus of 19 documents with 1270 words\n",
      "2017-06-14 22:23:45,200 : INFO : PROGRESS: pass 21, at document #19/19\n",
      "2017-06-14 22:23:45,243 : INFO : topic #2 (0.143): 0.038*\"test\" + 0.029*\"well\" + 0.020*\"brand\" + 0.020*\"basically\" + 0.020*\"advertising\" + 0.011*\"think\" + 0.011*\"'re\" + 0.011*\"'s\" + 0.011*\"extremely\" + 0.011*\"back\"\n",
      "2017-06-14 22:23:45,244 : INFO : topic #0 (0.143): 0.016*\"would\" + 0.016*\"'s\" + 0.016*\"hot\" + 0.016*\"quarter\" + 0.016*\"pinot\" + 0.016*\"noir\" + 0.012*\"say\" + 0.012*\"beer\" + 0.012*\"said\" + 0.012*\"first\"\n",
      "2017-06-14 22:23:45,246 : INFO : topic #6 (0.143): 0.027*\"really\" + 0.027*\"'s\" + 0.020*\"brand\" + 0.020*\"brands\" + 0.020*\"would\" + 0.014*\"kind\" + 0.014*\"say\" + 0.010*\"n't\" + 0.010*\"interested\" + 0.010*\"ago\"\n",
      "2017-06-14 22:23:45,247 : INFO : topic #3 (0.143): 0.047*\"'s\" + 0.035*\"growth\" + 0.027*\"distribution\" + 0.016*\"okay\" + 0.016*\"modelo\" + 0.016*\"brands\" + 0.016*\"beer\" + 0.016*\"portfolio\" + 0.016*\"especial\" + 0.012*\"mean\"\n",
      "2017-06-14 22:23:45,249 : INFO : topic #4 (0.143): 0.045*\"business\" + 0.030*\"reflective\" + 0.023*\"beer\" + 0.023*\"wine\" + 0.023*\"iri\" + 0.016*\"probably\" + 0.016*\"category\" + 0.016*\"categories\" + 0.016*\"market\" + 0.016*\"spirits\"\n",
      "2017-06-14 22:23:45,250 : INFO : topic diff=0.000435, rho=0.208514\n",
      "2017-06-14 22:23:45,312 : INFO : -6.287 per-word bound, 78.1 perplexity estimate based on a held-out corpus of 19 documents with 1270 words\n",
      "2017-06-14 22:23:45,312 : INFO : PROGRESS: pass 22, at document #19/19\n",
      "2017-06-14 22:23:45,355 : INFO : topic #6 (0.143): 0.027*\"really\" + 0.027*\"'s\" + 0.020*\"brand\" + 0.020*\"brands\" + 0.020*\"would\" + 0.014*\"kind\" + 0.014*\"say\" + 0.010*\"n't\" + 0.010*\"interested\" + 0.010*\"ago\"\n",
      "2017-06-14 22:23:45,357 : INFO : topic #5 (0.143): 0.020*\"would\" + 0.017*\"brand\" + 0.014*\"n't\" + 0.014*\"'s\" + 0.014*\"say\" + 0.014*\"really\" + 0.010*\"business\" + 0.010*\"margins\" + 0.010*\"yes\" + 0.010*\"craft\"\n",
      "2017-06-14 22:23:45,358 : INFO : topic #4 (0.143): 0.045*\"business\" + 0.030*\"reflective\" + 0.023*\"beer\" + 0.023*\"wine\" + 0.023*\"iri\" + 0.016*\"probably\" + 0.016*\"category\" + 0.016*\"categories\" + 0.016*\"market\" + 0.016*\"spirits\"\n",
      "2017-06-14 22:23:45,359 : INFO : topic #3 (0.143): 0.047*\"'s\" + 0.035*\"growth\" + 0.027*\"distribution\" + 0.016*\"okay\" + 0.016*\"modelo\" + 0.016*\"brands\" + 0.016*\"beer\" + 0.016*\"portfolio\" + 0.016*\"especial\" + 0.012*\"mean\"\n",
      "2017-06-14 22:23:45,361 : INFO : topic #2 (0.143): 0.038*\"test\" + 0.029*\"well\" + 0.020*\"brand\" + 0.020*\"basically\" + 0.020*\"advertising\" + 0.011*\"'re\" + 0.011*\"think\" + 0.011*\"extremely\" + 0.011*\"back\" + 0.011*\"pretty\"\n",
      "2017-06-14 22:23:45,361 : INFO : topic diff=0.000337, rho=0.204124\n",
      "2017-06-14 22:23:45,424 : INFO : -6.287 per-word bound, 78.1 perplexity estimate based on a held-out corpus of 19 documents with 1270 words\n",
      "2017-06-14 22:23:45,424 : INFO : PROGRESS: pass 23, at document #19/19\n",
      "2017-06-14 22:23:45,467 : INFO : topic #0 (0.143): 0.016*\"'s\" + 0.016*\"would\" + 0.016*\"hot\" + 0.016*\"quarter\" + 0.016*\"pinot\" + 0.016*\"noir\" + 0.012*\"say\" + 0.012*\"beer\" + 0.012*\"said\" + 0.012*\"first\"\n",
      "2017-06-14 22:23:45,469 : INFO : topic #3 (0.143): 0.047*\"'s\" + 0.035*\"growth\" + 0.027*\"distribution\" + 0.016*\"okay\" + 0.016*\"modelo\" + 0.016*\"beer\" + 0.016*\"brands\" + 0.016*\"portfolio\" + 0.016*\"especial\" + 0.012*\"mean\"\n",
      "2017-06-14 22:23:45,470 : INFO : topic #6 (0.143): 0.027*\"really\" + 0.027*\"'s\" + 0.020*\"brand\" + 0.020*\"brands\" + 0.020*\"would\" + 0.014*\"kind\" + 0.014*\"say\" + 0.010*\"n't\" + 0.010*\"interested\" + 0.010*\"ago\"\n",
      "2017-06-14 22:23:45,470 : INFO : topic #1 (0.143): 0.038*\"'s\" + 0.027*\"think\" + 0.025*\"like\" + 0.016*\"say\" + 0.016*\"really\" + 0.016*\"would\" + 0.014*\"sort\" + 0.011*\"okay\" + 0.011*\"beer\" + 0.011*\"distribution\"\n",
      "2017-06-14 22:23:45,473 : INFO : topic #5 (0.143): 0.020*\"would\" + 0.017*\"brand\" + 0.014*\"n't\" + 0.014*\"'s\" + 0.014*\"say\" + 0.014*\"really\" + 0.010*\"margins\" + 0.010*\"business\" + 0.010*\"yes\" + 0.010*\"craft\"\n",
      "2017-06-14 22:23:45,473 : INFO : topic diff=0.000263, rho=0.200000\n",
      "2017-06-14 22:23:45,538 : INFO : -6.287 per-word bound, 78.1 perplexity estimate based on a held-out corpus of 19 documents with 1270 words\n",
      "2017-06-14 22:23:45,539 : INFO : PROGRESS: pass 24, at document #19/19\n",
      "2017-06-14 22:23:45,584 : INFO : topic #5 (0.143): 0.020*\"would\" + 0.017*\"brand\" + 0.014*\"n't\" + 0.014*\"'s\" + 0.014*\"say\" + 0.014*\"really\" + 0.010*\"margins\" + 0.010*\"yes\" + 0.010*\"business\" + 0.010*\"craft\"\n",
      "2017-06-14 22:23:45,585 : INFO : topic #1 (0.143): 0.038*\"'s\" + 0.027*\"think\" + 0.025*\"like\" + 0.016*\"say\" + 0.016*\"really\" + 0.016*\"would\" + 0.014*\"sort\" + 0.011*\"okay\" + 0.011*\"beer\" + 0.011*\"distribution\"\n",
      "2017-06-14 22:23:45,586 : INFO : topic #2 (0.143): 0.038*\"test\" + 0.029*\"well\" + 0.020*\"brand\" + 0.020*\"basically\" + 0.020*\"advertising\" + 0.011*\"'re\" + 0.011*\"extremely\" + 0.011*\"back\" + 0.011*\"think\" + 0.011*\"pretty\"\n",
      "2017-06-14 22:23:45,588 : INFO : topic #6 (0.143): 0.027*\"really\" + 0.027*\"'s\" + 0.020*\"brand\" + 0.020*\"brands\" + 0.020*\"would\" + 0.014*\"kind\" + 0.014*\"say\" + 0.010*\"n't\" + 0.010*\"interested\" + 0.010*\"ago\"\n",
      "2017-06-14 22:23:45,589 : INFO : topic #0 (0.143): 0.016*\"'s\" + 0.016*\"would\" + 0.016*\"hot\" + 0.016*\"quarter\" + 0.016*\"pinot\" + 0.016*\"noir\" + 0.012*\"say\" + 0.012*\"beer\" + 0.012*\"said\" + 0.012*\"first\"\n",
      "2017-06-14 22:23:45,591 : INFO : topic diff=0.000206, rho=0.196116\n",
      "2017-06-14 22:23:45,657 : INFO : -6.287 per-word bound, 78.1 perplexity estimate based on a held-out corpus of 19 documents with 1270 words\n",
      "2017-06-14 22:23:45,657 : INFO : PROGRESS: pass 25, at document #19/19\n",
      "2017-06-14 22:23:45,698 : INFO : topic #0 (0.143): 0.016*\"'s\" + 0.016*\"would\" + 0.016*\"hot\" + 0.016*\"quarter\" + 0.016*\"pinot\" + 0.016*\"noir\" + 0.012*\"say\" + 0.012*\"beer\" + 0.012*\"said\" + 0.012*\"first\"\n",
      "2017-06-14 22:23:45,700 : INFO : topic #3 (0.143): 0.047*\"'s\" + 0.035*\"growth\" + 0.027*\"distribution\" + 0.016*\"okay\" + 0.016*\"modelo\" + 0.016*\"portfolio\" + 0.016*\"beer\" + 0.016*\"brands\" + 0.016*\"especial\" + 0.012*\"mean\"\n",
      "2017-06-14 22:23:45,701 : INFO : topic #4 (0.143): 0.045*\"business\" + 0.030*\"reflective\" + 0.023*\"beer\" + 0.023*\"wine\" + 0.023*\"iri\" + 0.016*\"probably\" + 0.016*\"category\" + 0.016*\"market\" + 0.016*\"categories\" + 0.016*\"spirits\"\n",
      "2017-06-14 22:23:45,703 : INFO : topic #1 (0.143): 0.038*\"'s\" + 0.027*\"think\" + 0.025*\"like\" + 0.016*\"say\" + 0.016*\"really\" + 0.016*\"would\" + 0.014*\"sort\" + 0.011*\"okay\" + 0.011*\"beer\" + 0.011*\"distribution\"\n",
      "2017-06-14 22:23:45,704 : INFO : topic #5 (0.143): 0.020*\"would\" + 0.017*\"brand\" + 0.014*\"n't\" + 0.014*\"say\" + 0.014*\"'s\" + 0.014*\"really\" + 0.010*\"yes\" + 0.010*\"margins\" + 0.010*\"business\" + 0.010*\"craft\"\n",
      "2017-06-14 22:23:45,707 : INFO : topic diff=0.000163, rho=0.192450\n",
      "2017-06-14 22:23:45,772 : INFO : -6.287 per-word bound, 78.1 perplexity estimate based on a held-out corpus of 19 documents with 1270 words\n",
      "2017-06-14 22:23:45,773 : INFO : PROGRESS: pass 26, at document #19/19\n",
      "2017-06-14 22:23:45,813 : INFO : topic #0 (0.143): 0.016*\"'s\" + 0.016*\"would\" + 0.016*\"hot\" + 0.016*\"quarter\" + 0.016*\"pinot\" + 0.016*\"noir\" + 0.012*\"say\" + 0.012*\"said\" + 0.012*\"beer\" + 0.012*\"first\"\n",
      "2017-06-14 22:23:45,815 : INFO : topic #3 (0.143): 0.047*\"'s\" + 0.035*\"growth\" + 0.027*\"distribution\" + 0.016*\"okay\" + 0.016*\"modelo\" + 0.016*\"portfolio\" + 0.016*\"beer\" + 0.016*\"brands\" + 0.016*\"especial\" + 0.012*\"mean\"\n",
      "2017-06-14 22:23:45,816 : INFO : topic #4 (0.143): 0.045*\"business\" + 0.030*\"reflective\" + 0.023*\"beer\" + 0.023*\"wine\" + 0.023*\"iri\" + 0.016*\"probably\" + 0.016*\"category\" + 0.016*\"market\" + 0.016*\"categories\" + 0.016*\"spirits\"\n",
      "2017-06-14 22:23:45,818 : INFO : topic #1 (0.143): 0.038*\"'s\" + 0.027*\"think\" + 0.025*\"like\" + 0.016*\"say\" + 0.016*\"really\" + 0.016*\"would\" + 0.014*\"sort\" + 0.011*\"okay\" + 0.011*\"beer\" + 0.011*\"distribution\"\n",
      "2017-06-14 22:23:45,819 : INFO : topic #5 (0.143): 0.020*\"would\" + 0.017*\"brand\" + 0.014*\"n't\" + 0.014*\"say\" + 0.014*\"'s\" + 0.014*\"really\" + 0.010*\"yes\" + 0.010*\"margins\" + 0.010*\"craft\" + 0.010*\"business\"\n",
      "2017-06-14 22:23:45,819 : INFO : topic diff=0.000129, rho=0.188982\n",
      "2017-06-14 22:23:45,882 : INFO : -6.287 per-word bound, 78.1 perplexity estimate based on a held-out corpus of 19 documents with 1270 words\n",
      "2017-06-14 22:23:45,884 : INFO : PROGRESS: pass 27, at document #19/19\n",
      "2017-06-14 22:23:45,924 : INFO : topic #0 (0.143): 0.016*\"'s\" + 0.016*\"would\" + 0.016*\"hot\" + 0.016*\"quarter\" + 0.016*\"pinot\" + 0.016*\"noir\" + 0.012*\"say\" + 0.012*\"said\" + 0.012*\"first\" + 0.012*\"beer\"\n",
      "2017-06-14 22:23:45,927 : INFO : topic #5 (0.143): 0.020*\"would\" + 0.017*\"brand\" + 0.014*\"n't\" + 0.014*\"say\" + 0.014*\"'s\" + 0.014*\"really\" + 0.010*\"yes\" + 0.010*\"margins\" + 0.010*\"craft\" + 0.010*\"business\"\n",
      "2017-06-14 22:23:45,927 : INFO : topic #2 (0.143): 0.038*\"test\" + 0.029*\"well\" + 0.020*\"brand\" + 0.020*\"basically\" + 0.020*\"advertising\" + 0.011*\"'re\" + 0.011*\"back\" + 0.011*\"pretty\" + 0.011*\"extremely\" + 0.011*\"demonstrated\"\n",
      "2017-06-14 22:23:45,928 : INFO : topic #6 (0.143): 0.027*\"really\" + 0.027*\"'s\" + 0.020*\"brand\" + 0.020*\"brands\" + 0.020*\"would\" + 0.014*\"kind\" + 0.014*\"say\" + 0.010*\"n't\" + 0.010*\"interested\" + 0.010*\"ago\"\n",
      "2017-06-14 22:23:45,930 : INFO : topic #3 (0.143): 0.047*\"'s\" + 0.035*\"growth\" + 0.027*\"distribution\" + 0.016*\"okay\" + 0.016*\"modelo\" + 0.016*\"portfolio\" + 0.016*\"beer\" + 0.016*\"brands\" + 0.016*\"especial\" + 0.012*\"mean\"\n",
      "2017-06-14 22:23:45,931 : INFO : topic diff=0.000103, rho=0.185695\n",
      "2017-06-14 22:23:45,994 : INFO : -6.287 per-word bound, 78.1 perplexity estimate based on a held-out corpus of 19 documents with 1270 words\n",
      "2017-06-14 22:23:45,996 : INFO : PROGRESS: pass 28, at document #19/19\n",
      "2017-06-14 22:23:46,036 : INFO : topic #4 (0.143): 0.045*\"business\" + 0.030*\"reflective\" + 0.023*\"beer\" + 0.023*\"wine\" + 0.023*\"iri\" + 0.016*\"probably\" + 0.016*\"category\" + 0.016*\"market\" + 0.016*\"categories\" + 0.016*\"spirits\"\n",
      "2017-06-14 22:23:46,039 : INFO : topic #1 (0.143): 0.038*\"'s\" + 0.027*\"think\" + 0.025*\"like\" + 0.016*\"say\" + 0.016*\"really\" + 0.016*\"would\" + 0.014*\"sort\" + 0.011*\"okay\" + 0.011*\"beer\" + 0.011*\"distribution\"\n",
      "2017-06-14 22:23:46,039 : INFO : topic #5 (0.143): 0.020*\"would\" + 0.017*\"brand\" + 0.014*\"n't\" + 0.014*\"say\" + 0.014*\"'s\" + 0.014*\"really\" + 0.010*\"yes\" + 0.010*\"margins\" + 0.010*\"craft\" + 0.010*\"changed\"\n",
      "2017-06-14 22:23:46,040 : INFO : topic #0 (0.143): 0.016*\"'s\" + 0.016*\"would\" + 0.016*\"quarter\" + 0.016*\"hot\" + 0.016*\"pinot\" + 0.016*\"noir\" + 0.012*\"say\" + 0.012*\"said\" + 0.012*\"first\" + 0.012*\"beer\"\n",
      "2017-06-14 22:23:46,042 : INFO : topic #6 (0.143): 0.027*\"really\" + 0.027*\"'s\" + 0.020*\"brand\" + 0.020*\"brands\" + 0.020*\"would\" + 0.014*\"kind\" + 0.014*\"say\" + 0.010*\"n't\" + 0.010*\"interested\" + 0.010*\"ago\"\n",
      "2017-06-14 22:23:46,042 : INFO : topic diff=0.000082, rho=0.182574\n",
      "2017-06-14 22:23:46,108 : INFO : -6.287 per-word bound, 78.1 perplexity estimate based on a held-out corpus of 19 documents with 1270 words\n",
      "2017-06-14 22:23:46,108 : INFO : PROGRESS: pass 29, at document #19/19\n",
      "2017-06-14 22:23:46,150 : INFO : topic #5 (0.143): 0.020*\"would\" + 0.017*\"brand\" + 0.014*\"n't\" + 0.014*\"say\" + 0.014*\"really\" + 0.014*\"'s\" + 0.010*\"yes\" + 0.010*\"craft\" + 0.010*\"margins\" + 0.010*\"changed\"\n",
      "2017-06-14 22:23:46,151 : INFO : topic #6 (0.143): 0.027*\"really\" + 0.027*\"'s\" + 0.020*\"brand\" + 0.020*\"brands\" + 0.020*\"would\" + 0.014*\"kind\" + 0.014*\"say\" + 0.010*\"n't\" + 0.010*\"interested\" + 0.010*\"ago\"\n",
      "2017-06-14 22:23:46,153 : INFO : topic #4 (0.143): 0.045*\"business\" + 0.030*\"reflective\" + 0.023*\"beer\" + 0.023*\"wine\" + 0.023*\"iri\" + 0.016*\"probably\" + 0.016*\"market\" + 0.016*\"category\" + 0.016*\"categories\" + 0.016*\"spirits\"\n",
      "2017-06-14 22:23:46,154 : INFO : topic #1 (0.143): 0.038*\"'s\" + 0.027*\"think\" + 0.025*\"like\" + 0.016*\"say\" + 0.016*\"really\" + 0.016*\"would\" + 0.014*\"sort\" + 0.011*\"okay\" + 0.011*\"beer\" + 0.011*\"distribution\"\n",
      "2017-06-14 22:23:46,155 : INFO : topic #3 (0.143): 0.047*\"'s\" + 0.035*\"growth\" + 0.027*\"distribution\" + 0.016*\"okay\" + 0.016*\"portfolio\" + 0.016*\"modelo\" + 0.016*\"beer\" + 0.016*\"especial\" + 0.016*\"brands\" + 0.012*\"mean\"\n",
      "2017-06-14 22:23:46,157 : INFO : topic diff=0.000066, rho=0.179605\n",
      "2017-06-14 22:23:46,220 : INFO : -6.287 per-word bound, 78.1 perplexity estimate based on a held-out corpus of 19 documents with 1270 words\n",
      "2017-06-14 22:23:46,220 : INFO : PROGRESS: pass 30, at document #19/19\n",
      "2017-06-14 22:23:46,262 : INFO : topic #5 (0.143): 0.020*\"would\" + 0.017*\"brand\" + 0.014*\"n't\" + 0.014*\"say\" + 0.014*\"really\" + 0.014*\"'s\" + 0.010*\"yes\" + 0.010*\"craft\" + 0.010*\"margins\" + 0.010*\"changed\"\n",
      "2017-06-14 22:23:46,263 : INFO : topic #4 (0.143): 0.045*\"business\" + 0.030*\"reflective\" + 0.023*\"beer\" + 0.023*\"wine\" + 0.023*\"iri\" + 0.016*\"probably\" + 0.016*\"market\" + 0.016*\"category\" + 0.016*\"categories\" + 0.016*\"spirits\"\n",
      "2017-06-14 22:23:46,265 : INFO : topic #1 (0.143): 0.038*\"'s\" + 0.027*\"think\" + 0.025*\"like\" + 0.016*\"say\" + 0.016*\"really\" + 0.016*\"would\" + 0.014*\"sort\" + 0.011*\"okay\" + 0.011*\"beer\" + 0.011*\"distribution\"\n",
      "2017-06-14 22:23:46,266 : INFO : topic #2 (0.143): 0.038*\"test\" + 0.029*\"well\" + 0.020*\"brand\" + 0.020*\"basically\" + 0.020*\"advertising\" + 0.011*\"'re\" + 0.011*\"back\" + 0.011*\"pretty\" + 0.011*\"extremely\" + 0.011*\"demonstrated\"\n",
      "2017-06-14 22:23:46,266 : INFO : topic #0 (0.143): 0.016*\"'s\" + 0.016*\"would\" + 0.016*\"quarter\" + 0.016*\"hot\" + 0.016*\"pinot\" + 0.016*\"noir\" + 0.012*\"say\" + 0.012*\"said\" + 0.012*\"first\" + 0.012*\"brand\"\n",
      "2017-06-14 22:23:46,267 : INFO : topic diff=0.000054, rho=0.176777\n",
      "2017-06-14 22:23:46,331 : INFO : -6.287 per-word bound, 78.1 perplexity estimate based on a held-out corpus of 19 documents with 1270 words\n",
      "2017-06-14 22:23:46,332 : INFO : PROGRESS: pass 31, at document #19/19\n",
      "2017-06-14 22:23:46,372 : INFO : topic #6 (0.143): 0.027*\"really\" + 0.027*\"'s\" + 0.020*\"brand\" + 0.020*\"brands\" + 0.020*\"would\" + 0.014*\"kind\" + 0.014*\"say\" + 0.010*\"n't\" + 0.010*\"interested\" + 0.010*\"ago\"\n",
      "2017-06-14 22:23:46,375 : INFO : topic #0 (0.143): 0.016*\"'s\" + 0.016*\"would\" + 0.016*\"quarter\" + 0.016*\"hot\" + 0.016*\"pinot\" + 0.016*\"noir\" + 0.012*\"said\" + 0.012*\"say\" + 0.012*\"first\" + 0.012*\"brand\"\n",
      "2017-06-14 22:23:46,375 : INFO : topic #1 (0.143): 0.038*\"'s\" + 0.027*\"think\" + 0.025*\"like\" + 0.016*\"say\" + 0.016*\"really\" + 0.016*\"would\" + 0.014*\"sort\" + 0.011*\"okay\" + 0.011*\"beer\" + 0.011*\"new\"\n",
      "2017-06-14 22:23:46,377 : INFO : topic #5 (0.143): 0.020*\"would\" + 0.017*\"brand\" + 0.014*\"n't\" + 0.014*\"say\" + 0.014*\"really\" + 0.014*\"'s\" + 0.010*\"yes\" + 0.010*\"craft\" + 0.010*\"changed\" + 0.010*\"margins\"\n",
      "2017-06-14 22:23:46,378 : INFO : topic #4 (0.143): 0.045*\"business\" + 0.030*\"reflective\" + 0.023*\"beer\" + 0.023*\"wine\" + 0.023*\"iri\" + 0.016*\"probably\" + 0.016*\"market\" + 0.016*\"category\" + 0.016*\"categories\" + 0.016*\"spirits\"\n",
      "2017-06-14 22:23:46,378 : INFO : topic diff=0.000043, rho=0.174078\n",
      "2017-06-14 22:23:46,443 : INFO : -6.287 per-word bound, 78.1 perplexity estimate based on a held-out corpus of 19 documents with 1270 words\n",
      "2017-06-14 22:23:46,444 : INFO : PROGRESS: pass 32, at document #19/19\n",
      "2017-06-14 22:23:46,484 : INFO : topic #3 (0.143): 0.047*\"'s\" + 0.035*\"growth\" + 0.027*\"distribution\" + 0.016*\"okay\" + 0.016*\"portfolio\" + 0.016*\"modelo\" + 0.016*\"beer\" + 0.016*\"especial\" + 0.016*\"brands\" + 0.012*\"mean\"\n",
      "2017-06-14 22:23:46,486 : INFO : topic #5 (0.143): 0.020*\"would\" + 0.017*\"brand\" + 0.014*\"n't\" + 0.014*\"say\" + 0.014*\"really\" + 0.014*\"'s\" + 0.010*\"yes\" + 0.010*\"craft\" + 0.010*\"changed\" + 0.010*\"margins\"\n",
      "2017-06-14 22:23:46,487 : INFO : topic #0 (0.143): 0.016*\"'s\" + 0.016*\"would\" + 0.016*\"quarter\" + 0.016*\"hot\" + 0.016*\"pinot\" + 0.016*\"noir\" + 0.012*\"said\" + 0.012*\"say\" + 0.012*\"first\" + 0.012*\"brand\"\n",
      "2017-06-14 22:23:46,489 : INFO : topic #1 (0.143): 0.038*\"'s\" + 0.027*\"think\" + 0.025*\"like\" + 0.016*\"say\" + 0.016*\"really\" + 0.016*\"would\" + 0.014*\"sort\" + 0.011*\"okay\" + 0.011*\"beer\" + 0.011*\"new\"\n",
      "2017-06-14 22:23:46,490 : INFO : topic #2 (0.143): 0.038*\"test\" + 0.029*\"well\" + 0.020*\"basically\" + 0.020*\"brand\" + 0.020*\"advertising\" + 0.011*\"'re\" + 0.011*\"back\" + 0.011*\"pretty\" + 0.011*\"extremely\" + 0.011*\"demonstrated\"\n",
      "2017-06-14 22:23:46,490 : INFO : topic diff=0.000035, rho=0.171499\n",
      "2017-06-14 22:23:46,555 : INFO : -6.287 per-word bound, 78.1 perplexity estimate based on a held-out corpus of 19 documents with 1270 words\n",
      "2017-06-14 22:23:46,555 : INFO : PROGRESS: pass 33, at document #19/19\n",
      "2017-06-14 22:23:46,596 : INFO : topic #5 (0.143): 0.020*\"would\" + 0.017*\"brand\" + 0.014*\"n't\" + 0.014*\"say\" + 0.014*\"really\" + 0.014*\"'s\" + 0.010*\"yes\" + 0.010*\"craft\" + 0.010*\"changed\" + 0.010*\"margins\"\n",
      "2017-06-14 22:23:46,598 : INFO : topic #3 (0.143): 0.047*\"'s\" + 0.035*\"growth\" + 0.027*\"distribution\" + 0.016*\"okay\" + 0.016*\"portfolio\" + 0.016*\"modelo\" + 0.016*\"beer\" + 0.016*\"especial\" + 0.016*\"brands\" + 0.012*\"mean\"\n",
      "2017-06-14 22:23:46,599 : INFO : topic #2 (0.143): 0.038*\"test\" + 0.029*\"well\" + 0.020*\"basically\" + 0.020*\"brand\" + 0.020*\"advertising\" + 0.011*\"back\" + 0.011*\"'re\" + 0.011*\"pretty\" + 0.011*\"extremely\" + 0.011*\"demonstrated\"\n",
      "2017-06-14 22:23:46,601 : INFO : topic #4 (0.143): 0.045*\"business\" + 0.030*\"reflective\" + 0.023*\"beer\" + 0.023*\"wine\" + 0.023*\"iri\" + 0.016*\"probably\" + 0.016*\"market\" + 0.016*\"category\" + 0.016*\"categories\" + 0.016*\"spirits\"\n",
      "2017-06-14 22:23:46,604 : INFO : topic #0 (0.143): 0.016*\"'s\" + 0.016*\"would\" + 0.016*\"quarter\" + 0.016*\"hot\" + 0.016*\"pinot\" + 0.016*\"noir\" + 0.012*\"said\" + 0.012*\"first\" + 0.012*\"say\" + 0.012*\"brand\"\n",
      "2017-06-14 22:23:46,605 : INFO : topic diff=0.000029, rho=0.169031\n",
      "2017-06-14 22:23:46,670 : INFO : -6.287 per-word bound, 78.1 perplexity estimate based on a held-out corpus of 19 documents with 1270 words\n",
      "2017-06-14 22:23:46,671 : INFO : PROGRESS: pass 34, at document #19/19\n",
      "2017-06-14 22:23:46,711 : INFO : topic #3 (0.143): 0.047*\"'s\" + 0.035*\"growth\" + 0.027*\"distribution\" + 0.016*\"okay\" + 0.016*\"portfolio\" + 0.016*\"modelo\" + 0.016*\"beer\" + 0.016*\"especial\" + 0.016*\"brands\" + 0.012*\"mean\"\n",
      "2017-06-14 22:23:46,713 : INFO : topic #5 (0.143): 0.020*\"would\" + 0.017*\"brand\" + 0.014*\"n't\" + 0.014*\"say\" + 0.014*\"really\" + 0.014*\"'s\" + 0.010*\"yes\" + 0.010*\"craft\" + 0.010*\"changed\" + 0.010*\"lot\"\n",
      "2017-06-14 22:23:46,714 : INFO : topic #4 (0.143): 0.045*\"business\" + 0.030*\"reflective\" + 0.023*\"beer\" + 0.023*\"wine\" + 0.023*\"iri\" + 0.016*\"probably\" + 0.016*\"market\" + 0.016*\"category\" + 0.016*\"spirits\" + 0.016*\"categories\"\n",
      "2017-06-14 22:23:46,716 : INFO : topic #1 (0.143): 0.038*\"'s\" + 0.027*\"think\" + 0.025*\"like\" + 0.016*\"really\" + 0.016*\"say\" + 0.016*\"would\" + 0.014*\"sort\" + 0.011*\"okay\" + 0.011*\"beer\" + 0.011*\"new\"\n",
      "2017-06-14 22:23:46,717 : INFO : topic #6 (0.143): 0.027*\"really\" + 0.027*\"'s\" + 0.020*\"brand\" + 0.020*\"brands\" + 0.020*\"would\" + 0.014*\"kind\" + 0.014*\"say\" + 0.010*\"n't\" + 0.010*\"interested\" + 0.010*\"ago\"\n",
      "2017-06-14 22:23:46,719 : INFO : topic diff=0.000024, rho=0.166667\n",
      "2017-06-14 22:23:46,779 : INFO : -6.287 per-word bound, 78.1 perplexity estimate based on a held-out corpus of 19 documents with 1270 words\n",
      "2017-06-14 22:23:46,780 : INFO : PROGRESS: pass 35, at document #19/19\n",
      "2017-06-14 22:23:46,822 : INFO : topic #4 (0.143): 0.045*\"business\" + 0.030*\"reflective\" + 0.023*\"beer\" + 0.023*\"wine\" + 0.023*\"iri\" + 0.016*\"probably\" + 0.016*\"market\" + 0.016*\"category\" + 0.016*\"spirits\" + 0.016*\"categories\"\n",
      "2017-06-14 22:23:46,823 : INFO : topic #0 (0.143): 0.016*\"'s\" + 0.016*\"would\" + 0.016*\"quarter\" + 0.016*\"hot\" + 0.016*\"pinot\" + 0.016*\"noir\" + 0.012*\"said\" + 0.012*\"first\" + 0.012*\"say\" + 0.012*\"brand\"\n",
      "2017-06-14 22:23:46,825 : INFO : topic #3 (0.143): 0.047*\"'s\" + 0.035*\"growth\" + 0.027*\"distribution\" + 0.016*\"portfolio\" + 0.016*\"okay\" + 0.016*\"modelo\" + 0.016*\"beer\" + 0.016*\"especial\" + 0.016*\"brands\" + 0.012*\"mean\"\n",
      "2017-06-14 22:23:46,825 : INFO : topic #5 (0.143): 0.020*\"would\" + 0.017*\"brand\" + 0.014*\"n't\" + 0.014*\"say\" + 0.014*\"really\" + 0.014*\"'s\" + 0.010*\"yes\" + 0.010*\"craft\" + 0.010*\"changed\" + 0.010*\"lot\"\n",
      "2017-06-14 22:23:46,826 : INFO : topic #6 (0.143): 0.027*\"really\" + 0.027*\"'s\" + 0.020*\"brand\" + 0.020*\"brands\" + 0.020*\"would\" + 0.014*\"kind\" + 0.014*\"say\" + 0.010*\"n't\" + 0.010*\"interested\" + 0.010*\"ago\"\n",
      "2017-06-14 22:23:46,828 : INFO : topic diff=0.000019, rho=0.164399\n",
      "2017-06-14 22:23:46,892 : INFO : -6.287 per-word bound, 78.1 perplexity estimate based on a held-out corpus of 19 documents with 1270 words\n",
      "2017-06-14 22:23:46,894 : INFO : PROGRESS: pass 36, at document #19/19\n",
      "2017-06-14 22:23:46,937 : INFO : topic #3 (0.143): 0.047*\"'s\" + 0.035*\"growth\" + 0.027*\"distribution\" + 0.016*\"portfolio\" + 0.016*\"okay\" + 0.016*\"modelo\" + 0.016*\"beer\" + 0.016*\"especial\" + 0.016*\"brands\" + 0.012*\"mean\"\n",
      "2017-06-14 22:23:46,938 : INFO : topic #1 (0.143): 0.038*\"'s\" + 0.027*\"think\" + 0.025*\"like\" + 0.016*\"really\" + 0.016*\"say\" + 0.016*\"would\" + 0.014*\"sort\" + 0.011*\"okay\" + 0.011*\"beer\" + 0.011*\"new\"\n",
      "2017-06-14 22:23:46,940 : INFO : topic #0 (0.143): 0.016*\"'s\" + 0.016*\"would\" + 0.016*\"quarter\" + 0.016*\"hot\" + 0.016*\"pinot\" + 0.016*\"noir\" + 0.012*\"said\" + 0.012*\"first\" + 0.012*\"say\" + 0.012*\"brand\"\n",
      "2017-06-14 22:23:46,940 : INFO : topic #5 (0.143): 0.020*\"would\" + 0.017*\"brand\" + 0.014*\"n't\" + 0.014*\"say\" + 0.014*\"really\" + 0.014*\"'s\" + 0.010*\"yes\" + 0.010*\"craft\" + 0.010*\"changed\" + 0.010*\"lot\"\n",
      "2017-06-14 22:23:46,941 : INFO : topic #6 (0.143): 0.027*\"really\" + 0.027*\"'s\" + 0.020*\"brand\" + 0.020*\"brands\" + 0.020*\"would\" + 0.014*\"kind\" + 0.014*\"say\" + 0.010*\"n't\" + 0.010*\"interested\" + 0.010*\"ago\"\n",
      "2017-06-14 22:23:46,943 : INFO : topic diff=0.000016, rho=0.162221\n",
      "2017-06-14 22:23:47,006 : INFO : -6.287 per-word bound, 78.1 perplexity estimate based on a held-out corpus of 19 documents with 1270 words\n",
      "2017-06-14 22:23:47,006 : INFO : PROGRESS: pass 37, at document #19/19\n",
      "2017-06-14 22:23:47,048 : INFO : topic #1 (0.143): 0.038*\"'s\" + 0.027*\"think\" + 0.025*\"like\" + 0.016*\"really\" + 0.016*\"say\" + 0.016*\"would\" + 0.014*\"sort\" + 0.011*\"okay\" + 0.011*\"beer\" + 0.011*\"new\"\n",
      "2017-06-14 22:23:47,049 : INFO : topic #0 (0.143): 0.016*\"'s\" + 0.016*\"would\" + 0.016*\"quarter\" + 0.016*\"hot\" + 0.016*\"pinot\" + 0.016*\"noir\" + 0.012*\"said\" + 0.012*\"first\" + 0.012*\"brand\" + 0.012*\"say\"\n",
      "2017-06-14 22:23:47,051 : INFO : topic #2 (0.143): 0.038*\"test\" + 0.029*\"well\" + 0.020*\"basically\" + 0.020*\"brand\" + 0.020*\"advertising\" + 0.011*\"back\" + 0.011*\"'re\" + 0.011*\"pretty\" + 0.011*\"extremely\" + 0.011*\"demonstrated\"\n",
      "2017-06-14 22:23:47,052 : INFO : topic #4 (0.143): 0.045*\"business\" + 0.030*\"reflective\" + 0.023*\"beer\" + 0.023*\"wine\" + 0.023*\"iri\" + 0.016*\"probably\" + 0.016*\"market\" + 0.016*\"category\" + 0.016*\"spirits\" + 0.016*\"categories\"\n",
      "2017-06-14 22:23:47,052 : INFO : topic #5 (0.143): 0.020*\"would\" + 0.017*\"brand\" + 0.014*\"n't\" + 0.014*\"say\" + 0.014*\"really\" + 0.014*\"'s\" + 0.010*\"yes\" + 0.010*\"craft\" + 0.010*\"changed\" + 0.010*\"lot\"\n",
      "2017-06-14 22:23:47,053 : INFO : topic diff=0.000013, rho=0.160128\n",
      "2017-06-14 22:23:47,115 : INFO : -6.287 per-word bound, 78.1 perplexity estimate based on a held-out corpus of 19 documents with 1270 words\n",
      "2017-06-14 22:23:47,117 : INFO : PROGRESS: pass 38, at document #19/19\n",
      "2017-06-14 22:23:47,157 : INFO : topic #2 (0.143): 0.038*\"test\" + 0.029*\"well\" + 0.020*\"basically\" + 0.020*\"brand\" + 0.020*\"advertising\" + 0.011*\"back\" + 0.011*\"'re\" + 0.011*\"pretty\" + 0.011*\"extremely\" + 0.011*\"demonstrated\"\n",
      "2017-06-14 22:23:47,158 : INFO : topic #5 (0.143): 0.020*\"would\" + 0.017*\"brand\" + 0.014*\"n't\" + 0.014*\"say\" + 0.014*\"really\" + 0.014*\"'s\" + 0.010*\"yes\" + 0.010*\"craft\" + 0.010*\"changed\" + 0.010*\"lot\"\n",
      "2017-06-14 22:23:47,161 : INFO : topic #6 (0.143): 0.027*\"really\" + 0.027*\"'s\" + 0.020*\"brand\" + 0.020*\"would\" + 0.020*\"brands\" + 0.014*\"kind\" + 0.014*\"say\" + 0.010*\"n't\" + 0.010*\"segment\" + 0.010*\"interested\"\n",
      "2017-06-14 22:23:47,161 : INFO : topic #0 (0.143): 0.016*\"'s\" + 0.016*\"quarter\" + 0.016*\"would\" + 0.016*\"hot\" + 0.016*\"pinot\" + 0.016*\"noir\" + 0.012*\"said\" + 0.012*\"first\" + 0.012*\"brand\" + 0.012*\"say\"\n",
      "2017-06-14 22:23:47,163 : INFO : topic #4 (0.143): 0.045*\"business\" + 0.030*\"reflective\" + 0.023*\"beer\" + 0.023*\"wine\" + 0.023*\"iri\" + 0.016*\"probably\" + 0.016*\"market\" + 0.016*\"category\" + 0.016*\"spirits\" + 0.016*\"categories\"\n",
      "2017-06-14 22:23:47,164 : INFO : topic diff=0.000011, rho=0.158114\n",
      "2017-06-14 22:23:47,226 : INFO : -6.287 per-word bound, 78.1 perplexity estimate based on a held-out corpus of 19 documents with 1270 words\n",
      "2017-06-14 22:23:47,227 : INFO : PROGRESS: pass 39, at document #19/19\n",
      "2017-06-14 22:23:47,269 : INFO : topic #5 (0.143): 0.020*\"would\" + 0.017*\"brand\" + 0.014*\"n't\" + 0.014*\"say\" + 0.014*\"really\" + 0.014*\"'s\" + 0.010*\"yes\" + 0.010*\"craft\" + 0.010*\"changed\" + 0.010*\"lot\"\n",
      "2017-06-14 22:23:47,269 : INFO : topic #1 (0.143): 0.038*\"'s\" + 0.027*\"think\" + 0.025*\"like\" + 0.016*\"really\" + 0.016*\"say\" + 0.016*\"would\" + 0.014*\"sort\" + 0.011*\"okay\" + 0.011*\"beer\" + 0.011*\"new\"\n",
      "2017-06-14 22:23:47,272 : INFO : topic #0 (0.143): 0.016*\"'s\" + 0.016*\"quarter\" + 0.016*\"would\" + 0.016*\"hot\" + 0.016*\"pinot\" + 0.016*\"noir\" + 0.012*\"said\" + 0.012*\"first\" + 0.012*\"brand\" + 0.012*\"say\"\n",
      "2017-06-14 22:23:47,273 : INFO : topic #6 (0.143): 0.027*\"really\" + 0.027*\"'s\" + 0.020*\"brand\" + 0.020*\"would\" + 0.020*\"brands\" + 0.014*\"kind\" + 0.014*\"say\" + 0.010*\"n't\" + 0.010*\"segment\" + 0.010*\"interested\"\n",
      "2017-06-14 22:23:47,273 : INFO : topic #3 (0.143): 0.047*\"'s\" + 0.035*\"growth\" + 0.027*\"distribution\" + 0.016*\"portfolio\" + 0.016*\"okay\" + 0.016*\"modelo\" + 0.016*\"beer\" + 0.016*\"especial\" + 0.016*\"brands\" + 0.012*\"mean\"\n",
      "2017-06-14 22:23:47,275 : INFO : topic diff=0.000009, rho=0.156174\n",
      "2017-06-14 22:23:47,338 : INFO : -6.287 per-word bound, 78.1 perplexity estimate based on a held-out corpus of 19 documents with 1270 words\n",
      "2017-06-14 22:23:47,341 : INFO : PROGRESS: pass 40, at document #19/19\n",
      "2017-06-14 22:23:47,382 : INFO : topic #0 (0.143): 0.016*\"'s\" + 0.016*\"quarter\" + 0.016*\"would\" + 0.016*\"hot\" + 0.016*\"pinot\" + 0.016*\"noir\" + 0.012*\"said\" + 0.012*\"first\" + 0.012*\"brand\" + 0.012*\"mean\"\n",
      "2017-06-14 22:23:47,384 : INFO : topic #5 (0.143): 0.020*\"would\" + 0.017*\"brand\" + 0.014*\"n't\" + 0.014*\"say\" + 0.014*\"really\" + 0.014*\"'s\" + 0.010*\"yes\" + 0.010*\"craft\" + 0.010*\"changed\" + 0.010*\"lot\"\n",
      "2017-06-14 22:23:47,385 : INFO : topic #2 (0.143): 0.038*\"test\" + 0.029*\"well\" + 0.020*\"basically\" + 0.020*\"brand\" + 0.020*\"advertising\" + 0.011*\"back\" + 0.011*\"'re\" + 0.011*\"pretty\" + 0.011*\"extremely\" + 0.011*\"demonstrated\"\n",
      "2017-06-14 22:23:47,387 : INFO : topic #6 (0.143): 0.027*\"really\" + 0.027*\"'s\" + 0.020*\"brand\" + 0.020*\"would\" + 0.020*\"brands\" + 0.014*\"kind\" + 0.014*\"say\" + 0.010*\"n't\" + 0.010*\"segment\" + 0.010*\"interested\"\n",
      "2017-06-14 22:23:47,388 : INFO : topic #3 (0.143): 0.047*\"'s\" + 0.035*\"growth\" + 0.027*\"distribution\" + 0.016*\"portfolio\" + 0.016*\"okay\" + 0.016*\"beer\" + 0.016*\"modelo\" + 0.016*\"especial\" + 0.016*\"brands\" + 0.012*\"mean\"\n",
      "2017-06-14 22:23:47,390 : INFO : topic diff=0.000008, rho=0.154303\n",
      "2017-06-14 22:23:47,450 : INFO : -6.287 per-word bound, 78.1 perplexity estimate based on a held-out corpus of 19 documents with 1270 words\n",
      "2017-06-14 22:23:47,451 : INFO : PROGRESS: pass 41, at document #19/19\n",
      "2017-06-14 22:23:47,493 : INFO : topic #4 (0.143): 0.045*\"business\" + 0.030*\"reflective\" + 0.023*\"beer\" + 0.023*\"wine\" + 0.023*\"iri\" + 0.016*\"probably\" + 0.016*\"market\" + 0.016*\"category\" + 0.016*\"spirits\" + 0.016*\"categories\"\n",
      "2017-06-14 22:23:47,493 : INFO : topic #6 (0.143): 0.027*\"really\" + 0.027*\"'s\" + 0.020*\"brand\" + 0.020*\"would\" + 0.020*\"brands\" + 0.014*\"kind\" + 0.014*\"say\" + 0.010*\"n't\" + 0.010*\"segment\" + 0.010*\"interested\"\n",
      "2017-06-14 22:23:47,496 : INFO : topic #5 (0.143): 0.020*\"would\" + 0.017*\"brand\" + 0.014*\"n't\" + 0.014*\"say\" + 0.014*\"really\" + 0.014*\"'s\" + 0.010*\"yes\" + 0.010*\"craft\" + 0.010*\"changed\" + 0.010*\"lot\"\n",
      "2017-06-14 22:23:47,496 : INFO : topic #0 (0.143): 0.016*\"'s\" + 0.016*\"quarter\" + 0.016*\"hot\" + 0.016*\"would\" + 0.016*\"pinot\" + 0.016*\"noir\" + 0.012*\"said\" + 0.012*\"first\" + 0.012*\"brand\" + 0.012*\"mean\"\n",
      "2017-06-14 22:23:47,499 : INFO : topic #2 (0.143): 0.038*\"test\" + 0.029*\"well\" + 0.020*\"basically\" + 0.020*\"brand\" + 0.020*\"advertising\" + 0.011*\"back\" + 0.011*\"'re\" + 0.011*\"pretty\" + 0.011*\"extremely\" + 0.011*\"demonstrated\"\n",
      "2017-06-14 22:23:47,500 : INFO : topic diff=0.000006, rho=0.152499\n",
      "2017-06-14 22:23:47,562 : INFO : -6.287 per-word bound, 78.1 perplexity estimate based on a held-out corpus of 19 documents with 1270 words\n",
      "2017-06-14 22:23:47,565 : INFO : PROGRESS: pass 42, at document #19/19\n",
      "2017-06-14 22:23:47,605 : INFO : topic #0 (0.143): 0.016*\"'s\" + 0.016*\"quarter\" + 0.016*\"hot\" + 0.016*\"would\" + 0.016*\"pinot\" + 0.016*\"noir\" + 0.012*\"said\" + 0.012*\"first\" + 0.012*\"brand\" + 0.012*\"mean\"\n",
      "2017-06-14 22:23:47,607 : INFO : topic #2 (0.143): 0.038*\"test\" + 0.029*\"well\" + 0.020*\"basically\" + 0.020*\"brand\" + 0.020*\"advertising\" + 0.011*\"back\" + 0.011*\"'re\" + 0.011*\"pretty\" + 0.011*\"extremely\" + 0.011*\"demonstrated\"\n",
      "2017-06-14 22:23:47,608 : INFO : topic #4 (0.143): 0.045*\"business\" + 0.030*\"reflective\" + 0.023*\"beer\" + 0.023*\"wine\" + 0.023*\"iri\" + 0.016*\"probably\" + 0.016*\"market\" + 0.016*\"category\" + 0.016*\"spirits\" + 0.016*\"categories\"\n",
      "2017-06-14 22:23:47,609 : INFO : topic #3 (0.143): 0.047*\"'s\" + 0.035*\"growth\" + 0.027*\"distribution\" + 0.016*\"portfolio\" + 0.016*\"okay\" + 0.016*\"beer\" + 0.016*\"modelo\" + 0.016*\"especial\" + 0.016*\"brands\" + 0.012*\"point\"\n",
      "2017-06-14 22:23:47,611 : INFO : topic #6 (0.143): 0.027*\"really\" + 0.027*\"'s\" + 0.020*\"brand\" + 0.020*\"would\" + 0.020*\"brands\" + 0.014*\"kind\" + 0.014*\"say\" + 0.010*\"n't\" + 0.010*\"segment\" + 0.010*\"interested\"\n",
      "2017-06-14 22:23:47,612 : INFO : topic diff=0.000005, rho=0.150756\n",
      "2017-06-14 22:23:47,677 : INFO : -6.287 per-word bound, 78.1 perplexity estimate based on a held-out corpus of 19 documents with 1270 words\n",
      "2017-06-14 22:23:47,677 : INFO : PROGRESS: pass 43, at document #19/19\n",
      "2017-06-14 22:23:47,720 : INFO : topic #0 (0.143): 0.016*\"'s\" + 0.016*\"quarter\" + 0.016*\"hot\" + 0.016*\"would\" + 0.016*\"pinot\" + 0.016*\"noir\" + 0.012*\"said\" + 0.012*\"first\" + 0.012*\"brand\" + 0.012*\"mean\"\n",
      "2017-06-14 22:23:47,720 : INFO : topic #1 (0.143): 0.038*\"'s\" + 0.027*\"think\" + 0.025*\"like\" + 0.016*\"really\" + 0.016*\"say\" + 0.016*\"would\" + 0.014*\"sort\" + 0.011*\"new\" + 0.011*\"okay\" + 0.011*\"beer\"\n",
      "2017-06-14 22:23:47,721 : INFO : topic #2 (0.143): 0.038*\"test\" + 0.029*\"well\" + 0.020*\"basically\" + 0.020*\"brand\" + 0.020*\"advertising\" + 0.011*\"back\" + 0.011*\"'re\" + 0.011*\"pretty\" + 0.011*\"extremely\" + 0.011*\"demonstrated\"\n",
      "2017-06-14 22:23:47,723 : INFO : topic #4 (0.143): 0.045*\"business\" + 0.030*\"reflective\" + 0.023*\"beer\" + 0.023*\"wine\" + 0.023*\"iri\" + 0.016*\"probably\" + 0.016*\"market\" + 0.016*\"category\" + 0.016*\"spirits\" + 0.016*\"categories\"\n",
      "2017-06-14 22:23:47,723 : INFO : topic #6 (0.143): 0.027*\"really\" + 0.027*\"'s\" + 0.020*\"brand\" + 0.020*\"would\" + 0.020*\"brands\" + 0.014*\"kind\" + 0.014*\"say\" + 0.010*\"n't\" + 0.010*\"segment\" + 0.010*\"interested\"\n",
      "2017-06-14 22:23:47,724 : INFO : topic diff=0.000004, rho=0.149071\n",
      "2017-06-14 22:23:47,788 : INFO : -6.287 per-word bound, 78.1 perplexity estimate based on a held-out corpus of 19 documents with 1270 words\n",
      "2017-06-14 22:23:47,789 : INFO : PROGRESS: pass 44, at document #19/19\n",
      "2017-06-14 22:23:47,832 : INFO : topic #5 (0.143): 0.020*\"would\" + 0.017*\"brand\" + 0.014*\"n't\" + 0.014*\"say\" + 0.014*\"really\" + 0.014*\"'s\" + 0.010*\"yes\" + 0.010*\"lot\" + 0.010*\"changed\" + 0.010*\"craft\"\n",
      "2017-06-14 22:23:47,834 : INFO : topic #4 (0.143): 0.045*\"business\" + 0.030*\"reflective\" + 0.023*\"beer\" + 0.023*\"wine\" + 0.023*\"iri\" + 0.016*\"probably\" + 0.016*\"market\" + 0.016*\"category\" + 0.016*\"spirits\" + 0.016*\"categories\"\n",
      "2017-06-14 22:23:47,835 : INFO : topic #1 (0.143): 0.038*\"'s\" + 0.027*\"think\" + 0.025*\"like\" + 0.016*\"really\" + 0.016*\"say\" + 0.016*\"would\" + 0.014*\"sort\" + 0.011*\"new\" + 0.011*\"beer\" + 0.011*\"okay\"\n",
      "2017-06-14 22:23:47,835 : INFO : topic #2 (0.143): 0.038*\"test\" + 0.029*\"well\" + 0.020*\"basically\" + 0.020*\"brand\" + 0.020*\"advertising\" + 0.011*\"back\" + 0.011*\"'re\" + 0.011*\"pretty\" + 0.011*\"extremely\" + 0.011*\"demonstrated\"\n",
      "2017-06-14 22:23:47,836 : INFO : topic #6 (0.143): 0.027*\"really\" + 0.027*\"'s\" + 0.020*\"brand\" + 0.020*\"would\" + 0.020*\"brands\" + 0.014*\"kind\" + 0.014*\"say\" + 0.010*\"n't\" + 0.010*\"segment\" + 0.010*\"interested\"\n",
      "2017-06-14 22:23:47,838 : INFO : topic diff=0.000004, rho=0.147442\n",
      "2017-06-14 22:23:47,900 : INFO : -6.287 per-word bound, 78.1 perplexity estimate based on a held-out corpus of 19 documents with 1270 words\n",
      "2017-06-14 22:23:47,901 : INFO : PROGRESS: pass 45, at document #19/19\n",
      "2017-06-14 22:23:47,941 : INFO : topic #6 (0.143): 0.027*\"really\" + 0.027*\"'s\" + 0.020*\"brand\" + 0.020*\"would\" + 0.020*\"brands\" + 0.014*\"kind\" + 0.014*\"say\" + 0.010*\"n't\" + 0.010*\"segment\" + 0.010*\"interested\"\n",
      "2017-06-14 22:23:47,943 : INFO : topic #1 (0.143): 0.038*\"'s\" + 0.027*\"think\" + 0.025*\"like\" + 0.016*\"really\" + 0.016*\"say\" + 0.016*\"would\" + 0.014*\"sort\" + 0.011*\"new\" + 0.011*\"beer\" + 0.011*\"okay\"\n",
      "2017-06-14 22:23:47,944 : INFO : topic #2 (0.143): 0.038*\"test\" + 0.029*\"well\" + 0.020*\"basically\" + 0.020*\"brand\" + 0.020*\"advertising\" + 0.011*\"back\" + 0.011*\"'re\" + 0.011*\"pretty\" + 0.011*\"extremely\" + 0.011*\"demonstrated\"\n",
      "2017-06-14 22:23:47,944 : INFO : topic #5 (0.143): 0.020*\"would\" + 0.017*\"brand\" + 0.014*\"n't\" + 0.014*\"say\" + 0.014*\"really\" + 0.014*\"'s\" + 0.010*\"yes\" + 0.010*\"lot\" + 0.010*\"changed\" + 0.010*\"craft\"\n",
      "2017-06-14 22:23:47,946 : INFO : topic #0 (0.143): 0.016*\"'s\" + 0.016*\"quarter\" + 0.016*\"hot\" + 0.016*\"would\" + 0.016*\"pinot\" + 0.016*\"noir\" + 0.012*\"said\" + 0.012*\"first\" + 0.012*\"brand\" + 0.012*\"mean\"\n",
      "2017-06-14 22:23:47,947 : INFO : topic diff=0.000003, rho=0.145865\n",
      "2017-06-14 22:23:48,009 : INFO : -6.287 per-word bound, 78.1 perplexity estimate based on a held-out corpus of 19 documents with 1270 words\n",
      "2017-06-14 22:23:48,009 : INFO : PROGRESS: pass 46, at document #19/19\n",
      "2017-06-14 22:23:48,051 : INFO : topic #6 (0.143): 0.027*\"really\" + 0.027*\"'s\" + 0.020*\"brand\" + 0.020*\"would\" + 0.020*\"brands\" + 0.014*\"kind\" + 0.014*\"say\" + 0.010*\"n't\" + 0.010*\"segment\" + 0.010*\"interested\"\n",
      "2017-06-14 22:23:48,052 : INFO : topic #4 (0.143): 0.045*\"business\" + 0.030*\"reflective\" + 0.023*\"beer\" + 0.023*\"wine\" + 0.023*\"iri\" + 0.016*\"probably\" + 0.016*\"market\" + 0.016*\"category\" + 0.016*\"spirits\" + 0.016*\"categories\"\n",
      "2017-06-14 22:23:48,053 : INFO : topic #3 (0.143): 0.047*\"'s\" + 0.035*\"growth\" + 0.027*\"distribution\" + 0.016*\"portfolio\" + 0.016*\"okay\" + 0.016*\"beer\" + 0.016*\"modelo\" + 0.016*\"especial\" + 0.016*\"brands\" + 0.012*\"point\"\n",
      "2017-06-14 22:23:48,055 : INFO : topic #0 (0.143): 0.016*\"'s\" + 0.016*\"quarter\" + 0.016*\"hot\" + 0.016*\"pinot\" + 0.016*\"noir\" + 0.016*\"would\" + 0.012*\"said\" + 0.012*\"first\" + 0.012*\"brand\" + 0.012*\"mean\"\n",
      "2017-06-14 22:23:48,055 : INFO : topic #1 (0.143): 0.038*\"'s\" + 0.027*\"think\" + 0.025*\"like\" + 0.016*\"really\" + 0.016*\"say\" + 0.016*\"would\" + 0.014*\"sort\" + 0.011*\"new\" + 0.011*\"beer\" + 0.011*\"okay\"\n",
      "2017-06-14 22:23:48,056 : INFO : topic diff=0.000003, rho=0.144338\n",
      "2017-06-14 22:23:48,121 : INFO : -6.287 per-word bound, 78.1 perplexity estimate based on a held-out corpus of 19 documents with 1270 words\n",
      "2017-06-14 22:23:48,122 : INFO : PROGRESS: pass 47, at document #19/19\n",
      "2017-06-14 22:23:48,164 : INFO : topic #0 (0.143): 0.016*\"'s\" + 0.016*\"quarter\" + 0.016*\"hot\" + 0.016*\"pinot\" + 0.016*\"noir\" + 0.016*\"would\" + 0.012*\"said\" + 0.012*\"first\" + 0.012*\"brand\" + 0.012*\"mean\"\n",
      "2017-06-14 22:23:48,165 : INFO : topic #1 (0.143): 0.038*\"'s\" + 0.027*\"think\" + 0.025*\"like\" + 0.016*\"really\" + 0.016*\"say\" + 0.016*\"would\" + 0.014*\"sort\" + 0.011*\"new\" + 0.011*\"beer\" + 0.011*\"okay\"\n",
      "2017-06-14 22:23:48,167 : INFO : topic #3 (0.143): 0.047*\"'s\" + 0.035*\"growth\" + 0.027*\"distribution\" + 0.016*\"portfolio\" + 0.016*\"okay\" + 0.016*\"beer\" + 0.016*\"modelo\" + 0.016*\"especial\" + 0.016*\"brands\" + 0.012*\"point\"\n",
      "2017-06-14 22:23:48,168 : INFO : topic #2 (0.143): 0.038*\"test\" + 0.029*\"well\" + 0.020*\"basically\" + 0.020*\"brand\" + 0.020*\"advertising\" + 0.011*\"back\" + 0.011*\"'re\" + 0.011*\"pretty\" + 0.011*\"extremely\" + 0.011*\"demonstrated\"\n",
      "2017-06-14 22:23:48,170 : INFO : topic #5 (0.143): 0.020*\"would\" + 0.017*\"brand\" + 0.014*\"n't\" + 0.014*\"say\" + 0.014*\"really\" + 0.014*\"'s\" + 0.010*\"yes\" + 0.010*\"lot\" + 0.010*\"changed\" + 0.010*\"craft\"\n",
      "2017-06-14 22:23:48,171 : INFO : topic diff=0.000002, rho=0.142857\n",
      "2017-06-14 22:23:48,233 : INFO : -6.287 per-word bound, 78.1 perplexity estimate based on a held-out corpus of 19 documents with 1270 words\n",
      "2017-06-14 22:23:48,234 : INFO : PROGRESS: pass 48, at document #19/19\n",
      "2017-06-14 22:23:48,275 : INFO : topic #6 (0.143): 0.027*\"really\" + 0.027*\"'s\" + 0.020*\"brand\" + 0.020*\"would\" + 0.020*\"brands\" + 0.014*\"kind\" + 0.014*\"say\" + 0.010*\"n't\" + 0.010*\"segment\" + 0.010*\"interested\"\n",
      "2017-06-14 22:23:48,276 : INFO : topic #4 (0.143): 0.045*\"business\" + 0.030*\"reflective\" + 0.023*\"beer\" + 0.023*\"wine\" + 0.023*\"iri\" + 0.016*\"probably\" + 0.016*\"market\" + 0.016*\"category\" + 0.016*\"spirits\" + 0.016*\"categories\"\n",
      "2017-06-14 22:23:48,278 : INFO : topic #2 (0.143): 0.038*\"test\" + 0.029*\"well\" + 0.020*\"basically\" + 0.020*\"brand\" + 0.020*\"advertising\" + 0.011*\"back\" + 0.011*\"'re\" + 0.011*\"pretty\" + 0.011*\"extremely\" + 0.011*\"demonstrated\"\n",
      "2017-06-14 22:23:48,279 : INFO : topic #0 (0.143): 0.016*\"'s\" + 0.016*\"quarter\" + 0.016*\"hot\" + 0.016*\"pinot\" + 0.016*\"noir\" + 0.016*\"would\" + 0.012*\"said\" + 0.012*\"first\" + 0.012*\"brand\" + 0.012*\"mean\"\n",
      "2017-06-14 22:23:48,280 : INFO : topic #3 (0.143): 0.047*\"'s\" + 0.035*\"growth\" + 0.027*\"distribution\" + 0.016*\"portfolio\" + 0.016*\"okay\" + 0.016*\"beer\" + 0.016*\"modelo\" + 0.016*\"especial\" + 0.016*\"brands\" + 0.012*\"point\"\n",
      "2017-06-14 22:23:48,282 : INFO : topic diff=0.000002, rho=0.141421\n",
      "2017-06-14 22:23:48,346 : INFO : -6.287 per-word bound, 78.1 perplexity estimate based on a held-out corpus of 19 documents with 1270 words\n",
      "2017-06-14 22:23:48,348 : INFO : PROGRESS: pass 49, at document #19/19\n",
      "2017-06-14 22:23:48,390 : INFO : topic #6 (0.143): 0.027*\"really\" + 0.027*\"'s\" + 0.020*\"brand\" + 0.020*\"would\" + 0.020*\"brands\" + 0.014*\"kind\" + 0.014*\"say\" + 0.010*\"n't\" + 0.010*\"segment\" + 0.010*\"interested\"\n",
      "2017-06-14 22:23:48,391 : INFO : topic #1 (0.143): 0.038*\"'s\" + 0.027*\"think\" + 0.025*\"like\" + 0.016*\"really\" + 0.016*\"say\" + 0.016*\"would\" + 0.014*\"sort\" + 0.011*\"new\" + 0.011*\"beer\" + 0.011*\"okay\"\n",
      "2017-06-14 22:23:48,392 : INFO : topic #0 (0.143): 0.016*\"'s\" + 0.016*\"quarter\" + 0.016*\"hot\" + 0.016*\"pinot\" + 0.016*\"noir\" + 0.016*\"would\" + 0.012*\"said\" + 0.012*\"first\" + 0.012*\"brand\" + 0.012*\"mean\"\n",
      "2017-06-14 22:23:48,394 : INFO : topic #2 (0.143): 0.038*\"test\" + 0.029*\"well\" + 0.020*\"basically\" + 0.020*\"brand\" + 0.020*\"advertising\" + 0.011*\"back\" + 0.011*\"'re\" + 0.011*\"pretty\" + 0.011*\"extremely\" + 0.011*\"demonstrated\"\n",
      "2017-06-14 22:23:48,394 : INFO : topic #5 (0.143): 0.020*\"would\" + 0.017*\"brand\" + 0.014*\"n't\" + 0.014*\"say\" + 0.014*\"really\" + 0.014*\"'s\" + 0.010*\"yes\" + 0.010*\"lot\" + 0.010*\"changed\" + 0.010*\"craft\"\n",
      "2017-06-14 22:23:48,395 : INFO : topic diff=0.000002, rho=0.140028\n",
      "2017-06-14 22:23:48,459 : INFO : -6.287 per-word bound, 78.1 perplexity estimate based on a held-out corpus of 19 documents with 1270 words\n",
      "2017-06-14 22:23:48,460 : INFO : PROGRESS: pass 50, at document #19/19\n",
      "2017-06-14 22:23:48,502 : INFO : topic #3 (0.143): 0.047*\"'s\" + 0.035*\"growth\" + 0.027*\"distribution\" + 0.016*\"portfolio\" + 0.016*\"okay\" + 0.016*\"beer\" + 0.016*\"modelo\" + 0.016*\"especial\" + 0.016*\"brands\" + 0.012*\"point\"\n",
      "2017-06-14 22:23:48,503 : INFO : topic #6 (0.143): 0.027*\"really\" + 0.027*\"'s\" + 0.020*\"brand\" + 0.020*\"would\" + 0.020*\"brands\" + 0.014*\"kind\" + 0.014*\"say\" + 0.010*\"n't\" + 0.010*\"segment\" + 0.010*\"interested\"\n",
      "2017-06-14 22:23:48,505 : INFO : topic #1 (0.143): 0.038*\"'s\" + 0.027*\"think\" + 0.025*\"like\" + 0.016*\"really\" + 0.016*\"say\" + 0.016*\"would\" + 0.014*\"sort\" + 0.011*\"new\" + 0.011*\"beer\" + 0.011*\"okay\"\n",
      "2017-06-14 22:23:48,506 : INFO : topic #5 (0.143): 0.020*\"would\" + 0.017*\"brand\" + 0.014*\"n't\" + 0.014*\"say\" + 0.014*\"really\" + 0.014*\"'s\" + 0.010*\"yes\" + 0.010*\"lot\" + 0.010*\"changed\" + 0.010*\"craft\"\n",
      "2017-06-14 22:23:48,507 : INFO : topic #4 (0.143): 0.045*\"business\" + 0.030*\"reflective\" + 0.023*\"beer\" + 0.023*\"wine\" + 0.023*\"iri\" + 0.016*\"probably\" + 0.016*\"market\" + 0.016*\"category\" + 0.016*\"spirits\" + 0.016*\"categories\"\n",
      "2017-06-14 22:23:48,509 : INFO : topic diff=0.000001, rho=0.138675\n",
      "2017-06-14 22:23:48,572 : INFO : -6.287 per-word bound, 78.1 perplexity estimate based on a held-out corpus of 19 documents with 1270 words\n",
      "2017-06-14 22:23:48,572 : INFO : PROGRESS: pass 51, at document #19/19\n",
      "2017-06-14 22:23:48,614 : INFO : topic #5 (0.143): 0.020*\"would\" + 0.017*\"brand\" + 0.014*\"n't\" + 0.014*\"say\" + 0.014*\"really\" + 0.014*\"'s\" + 0.010*\"yes\" + 0.010*\"lot\" + 0.010*\"changed\" + 0.010*\"craft\"\n",
      "2017-06-14 22:23:48,615 : INFO : topic #2 (0.143): 0.038*\"test\" + 0.029*\"well\" + 0.020*\"basically\" + 0.020*\"brand\" + 0.020*\"advertising\" + 0.011*\"back\" + 0.011*\"'re\" + 0.011*\"pretty\" + 0.011*\"extremely\" + 0.011*\"demonstrated\"\n",
      "2017-06-14 22:23:48,617 : INFO : topic #4 (0.143): 0.045*\"business\" + 0.030*\"reflective\" + 0.023*\"beer\" + 0.023*\"wine\" + 0.023*\"iri\" + 0.016*\"probably\" + 0.016*\"market\" + 0.016*\"category\" + 0.016*\"spirits\" + 0.016*\"categories\"\n",
      "2017-06-14 22:23:48,618 : INFO : topic #1 (0.143): 0.038*\"'s\" + 0.027*\"think\" + 0.025*\"like\" + 0.016*\"really\" + 0.016*\"say\" + 0.016*\"would\" + 0.014*\"sort\" + 0.011*\"new\" + 0.011*\"beer\" + 0.011*\"okay\"\n",
      "2017-06-14 22:23:48,619 : INFO : topic #6 (0.143): 0.027*\"really\" + 0.027*\"'s\" + 0.020*\"brand\" + 0.020*\"would\" + 0.020*\"brands\" + 0.014*\"kind\" + 0.014*\"say\" + 0.010*\"n't\" + 0.010*\"segment\" + 0.010*\"interested\"\n",
      "2017-06-14 22:23:48,621 : INFO : topic diff=0.000001, rho=0.137361\n",
      "2017-06-14 22:23:48,684 : INFO : -6.287 per-word bound, 78.1 perplexity estimate based on a held-out corpus of 19 documents with 1270 words\n",
      "2017-06-14 22:23:48,684 : INFO : PROGRESS: pass 52, at document #19/19\n",
      "2017-06-14 22:23:48,726 : INFO : topic #1 (0.143): 0.038*\"'s\" + 0.027*\"think\" + 0.025*\"like\" + 0.016*\"really\" + 0.016*\"say\" + 0.016*\"would\" + 0.014*\"sort\" + 0.011*\"new\" + 0.011*\"beer\" + 0.011*\"okay\"\n",
      "2017-06-14 22:23:48,726 : INFO : topic #0 (0.143): 0.016*\"'s\" + 0.016*\"quarter\" + 0.016*\"hot\" + 0.016*\"pinot\" + 0.016*\"noir\" + 0.016*\"would\" + 0.012*\"said\" + 0.012*\"first\" + 0.012*\"brand\" + 0.012*\"mean\"\n",
      "2017-06-14 22:23:48,729 : INFO : topic #4 (0.143): 0.045*\"business\" + 0.030*\"reflective\" + 0.023*\"beer\" + 0.023*\"wine\" + 0.023*\"iri\" + 0.016*\"probably\" + 0.016*\"market\" + 0.016*\"category\" + 0.016*\"spirits\" + 0.016*\"categories\"\n",
      "2017-06-14 22:23:48,730 : INFO : topic #3 (0.143): 0.047*\"'s\" + 0.035*\"growth\" + 0.027*\"distribution\" + 0.016*\"portfolio\" + 0.016*\"okay\" + 0.016*\"beer\" + 0.016*\"modelo\" + 0.016*\"especial\" + 0.016*\"brands\" + 0.012*\"point\"\n",
      "2017-06-14 22:23:48,730 : INFO : topic #6 (0.143): 0.027*\"really\" + 0.027*\"'s\" + 0.020*\"brand\" + 0.020*\"would\" + 0.020*\"brands\" + 0.014*\"kind\" + 0.014*\"say\" + 0.010*\"n't\" + 0.010*\"segment\" + 0.010*\"interested\"\n",
      "2017-06-14 22:23:48,732 : INFO : topic diff=0.000001, rho=0.136083\n",
      "2017-06-14 22:23:48,795 : INFO : -6.287 per-word bound, 78.1 perplexity estimate based on a held-out corpus of 19 documents with 1270 words\n",
      "2017-06-14 22:23:48,796 : INFO : PROGRESS: pass 53, at document #19/19\n",
      "2017-06-14 22:23:48,836 : INFO : topic #1 (0.143): 0.038*\"'s\" + 0.027*\"think\" + 0.025*\"like\" + 0.016*\"really\" + 0.016*\"say\" + 0.016*\"would\" + 0.014*\"sort\" + 0.011*\"new\" + 0.011*\"beer\" + 0.011*\"okay\"\n",
      "2017-06-14 22:23:48,838 : INFO : topic #0 (0.143): 0.016*\"'s\" + 0.016*\"quarter\" + 0.016*\"hot\" + 0.016*\"pinot\" + 0.016*\"noir\" + 0.016*\"would\" + 0.012*\"said\" + 0.012*\"first\" + 0.012*\"brand\" + 0.012*\"mean\"\n",
      "2017-06-14 22:23:48,838 : INFO : topic #6 (0.143): 0.027*\"really\" + 0.027*\"'s\" + 0.020*\"brand\" + 0.020*\"would\" + 0.020*\"brands\" + 0.014*\"kind\" + 0.014*\"say\" + 0.010*\"n't\" + 0.010*\"segment\" + 0.010*\"interested\"\n",
      "2017-06-14 22:23:48,839 : INFO : topic #2 (0.143): 0.038*\"test\" + 0.029*\"well\" + 0.020*\"basically\" + 0.020*\"brand\" + 0.020*\"advertising\" + 0.011*\"back\" + 0.011*\"'re\" + 0.011*\"pretty\" + 0.011*\"extremely\" + 0.011*\"demonstrated\"\n",
      "2017-06-14 22:23:48,842 : INFO : topic #5 (0.143): 0.020*\"would\" + 0.017*\"brand\" + 0.014*\"n't\" + 0.014*\"say\" + 0.014*\"really\" + 0.014*\"'s\" + 0.010*\"yes\" + 0.010*\"lot\" + 0.010*\"changed\" + 0.010*\"craft\"\n",
      "2017-06-14 22:23:48,842 : INFO : topic diff=0.000001, rho=0.134840\n",
      "2017-06-14 22:23:48,907 : INFO : -6.287 per-word bound, 78.1 perplexity estimate based on a held-out corpus of 19 documents with 1270 words\n",
      "2017-06-14 22:23:48,907 : INFO : PROGRESS: pass 54, at document #19/19\n",
      "2017-06-14 22:23:48,947 : INFO : topic #0 (0.143): 0.016*\"'s\" + 0.016*\"quarter\" + 0.016*\"hot\" + 0.016*\"pinot\" + 0.016*\"noir\" + 0.016*\"would\" + 0.012*\"said\" + 0.012*\"first\" + 0.012*\"brand\" + 0.012*\"mean\"\n",
      "2017-06-14 22:23:48,948 : INFO : topic #6 (0.143): 0.027*\"really\" + 0.027*\"'s\" + 0.020*\"brand\" + 0.020*\"would\" + 0.020*\"brands\" + 0.014*\"kind\" + 0.014*\"say\" + 0.010*\"n't\" + 0.010*\"segment\" + 0.010*\"interested\"\n",
      "2017-06-14 22:23:48,950 : INFO : topic #1 (0.143): 0.038*\"'s\" + 0.027*\"think\" + 0.025*\"like\" + 0.016*\"really\" + 0.016*\"say\" + 0.016*\"would\" + 0.014*\"sort\" + 0.011*\"new\" + 0.011*\"beer\" + 0.011*\"okay\"\n",
      "2017-06-14 22:23:48,951 : INFO : topic #5 (0.143): 0.020*\"would\" + 0.017*\"brand\" + 0.014*\"n't\" + 0.014*\"say\" + 0.014*\"really\" + 0.014*\"'s\" + 0.010*\"yes\" + 0.010*\"lot\" + 0.010*\"changed\" + 0.010*\"craft\"\n",
      "2017-06-14 22:23:48,953 : INFO : topic #2 (0.143): 0.038*\"test\" + 0.029*\"well\" + 0.020*\"basically\" + 0.020*\"brand\" + 0.020*\"advertising\" + 0.011*\"back\" + 0.011*\"'re\" + 0.011*\"pretty\" + 0.011*\"extremely\" + 0.011*\"demonstrated\"\n",
      "2017-06-14 22:23:48,953 : INFO : topic diff=0.000001, rho=0.133631\n",
      "2017-06-14 22:23:49,016 : INFO : -6.287 per-word bound, 78.1 perplexity estimate based on a held-out corpus of 19 documents with 1270 words\n",
      "2017-06-14 22:23:49,016 : INFO : PROGRESS: pass 55, at document #19/19\n",
      "2017-06-14 22:23:49,059 : INFO : topic #4 (0.143): 0.045*\"business\" + 0.030*\"reflective\" + 0.023*\"beer\" + 0.023*\"wine\" + 0.023*\"iri\" + 0.016*\"probably\" + 0.016*\"market\" + 0.016*\"category\" + 0.016*\"spirits\" + 0.016*\"categories\"\n",
      "2017-06-14 22:23:49,061 : INFO : topic #5 (0.143): 0.020*\"would\" + 0.017*\"brand\" + 0.014*\"n't\" + 0.014*\"say\" + 0.014*\"really\" + 0.014*\"'s\" + 0.010*\"yes\" + 0.010*\"lot\" + 0.010*\"changed\" + 0.010*\"craft\"\n",
      "2017-06-14 22:23:49,062 : INFO : topic #6 (0.143): 0.027*\"really\" + 0.027*\"'s\" + 0.020*\"brand\" + 0.020*\"would\" + 0.020*\"brands\" + 0.014*\"kind\" + 0.014*\"say\" + 0.010*\"n't\" + 0.010*\"segment\" + 0.010*\"interested\"\n",
      "2017-06-14 22:23:49,062 : INFO : topic #1 (0.143): 0.038*\"'s\" + 0.027*\"think\" + 0.025*\"like\" + 0.016*\"really\" + 0.016*\"say\" + 0.016*\"would\" + 0.014*\"sort\" + 0.011*\"new\" + 0.011*\"beer\" + 0.011*\"okay\"\n",
      "2017-06-14 22:23:49,063 : INFO : topic #3 (0.143): 0.047*\"'s\" + 0.035*\"growth\" + 0.027*\"distribution\" + 0.016*\"portfolio\" + 0.016*\"okay\" + 0.016*\"beer\" + 0.016*\"modelo\" + 0.016*\"especial\" + 0.016*\"brands\" + 0.012*\"point\"\n",
      "2017-06-14 22:23:49,065 : INFO : topic diff=0.000001, rho=0.132453\n",
      "2017-06-14 22:23:49,128 : INFO : -6.287 per-word bound, 78.1 perplexity estimate based on a held-out corpus of 19 documents with 1270 words\n",
      "2017-06-14 22:23:49,128 : INFO : PROGRESS: pass 56, at document #19/19\n",
      "2017-06-14 22:23:49,168 : INFO : topic #6 (0.143): 0.027*\"really\" + 0.027*\"'s\" + 0.020*\"brand\" + 0.020*\"would\" + 0.020*\"brands\" + 0.014*\"kind\" + 0.014*\"say\" + 0.010*\"n't\" + 0.010*\"segment\" + 0.010*\"interested\"\n",
      "2017-06-14 22:23:49,171 : INFO : topic #0 (0.143): 0.016*\"'s\" + 0.016*\"quarter\" + 0.016*\"hot\" + 0.016*\"pinot\" + 0.016*\"noir\" + 0.016*\"would\" + 0.012*\"said\" + 0.012*\"first\" + 0.012*\"brand\" + 0.012*\"mean\"\n",
      "2017-06-14 22:23:49,171 : INFO : topic #3 (0.143): 0.047*\"'s\" + 0.035*\"growth\" + 0.027*\"distribution\" + 0.016*\"portfolio\" + 0.016*\"okay\" + 0.016*\"beer\" + 0.016*\"modelo\" + 0.016*\"especial\" + 0.016*\"brands\" + 0.012*\"point\"\n",
      "2017-06-14 22:23:49,173 : INFO : topic #5 (0.143): 0.020*\"would\" + 0.017*\"brand\" + 0.014*\"n't\" + 0.014*\"say\" + 0.014*\"really\" + 0.014*\"'s\" + 0.010*\"yes\" + 0.010*\"lot\" + 0.010*\"changed\" + 0.010*\"craft\"\n",
      "2017-06-14 22:23:49,174 : INFO : topic #1 (0.143): 0.038*\"'s\" + 0.027*\"think\" + 0.025*\"like\" + 0.016*\"really\" + 0.016*\"say\" + 0.016*\"would\" + 0.014*\"sort\" + 0.011*\"new\" + 0.011*\"beer\" + 0.011*\"okay\"\n",
      "2017-06-14 22:23:49,174 : INFO : topic diff=0.000001, rho=0.131306\n",
      "2017-06-14 22:23:49,239 : INFO : -6.287 per-word bound, 78.1 perplexity estimate based on a held-out corpus of 19 documents with 1270 words\n",
      "2017-06-14 22:23:49,240 : INFO : PROGRESS: pass 57, at document #19/19\n",
      "2017-06-14 22:23:49,282 : INFO : topic #2 (0.143): 0.038*\"test\" + 0.029*\"well\" + 0.020*\"basically\" + 0.020*\"brand\" + 0.020*\"advertising\" + 0.011*\"back\" + 0.011*\"'re\" + 0.011*\"pretty\" + 0.011*\"extremely\" + 0.011*\"demonstrated\"\n",
      "2017-06-14 22:23:49,283 : INFO : topic #5 (0.143): 0.020*\"would\" + 0.017*\"brand\" + 0.014*\"n't\" + 0.014*\"say\" + 0.014*\"really\" + 0.014*\"'s\" + 0.010*\"yes\" + 0.010*\"lot\" + 0.010*\"changed\" + 0.010*\"craft\"\n",
      "2017-06-14 22:23:49,285 : INFO : topic #0 (0.143): 0.016*\"'s\" + 0.016*\"quarter\" + 0.016*\"hot\" + 0.016*\"pinot\" + 0.016*\"noir\" + 0.016*\"would\" + 0.012*\"said\" + 0.012*\"first\" + 0.012*\"brand\" + 0.012*\"mean\"\n",
      "2017-06-14 22:23:49,286 : INFO : topic #1 (0.143): 0.038*\"'s\" + 0.027*\"think\" + 0.025*\"like\" + 0.016*\"really\" + 0.016*\"say\" + 0.016*\"would\" + 0.014*\"sort\" + 0.011*\"new\" + 0.011*\"beer\" + 0.011*\"okay\"\n",
      "2017-06-14 22:23:49,286 : INFO : topic #3 (0.143): 0.047*\"'s\" + 0.035*\"growth\" + 0.027*\"distribution\" + 0.016*\"portfolio\" + 0.016*\"okay\" + 0.016*\"beer\" + 0.016*\"modelo\" + 0.016*\"especial\" + 0.016*\"brands\" + 0.012*\"point\"\n",
      "2017-06-14 22:23:49,288 : INFO : topic diff=0.000000, rho=0.130189\n",
      "2017-06-14 22:23:49,349 : INFO : -6.287 per-word bound, 78.1 perplexity estimate based on a held-out corpus of 19 documents with 1270 words\n",
      "2017-06-14 22:23:49,351 : INFO : PROGRESS: pass 58, at document #19/19\n",
      "2017-06-14 22:23:49,391 : INFO : topic #3 (0.143): 0.047*\"'s\" + 0.035*\"growth\" + 0.027*\"distribution\" + 0.016*\"portfolio\" + 0.016*\"okay\" + 0.016*\"beer\" + 0.016*\"modelo\" + 0.016*\"especial\" + 0.016*\"brands\" + 0.012*\"point\"\n",
      "2017-06-14 22:23:49,394 : INFO : topic #1 (0.143): 0.038*\"'s\" + 0.027*\"think\" + 0.025*\"like\" + 0.016*\"really\" + 0.016*\"say\" + 0.016*\"would\" + 0.014*\"sort\" + 0.011*\"new\" + 0.011*\"beer\" + 0.011*\"okay\"\n",
      "2017-06-14 22:23:49,394 : INFO : topic #0 (0.143): 0.016*\"'s\" + 0.016*\"quarter\" + 0.016*\"hot\" + 0.016*\"pinot\" + 0.016*\"noir\" + 0.016*\"would\" + 0.012*\"said\" + 0.012*\"first\" + 0.012*\"brand\" + 0.012*\"mean\"\n",
      "2017-06-14 22:23:49,395 : INFO : topic #6 (0.143): 0.027*\"really\" + 0.027*\"'s\" + 0.020*\"brand\" + 0.020*\"would\" + 0.020*\"brands\" + 0.014*\"kind\" + 0.014*\"say\" + 0.010*\"n't\" + 0.010*\"segment\" + 0.010*\"interested\"\n",
      "2017-06-14 22:23:49,397 : INFO : topic #4 (0.143): 0.045*\"business\" + 0.030*\"reflective\" + 0.023*\"beer\" + 0.023*\"wine\" + 0.023*\"iri\" + 0.016*\"probably\" + 0.016*\"market\" + 0.016*\"category\" + 0.016*\"spirits\" + 0.016*\"categories\"\n",
      "2017-06-14 22:23:49,398 : INFO : topic diff=0.000000, rho=0.129099\n",
      "2017-06-14 22:23:49,460 : INFO : -6.287 per-word bound, 78.1 perplexity estimate based on a held-out corpus of 19 documents with 1270 words\n",
      "2017-06-14 22:23:49,463 : INFO : PROGRESS: pass 59, at document #19/19\n",
      "2017-06-14 22:23:49,503 : INFO : topic #3 (0.143): 0.047*\"'s\" + 0.035*\"growth\" + 0.027*\"distribution\" + 0.016*\"portfolio\" + 0.016*\"okay\" + 0.016*\"beer\" + 0.016*\"modelo\" + 0.016*\"especial\" + 0.016*\"brands\" + 0.012*\"point\"\n",
      "2017-06-14 22:23:49,505 : INFO : topic #0 (0.143): 0.016*\"'s\" + 0.016*\"quarter\" + 0.016*\"hot\" + 0.016*\"pinot\" + 0.016*\"noir\" + 0.016*\"would\" + 0.012*\"said\" + 0.012*\"first\" + 0.012*\"brand\" + 0.012*\"mean\"\n",
      "2017-06-14 22:23:49,506 : INFO : topic #6 (0.143): 0.027*\"really\" + 0.027*\"'s\" + 0.020*\"brand\" + 0.020*\"would\" + 0.020*\"brands\" + 0.014*\"kind\" + 0.014*\"say\" + 0.010*\"n't\" + 0.010*\"segment\" + 0.010*\"interested\"\n",
      "2017-06-14 22:23:49,507 : INFO : topic #4 (0.143): 0.045*\"business\" + 0.030*\"reflective\" + 0.023*\"beer\" + 0.023*\"wine\" + 0.023*\"iri\" + 0.016*\"probably\" + 0.016*\"market\" + 0.016*\"category\" + 0.016*\"spirits\" + 0.016*\"categories\"\n",
      "2017-06-14 22:23:49,509 : INFO : topic #2 (0.143): 0.038*\"test\" + 0.029*\"well\" + 0.020*\"basically\" + 0.020*\"brand\" + 0.020*\"advertising\" + 0.011*\"back\" + 0.011*\"'re\" + 0.011*\"pretty\" + 0.011*\"extremely\" + 0.011*\"demonstrated\"\n",
      "2017-06-14 22:23:49,509 : INFO : topic diff=0.000000, rho=0.128037\n",
      "2017-06-14 22:23:49,572 : INFO : -6.287 per-word bound, 78.1 perplexity estimate based on a held-out corpus of 19 documents with 1270 words\n",
      "2017-06-14 22:23:49,573 : INFO : PROGRESS: pass 60, at document #19/19\n",
      "2017-06-14 22:23:49,615 : INFO : topic #1 (0.143): 0.038*\"'s\" + 0.027*\"think\" + 0.025*\"like\" + 0.016*\"really\" + 0.016*\"say\" + 0.016*\"would\" + 0.014*\"sort\" + 0.011*\"new\" + 0.011*\"beer\" + 0.011*\"okay\"\n",
      "2017-06-14 22:23:49,617 : INFO : topic #3 (0.143): 0.047*\"'s\" + 0.035*\"growth\" + 0.027*\"distribution\" + 0.016*\"portfolio\" + 0.016*\"okay\" + 0.016*\"beer\" + 0.016*\"modelo\" + 0.016*\"especial\" + 0.016*\"brands\" + 0.012*\"point\"\n",
      "2017-06-14 22:23:49,618 : INFO : topic #5 (0.143): 0.020*\"would\" + 0.017*\"brand\" + 0.014*\"n't\" + 0.014*\"say\" + 0.014*\"really\" + 0.014*\"'s\" + 0.010*\"yes\" + 0.010*\"lot\" + 0.010*\"changed\" + 0.010*\"craft\"\n",
      "2017-06-14 22:23:49,618 : INFO : topic #6 (0.143): 0.027*\"really\" + 0.027*\"'s\" + 0.020*\"brand\" + 0.020*\"would\" + 0.020*\"brands\" + 0.014*\"kind\" + 0.014*\"say\" + 0.010*\"n't\" + 0.010*\"segment\" + 0.010*\"interested\"\n",
      "2017-06-14 22:23:49,619 : INFO : topic #4 (0.143): 0.045*\"business\" + 0.030*\"reflective\" + 0.023*\"beer\" + 0.023*\"wine\" + 0.023*\"iri\" + 0.016*\"probably\" + 0.016*\"market\" + 0.016*\"category\" + 0.016*\"spirits\" + 0.016*\"categories\"\n",
      "2017-06-14 22:23:49,621 : INFO : topic diff=0.000000, rho=0.127000\n",
      "2017-06-14 22:23:49,684 : INFO : -6.287 per-word bound, 78.1 perplexity estimate based on a held-out corpus of 19 documents with 1270 words\n",
      "2017-06-14 22:23:49,686 : INFO : PROGRESS: pass 61, at document #19/19\n",
      "2017-06-14 22:23:49,726 : INFO : topic #1 (0.143): 0.038*\"'s\" + 0.027*\"think\" + 0.025*\"like\" + 0.016*\"really\" + 0.016*\"say\" + 0.016*\"would\" + 0.014*\"sort\" + 0.011*\"new\" + 0.011*\"beer\" + 0.011*\"okay\"\n",
      "2017-06-14 22:23:49,729 : INFO : topic #2 (0.143): 0.038*\"test\" + 0.029*\"well\" + 0.020*\"basically\" + 0.020*\"brand\" + 0.020*\"advertising\" + 0.011*\"back\" + 0.011*\"'re\" + 0.011*\"pretty\" + 0.011*\"extremely\" + 0.011*\"demonstrated\"\n",
      "2017-06-14 22:23:49,730 : INFO : topic #6 (0.143): 0.027*\"really\" + 0.027*\"'s\" + 0.020*\"brand\" + 0.020*\"would\" + 0.020*\"brands\" + 0.014*\"kind\" + 0.014*\"say\" + 0.010*\"n't\" + 0.010*\"segment\" + 0.010*\"think\"\n",
      "2017-06-14 22:23:49,730 : INFO : topic #0 (0.143): 0.016*\"'s\" + 0.016*\"quarter\" + 0.016*\"hot\" + 0.016*\"pinot\" + 0.016*\"noir\" + 0.016*\"would\" + 0.012*\"said\" + 0.012*\"first\" + 0.012*\"brand\" + 0.012*\"mean\"\n",
      "2017-06-14 22:23:49,733 : INFO : topic #3 (0.143): 0.047*\"'s\" + 0.035*\"growth\" + 0.027*\"distribution\" + 0.016*\"portfolio\" + 0.016*\"okay\" + 0.016*\"beer\" + 0.016*\"modelo\" + 0.016*\"especial\" + 0.016*\"brands\" + 0.012*\"point\"\n",
      "2017-06-14 22:23:49,733 : INFO : topic diff=0.000000, rho=0.125988\n",
      "2017-06-14 22:23:49,796 : INFO : -6.287 per-word bound, 78.1 perplexity estimate based on a held-out corpus of 19 documents with 1270 words\n",
      "2017-06-14 22:23:49,798 : INFO : PROGRESS: pass 62, at document #19/19\n",
      "2017-06-14 22:23:49,839 : INFO : topic #6 (0.143): 0.027*\"really\" + 0.027*\"'s\" + 0.020*\"brand\" + 0.020*\"would\" + 0.020*\"brands\" + 0.014*\"kind\" + 0.014*\"say\" + 0.010*\"n't\" + 0.010*\"segment\" + 0.010*\"think\"\n",
      "2017-06-14 22:23:49,841 : INFO : topic #3 (0.143): 0.047*\"'s\" + 0.035*\"growth\" + 0.027*\"distribution\" + 0.016*\"portfolio\" + 0.016*\"okay\" + 0.016*\"beer\" + 0.016*\"modelo\" + 0.016*\"especial\" + 0.016*\"brands\" + 0.012*\"point\"\n",
      "2017-06-14 22:23:49,842 : INFO : topic #2 (0.143): 0.038*\"test\" + 0.029*\"well\" + 0.020*\"basically\" + 0.020*\"brand\" + 0.020*\"advertising\" + 0.011*\"back\" + 0.011*\"'re\" + 0.011*\"pretty\" + 0.011*\"extremely\" + 0.011*\"demonstrated\"\n",
      "2017-06-14 22:23:49,844 : INFO : topic #5 (0.143): 0.020*\"would\" + 0.017*\"brand\" + 0.014*\"n't\" + 0.014*\"say\" + 0.014*\"really\" + 0.014*\"'s\" + 0.010*\"yes\" + 0.010*\"lot\" + 0.010*\"changed\" + 0.010*\"craft\"\n",
      "2017-06-14 22:23:49,845 : INFO : topic #0 (0.143): 0.016*\"'s\" + 0.016*\"quarter\" + 0.016*\"hot\" + 0.016*\"pinot\" + 0.016*\"noir\" + 0.016*\"would\" + 0.012*\"said\" + 0.012*\"first\" + 0.012*\"brand\" + 0.012*\"mean\"\n",
      "2017-06-14 22:23:49,845 : INFO : topic diff=0.000000, rho=0.125000\n",
      "2017-06-14 22:23:49,908 : INFO : -6.287 per-word bound, 78.1 perplexity estimate based on a held-out corpus of 19 documents with 1270 words\n",
      "2017-06-14 22:23:49,910 : INFO : PROGRESS: pass 63, at document #19/19\n",
      "2017-06-14 22:23:49,951 : INFO : topic #4 (0.143): 0.045*\"business\" + 0.030*\"reflective\" + 0.023*\"beer\" + 0.023*\"wine\" + 0.023*\"iri\" + 0.016*\"probably\" + 0.016*\"market\" + 0.016*\"category\" + 0.016*\"spirits\" + 0.016*\"categories\"\n",
      "2017-06-14 22:23:49,953 : INFO : topic #2 (0.143): 0.038*\"test\" + 0.029*\"well\" + 0.020*\"basically\" + 0.020*\"brand\" + 0.020*\"advertising\" + 0.011*\"back\" + 0.011*\"'re\" + 0.011*\"pretty\" + 0.011*\"extremely\" + 0.011*\"demonstrated\"\n",
      "2017-06-14 22:23:49,954 : INFO : topic #3 (0.143): 0.047*\"'s\" + 0.035*\"growth\" + 0.027*\"distribution\" + 0.016*\"portfolio\" + 0.016*\"okay\" + 0.016*\"beer\" + 0.016*\"modelo\" + 0.016*\"especial\" + 0.016*\"brands\" + 0.012*\"point\"\n",
      "2017-06-14 22:23:49,957 : INFO : topic #6 (0.143): 0.027*\"really\" + 0.027*\"'s\" + 0.020*\"brand\" + 0.020*\"would\" + 0.020*\"brands\" + 0.014*\"kind\" + 0.014*\"say\" + 0.010*\"n't\" + 0.010*\"segment\" + 0.010*\"think\"\n",
      "2017-06-14 22:23:49,957 : INFO : topic #5 (0.143): 0.020*\"would\" + 0.017*\"brand\" + 0.014*\"n't\" + 0.014*\"say\" + 0.014*\"really\" + 0.014*\"'s\" + 0.010*\"yes\" + 0.010*\"lot\" + 0.010*\"changed\" + 0.010*\"craft\"\n",
      "2017-06-14 22:23:49,960 : INFO : topic diff=0.000000, rho=0.124035\n",
      "2017-06-14 22:23:50,023 : INFO : -6.287 per-word bound, 78.1 perplexity estimate based on a held-out corpus of 19 documents with 1270 words\n",
      "2017-06-14 22:23:50,025 : INFO : PROGRESS: pass 64, at document #19/19\n",
      "2017-06-14 22:23:50,065 : INFO : topic #3 (0.143): 0.047*\"'s\" + 0.035*\"growth\" + 0.027*\"distribution\" + 0.016*\"portfolio\" + 0.016*\"okay\" + 0.016*\"beer\" + 0.016*\"modelo\" + 0.016*\"especial\" + 0.016*\"brands\" + 0.012*\"point\"\n",
      "2017-06-14 22:23:50,068 : INFO : topic #2 (0.143): 0.038*\"test\" + 0.029*\"well\" + 0.020*\"basically\" + 0.020*\"brand\" + 0.020*\"advertising\" + 0.011*\"back\" + 0.011*\"'re\" + 0.011*\"pretty\" + 0.011*\"extremely\" + 0.011*\"demonstrated\"\n",
      "2017-06-14 22:23:50,069 : INFO : topic #5 (0.143): 0.020*\"would\" + 0.017*\"brand\" + 0.014*\"n't\" + 0.014*\"say\" + 0.014*\"really\" + 0.014*\"'s\" + 0.010*\"yes\" + 0.010*\"lot\" + 0.010*\"changed\" + 0.010*\"craft\"\n",
      "2017-06-14 22:23:50,071 : INFO : topic #6 (0.143): 0.027*\"really\" + 0.027*\"'s\" + 0.020*\"brand\" + 0.020*\"would\" + 0.020*\"brands\" + 0.014*\"kind\" + 0.014*\"say\" + 0.010*\"n't\" + 0.010*\"segment\" + 0.010*\"think\"\n",
      "2017-06-14 22:23:50,072 : INFO : topic #4 (0.143): 0.045*\"business\" + 0.030*\"reflective\" + 0.023*\"beer\" + 0.023*\"wine\" + 0.023*\"iri\" + 0.016*\"probably\" + 0.016*\"market\" + 0.016*\"category\" + 0.016*\"spirits\" + 0.016*\"categories\"\n",
      "2017-06-14 22:23:50,072 : INFO : topic diff=0.000000, rho=0.123091\n",
      "2017-06-14 22:23:50,137 : INFO : -6.287 per-word bound, 78.1 perplexity estimate based on a held-out corpus of 19 documents with 1270 words\n",
      "2017-06-14 22:23:50,138 : INFO : PROGRESS: pass 65, at document #19/19\n",
      "2017-06-14 22:23:50,178 : INFO : topic #5 (0.143): 0.020*\"would\" + 0.017*\"brand\" + 0.014*\"n't\" + 0.014*\"say\" + 0.014*\"really\" + 0.014*\"'s\" + 0.010*\"yes\" + 0.010*\"lot\" + 0.010*\"changed\" + 0.010*\"craft\"\n",
      "2017-06-14 22:23:50,180 : INFO : topic #3 (0.143): 0.047*\"'s\" + 0.035*\"growth\" + 0.027*\"distribution\" + 0.016*\"portfolio\" + 0.016*\"okay\" + 0.016*\"beer\" + 0.016*\"modelo\" + 0.016*\"especial\" + 0.016*\"brands\" + 0.012*\"point\"\n",
      "2017-06-14 22:23:50,183 : INFO : topic #2 (0.143): 0.038*\"test\" + 0.029*\"well\" + 0.020*\"basically\" + 0.020*\"brand\" + 0.020*\"advertising\" + 0.011*\"back\" + 0.011*\"'re\" + 0.011*\"pretty\" + 0.011*\"extremely\" + 0.011*\"demonstrated\"\n",
      "2017-06-14 22:23:50,184 : INFO : topic #4 (0.143): 0.045*\"business\" + 0.030*\"reflective\" + 0.023*\"beer\" + 0.023*\"wine\" + 0.023*\"iri\" + 0.016*\"probably\" + 0.016*\"market\" + 0.016*\"category\" + 0.016*\"spirits\" + 0.016*\"categories\"\n",
      "2017-06-14 22:23:50,186 : INFO : topic #1 (0.143): 0.038*\"'s\" + 0.027*\"think\" + 0.025*\"like\" + 0.016*\"really\" + 0.016*\"say\" + 0.016*\"would\" + 0.014*\"sort\" + 0.011*\"new\" + 0.011*\"beer\" + 0.011*\"okay\"\n",
      "2017-06-14 22:23:50,187 : INFO : topic diff=0.000000, rho=0.122169\n",
      "2017-06-14 22:23:50,250 : INFO : -6.287 per-word bound, 78.1 perplexity estimate based on a held-out corpus of 19 documents with 1270 words\n",
      "2017-06-14 22:23:50,252 : INFO : PROGRESS: pass 66, at document #19/19\n",
      "2017-06-14 22:23:50,292 : INFO : topic #4 (0.143): 0.045*\"business\" + 0.030*\"reflective\" + 0.023*\"beer\" + 0.023*\"wine\" + 0.023*\"iri\" + 0.016*\"probably\" + 0.016*\"market\" + 0.016*\"category\" + 0.016*\"spirits\" + 0.016*\"categories\"\n",
      "2017-06-14 22:23:50,295 : INFO : topic #5 (0.143): 0.020*\"would\" + 0.017*\"brand\" + 0.014*\"n't\" + 0.014*\"say\" + 0.014*\"really\" + 0.014*\"'s\" + 0.010*\"yes\" + 0.010*\"lot\" + 0.010*\"changed\" + 0.010*\"craft\"\n",
      "2017-06-14 22:23:50,296 : INFO : topic #1 (0.143): 0.038*\"'s\" + 0.027*\"think\" + 0.025*\"like\" + 0.016*\"really\" + 0.016*\"say\" + 0.016*\"would\" + 0.014*\"sort\" + 0.011*\"new\" + 0.011*\"beer\" + 0.011*\"okay\"\n",
      "2017-06-14 22:23:50,299 : INFO : topic #3 (0.143): 0.047*\"'s\" + 0.035*\"growth\" + 0.027*\"distribution\" + 0.016*\"portfolio\" + 0.016*\"okay\" + 0.016*\"beer\" + 0.016*\"modelo\" + 0.016*\"especial\" + 0.016*\"brands\" + 0.012*\"point\"\n",
      "2017-06-14 22:23:50,299 : INFO : topic #2 (0.143): 0.038*\"test\" + 0.029*\"well\" + 0.020*\"basically\" + 0.020*\"brand\" + 0.020*\"advertising\" + 0.011*\"back\" + 0.011*\"'re\" + 0.011*\"pretty\" + 0.011*\"extremely\" + 0.011*\"demonstrated\"\n",
      "2017-06-14 22:23:50,301 : INFO : topic diff=0.000000, rho=0.121268\n",
      "2017-06-14 22:23:50,365 : INFO : -6.287 per-word bound, 78.1 perplexity estimate based on a held-out corpus of 19 documents with 1270 words\n",
      "2017-06-14 22:23:50,367 : INFO : PROGRESS: pass 67, at document #19/19\n",
      "2017-06-14 22:23:50,410 : INFO : topic #2 (0.143): 0.038*\"test\" + 0.029*\"well\" + 0.020*\"basically\" + 0.020*\"brand\" + 0.020*\"advertising\" + 0.011*\"back\" + 0.011*\"'re\" + 0.011*\"pretty\" + 0.011*\"extremely\" + 0.011*\"demonstrated\"\n",
      "2017-06-14 22:23:50,411 : INFO : topic #0 (0.143): 0.016*\"'s\" + 0.016*\"quarter\" + 0.016*\"hot\" + 0.016*\"pinot\" + 0.016*\"noir\" + 0.016*\"would\" + 0.012*\"said\" + 0.012*\"first\" + 0.012*\"brand\" + 0.012*\"mean\"\n",
      "2017-06-14 22:23:50,413 : INFO : topic #6 (0.143): 0.027*\"really\" + 0.027*\"'s\" + 0.020*\"brand\" + 0.020*\"would\" + 0.020*\"brands\" + 0.014*\"kind\" + 0.014*\"say\" + 0.010*\"n't\" + 0.010*\"segment\" + 0.010*\"think\"\n",
      "2017-06-14 22:23:50,414 : INFO : topic #5 (0.143): 0.020*\"would\" + 0.017*\"brand\" + 0.014*\"n't\" + 0.014*\"say\" + 0.014*\"really\" + 0.014*\"'s\" + 0.010*\"yes\" + 0.010*\"lot\" + 0.010*\"changed\" + 0.010*\"craft\"\n",
      "2017-06-14 22:23:50,414 : INFO : topic #1 (0.143): 0.038*\"'s\" + 0.027*\"think\" + 0.025*\"like\" + 0.016*\"really\" + 0.016*\"say\" + 0.016*\"would\" + 0.014*\"sort\" + 0.011*\"new\" + 0.011*\"beer\" + 0.011*\"okay\"\n",
      "2017-06-14 22:23:50,417 : INFO : topic diff=0.000000, rho=0.120386\n",
      "2017-06-14 22:23:50,480 : INFO : -6.287 per-word bound, 78.1 perplexity estimate based on a held-out corpus of 19 documents with 1270 words\n",
      "2017-06-14 22:23:50,480 : INFO : PROGRESS: pass 68, at document #19/19\n",
      "2017-06-14 22:23:50,522 : INFO : topic #6 (0.143): 0.027*\"really\" + 0.027*\"'s\" + 0.020*\"brand\" + 0.020*\"would\" + 0.020*\"brands\" + 0.014*\"kind\" + 0.014*\"say\" + 0.010*\"n't\" + 0.010*\"segment\" + 0.010*\"think\"\n",
      "2017-06-14 22:23:50,523 : INFO : topic #1 (0.143): 0.038*\"'s\" + 0.027*\"think\" + 0.025*\"like\" + 0.016*\"really\" + 0.016*\"say\" + 0.016*\"would\" + 0.014*\"sort\" + 0.011*\"new\" + 0.011*\"beer\" + 0.011*\"okay\"\n",
      "2017-06-14 22:23:50,526 : INFO : topic #4 (0.143): 0.045*\"business\" + 0.030*\"reflective\" + 0.023*\"beer\" + 0.023*\"wine\" + 0.023*\"iri\" + 0.016*\"probably\" + 0.016*\"market\" + 0.016*\"category\" + 0.016*\"spirits\" + 0.016*\"categories\"\n",
      "2017-06-14 22:23:50,526 : INFO : topic #2 (0.143): 0.038*\"test\" + 0.029*\"well\" + 0.020*\"basically\" + 0.020*\"brand\" + 0.020*\"advertising\" + 0.011*\"back\" + 0.011*\"'re\" + 0.011*\"pretty\" + 0.011*\"extremely\" + 0.011*\"demonstrated\"\n",
      "2017-06-14 22:23:50,529 : INFO : topic #0 (0.143): 0.016*\"'s\" + 0.016*\"quarter\" + 0.016*\"hot\" + 0.016*\"pinot\" + 0.016*\"noir\" + 0.016*\"would\" + 0.012*\"said\" + 0.012*\"first\" + 0.012*\"brand\" + 0.012*\"mean\"\n",
      "2017-06-14 22:23:50,529 : INFO : topic diff=0.000000, rho=0.119523\n",
      "2017-06-14 22:23:50,591 : INFO : -6.287 per-word bound, 78.1 perplexity estimate based on a held-out corpus of 19 documents with 1270 words\n",
      "2017-06-14 22:23:50,592 : INFO : PROGRESS: pass 69, at document #19/19\n",
      "2017-06-14 22:23:50,632 : INFO : topic #2 (0.143): 0.038*\"test\" + 0.029*\"well\" + 0.020*\"basically\" + 0.020*\"brand\" + 0.020*\"advertising\" + 0.011*\"back\" + 0.011*\"'re\" + 0.011*\"pretty\" + 0.011*\"extremely\" + 0.011*\"demonstrated\"\n",
      "2017-06-14 22:23:50,634 : INFO : topic #0 (0.143): 0.016*\"'s\" + 0.016*\"quarter\" + 0.016*\"hot\" + 0.016*\"pinot\" + 0.016*\"noir\" + 0.016*\"would\" + 0.012*\"said\" + 0.012*\"first\" + 0.012*\"brand\" + 0.012*\"mean\"\n",
      "2017-06-14 22:23:50,634 : INFO : topic #3 (0.143): 0.047*\"'s\" + 0.035*\"growth\" + 0.027*\"distribution\" + 0.016*\"portfolio\" + 0.016*\"okay\" + 0.016*\"beer\" + 0.016*\"modelo\" + 0.016*\"especial\" + 0.016*\"brands\" + 0.012*\"point\"\n",
      "2017-06-14 22:23:50,635 : INFO : topic #6 (0.143): 0.027*\"really\" + 0.027*\"'s\" + 0.020*\"brand\" + 0.020*\"would\" + 0.020*\"brands\" + 0.014*\"kind\" + 0.014*\"say\" + 0.010*\"n't\" + 0.010*\"segment\" + 0.010*\"think\"\n",
      "2017-06-14 22:23:50,638 : INFO : topic #5 (0.143): 0.020*\"would\" + 0.017*\"brand\" + 0.014*\"n't\" + 0.014*\"say\" + 0.014*\"really\" + 0.014*\"'s\" + 0.010*\"yes\" + 0.010*\"lot\" + 0.010*\"changed\" + 0.010*\"craft\"\n",
      "2017-06-14 22:23:50,638 : INFO : topic diff=0.000000, rho=0.118678\n",
      "2017-06-14 22:23:50,703 : INFO : -6.287 per-word bound, 78.1 perplexity estimate based on a held-out corpus of 19 documents with 1270 words\n",
      "2017-06-14 22:23:50,703 : INFO : PROGRESS: pass 70, at document #19/19\n",
      "2017-06-14 22:23:50,744 : INFO : topic #4 (0.143): 0.045*\"business\" + 0.030*\"reflective\" + 0.023*\"beer\" + 0.023*\"wine\" + 0.023*\"iri\" + 0.016*\"probably\" + 0.016*\"market\" + 0.016*\"category\" + 0.016*\"spirits\" + 0.016*\"categories\"\n",
      "2017-06-14 22:23:50,746 : INFO : topic #6 (0.143): 0.027*\"really\" + 0.027*\"'s\" + 0.020*\"brand\" + 0.020*\"would\" + 0.020*\"brands\" + 0.014*\"kind\" + 0.014*\"say\" + 0.010*\"n't\" + 0.010*\"segment\" + 0.010*\"think\"\n",
      "2017-06-14 22:23:50,747 : INFO : topic #0 (0.143): 0.016*\"'s\" + 0.016*\"quarter\" + 0.016*\"hot\" + 0.016*\"pinot\" + 0.016*\"noir\" + 0.016*\"would\" + 0.012*\"said\" + 0.012*\"first\" + 0.012*\"brand\" + 0.012*\"mean\"\n",
      "2017-06-14 22:23:50,749 : INFO : topic #3 (0.143): 0.047*\"'s\" + 0.035*\"growth\" + 0.027*\"distribution\" + 0.016*\"portfolio\" + 0.016*\"okay\" + 0.016*\"beer\" + 0.016*\"modelo\" + 0.016*\"especial\" + 0.016*\"brands\" + 0.012*\"point\"\n",
      "2017-06-14 22:23:50,750 : INFO : topic #5 (0.143): 0.020*\"would\" + 0.017*\"brand\" + 0.014*\"n't\" + 0.014*\"say\" + 0.014*\"really\" + 0.014*\"'s\" + 0.010*\"yes\" + 0.010*\"lot\" + 0.010*\"changed\" + 0.010*\"craft\"\n",
      "2017-06-14 22:23:50,750 : INFO : topic diff=0.000000, rho=0.117851\n",
      "2017-06-14 22:23:50,813 : INFO : -6.287 per-word bound, 78.1 perplexity estimate based on a held-out corpus of 19 documents with 1270 words\n",
      "2017-06-14 22:23:50,815 : INFO : PROGRESS: pass 71, at document #19/19\n",
      "2017-06-14 22:23:50,857 : INFO : topic #6 (0.143): 0.027*\"really\" + 0.027*\"'s\" + 0.020*\"brand\" + 0.020*\"would\" + 0.020*\"brands\" + 0.014*\"kind\" + 0.014*\"say\" + 0.010*\"n't\" + 0.010*\"segment\" + 0.010*\"think\"\n",
      "2017-06-14 22:23:50,858 : INFO : topic #5 (0.143): 0.020*\"would\" + 0.017*\"brand\" + 0.014*\"n't\" + 0.014*\"say\" + 0.014*\"really\" + 0.014*\"'s\" + 0.010*\"yes\" + 0.010*\"lot\" + 0.010*\"changed\" + 0.010*\"craft\"\n",
      "2017-06-14 22:23:50,859 : INFO : topic #4 (0.143): 0.045*\"business\" + 0.030*\"reflective\" + 0.023*\"beer\" + 0.023*\"wine\" + 0.023*\"iri\" + 0.016*\"probably\" + 0.016*\"market\" + 0.016*\"category\" + 0.016*\"spirits\" + 0.016*\"categories\"\n",
      "2017-06-14 22:23:50,861 : INFO : topic #2 (0.143): 0.038*\"test\" + 0.029*\"well\" + 0.020*\"basically\" + 0.020*\"brand\" + 0.020*\"advertising\" + 0.011*\"back\" + 0.011*\"'re\" + 0.011*\"pretty\" + 0.011*\"extremely\" + 0.011*\"demonstrated\"\n",
      "2017-06-14 22:23:50,862 : INFO : topic #1 (0.143): 0.038*\"'s\" + 0.027*\"think\" + 0.025*\"like\" + 0.016*\"really\" + 0.016*\"say\" + 0.016*\"would\" + 0.014*\"sort\" + 0.011*\"new\" + 0.011*\"beer\" + 0.011*\"okay\"\n",
      "2017-06-14 22:23:50,864 : INFO : topic diff=0.000000, rho=0.117041\n",
      "2017-06-14 22:23:50,926 : INFO : -6.287 per-word bound, 78.1 perplexity estimate based on a held-out corpus of 19 documents with 1270 words\n",
      "2017-06-14 22:23:50,927 : INFO : PROGRESS: pass 72, at document #19/19\n",
      "2017-06-14 22:23:50,967 : INFO : topic #2 (0.143): 0.038*\"test\" + 0.029*\"well\" + 0.020*\"basically\" + 0.020*\"brand\" + 0.020*\"advertising\" + 0.011*\"back\" + 0.011*\"'re\" + 0.011*\"pretty\" + 0.011*\"extremely\" + 0.011*\"demonstrated\"\n",
      "2017-06-14 22:23:50,970 : INFO : topic #3 (0.143): 0.047*\"'s\" + 0.035*\"growth\" + 0.027*\"distribution\" + 0.016*\"portfolio\" + 0.016*\"okay\" + 0.016*\"beer\" + 0.016*\"modelo\" + 0.016*\"especial\" + 0.016*\"brands\" + 0.012*\"point\"\n",
      "2017-06-14 22:23:50,971 : INFO : topic #1 (0.143): 0.038*\"'s\" + 0.027*\"think\" + 0.025*\"like\" + 0.016*\"really\" + 0.016*\"say\" + 0.016*\"would\" + 0.014*\"sort\" + 0.011*\"new\" + 0.011*\"beer\" + 0.011*\"okay\"\n",
      "2017-06-14 22:23:50,973 : INFO : topic #4 (0.143): 0.045*\"business\" + 0.030*\"reflective\" + 0.023*\"beer\" + 0.023*\"wine\" + 0.023*\"iri\" + 0.016*\"probably\" + 0.016*\"market\" + 0.016*\"category\" + 0.016*\"spirits\" + 0.016*\"categories\"\n",
      "2017-06-14 22:23:50,973 : INFO : topic #5 (0.143): 0.020*\"would\" + 0.017*\"brand\" + 0.014*\"n't\" + 0.014*\"say\" + 0.014*\"really\" + 0.014*\"'s\" + 0.010*\"yes\" + 0.010*\"lot\" + 0.010*\"changed\" + 0.010*\"craft\"\n",
      "2017-06-14 22:23:50,974 : INFO : topic diff=0.000000, rho=0.116248\n",
      "2017-06-14 22:23:51,038 : INFO : -6.287 per-word bound, 78.1 perplexity estimate based on a held-out corpus of 19 documents with 1270 words\n",
      "2017-06-14 22:23:51,039 : INFO : PROGRESS: pass 73, at document #19/19\n",
      "2017-06-14 22:23:51,081 : INFO : topic #1 (0.143): 0.038*\"'s\" + 0.027*\"think\" + 0.025*\"like\" + 0.016*\"really\" + 0.016*\"say\" + 0.016*\"would\" + 0.014*\"sort\" + 0.011*\"new\" + 0.011*\"beer\" + 0.011*\"okay\"\n",
      "2017-06-14 22:23:51,082 : INFO : topic #2 (0.143): 0.038*\"test\" + 0.029*\"well\" + 0.020*\"basically\" + 0.020*\"brand\" + 0.020*\"advertising\" + 0.011*\"back\" + 0.011*\"'re\" + 0.011*\"pretty\" + 0.011*\"extremely\" + 0.011*\"demonstrated\"\n",
      "2017-06-14 22:23:51,084 : INFO : topic #3 (0.143): 0.047*\"'s\" + 0.035*\"growth\" + 0.027*\"distribution\" + 0.016*\"portfolio\" + 0.016*\"okay\" + 0.016*\"beer\" + 0.016*\"modelo\" + 0.016*\"especial\" + 0.016*\"brands\" + 0.012*\"point\"\n",
      "2017-06-14 22:23:51,085 : INFO : topic #6 (0.143): 0.027*\"really\" + 0.027*\"'s\" + 0.020*\"brand\" + 0.020*\"would\" + 0.020*\"brands\" + 0.014*\"kind\" + 0.014*\"say\" + 0.010*\"n't\" + 0.010*\"segment\" + 0.010*\"think\"\n",
      "2017-06-14 22:23:51,085 : INFO : topic #0 (0.143): 0.016*\"'s\" + 0.016*\"quarter\" + 0.016*\"hot\" + 0.016*\"pinot\" + 0.016*\"noir\" + 0.016*\"would\" + 0.012*\"said\" + 0.012*\"first\" + 0.012*\"brand\" + 0.012*\"mean\"\n",
      "2017-06-14 22:23:51,088 : INFO : topic diff=0.000000, rho=0.115470\n",
      "2017-06-14 22:23:51,151 : INFO : -6.287 per-word bound, 78.1 perplexity estimate based on a held-out corpus of 19 documents with 1270 words\n",
      "2017-06-14 22:23:51,151 : INFO : PROGRESS: pass 74, at document #19/19\n",
      "2017-06-14 22:23:51,193 : INFO : topic #5 (0.143): 0.020*\"would\" + 0.017*\"brand\" + 0.014*\"n't\" + 0.014*\"say\" + 0.014*\"really\" + 0.014*\"'s\" + 0.010*\"yes\" + 0.010*\"lot\" + 0.010*\"changed\" + 0.010*\"craft\"\n",
      "2017-06-14 22:23:51,194 : INFO : topic #3 (0.143): 0.047*\"'s\" + 0.035*\"growth\" + 0.027*\"distribution\" + 0.016*\"portfolio\" + 0.016*\"okay\" + 0.016*\"beer\" + 0.016*\"modelo\" + 0.016*\"especial\" + 0.016*\"brands\" + 0.012*\"point\"\n",
      "2017-06-14 22:23:51,194 : INFO : topic #1 (0.143): 0.038*\"'s\" + 0.027*\"think\" + 0.025*\"like\" + 0.016*\"really\" + 0.016*\"say\" + 0.016*\"would\" + 0.014*\"sort\" + 0.011*\"new\" + 0.011*\"beer\" + 0.011*\"okay\"\n",
      "2017-06-14 22:23:51,197 : INFO : topic #6 (0.143): 0.027*\"really\" + 0.027*\"'s\" + 0.020*\"brand\" + 0.020*\"would\" + 0.020*\"brands\" + 0.014*\"kind\" + 0.014*\"say\" + 0.010*\"n't\" + 0.010*\"segment\" + 0.010*\"think\"\n",
      "2017-06-14 22:23:51,197 : INFO : topic #4 (0.143): 0.045*\"business\" + 0.030*\"reflective\" + 0.023*\"beer\" + 0.023*\"wine\" + 0.023*\"iri\" + 0.016*\"probably\" + 0.016*\"market\" + 0.016*\"category\" + 0.016*\"spirits\" + 0.016*\"categories\"\n",
      "2017-06-14 22:23:51,198 : INFO : topic diff=0.000000, rho=0.114708\n",
      "2017-06-14 22:23:51,262 : INFO : -6.287 per-word bound, 78.1 perplexity estimate based on a held-out corpus of 19 documents with 1270 words\n",
      "2017-06-14 22:23:51,263 : INFO : PROGRESS: pass 75, at document #19/19\n",
      "2017-06-14 22:23:51,305 : INFO : topic #2 (0.143): 0.038*\"test\" + 0.029*\"well\" + 0.020*\"basically\" + 0.020*\"brand\" + 0.020*\"advertising\" + 0.011*\"back\" + 0.011*\"'re\" + 0.011*\"pretty\" + 0.011*\"extremely\" + 0.011*\"demonstrated\"\n",
      "2017-06-14 22:23:51,305 : INFO : topic #6 (0.143): 0.027*\"really\" + 0.027*\"'s\" + 0.020*\"brand\" + 0.020*\"would\" + 0.020*\"brands\" + 0.014*\"kind\" + 0.014*\"say\" + 0.010*\"n't\" + 0.010*\"segment\" + 0.010*\"think\"\n",
      "2017-06-14 22:23:51,308 : INFO : topic #1 (0.143): 0.038*\"'s\" + 0.027*\"think\" + 0.025*\"like\" + 0.016*\"really\" + 0.016*\"say\" + 0.016*\"would\" + 0.014*\"sort\" + 0.011*\"new\" + 0.011*\"beer\" + 0.011*\"okay\"\n",
      "2017-06-14 22:23:51,309 : INFO : topic #3 (0.143): 0.047*\"'s\" + 0.035*\"growth\" + 0.027*\"distribution\" + 0.016*\"portfolio\" + 0.016*\"okay\" + 0.016*\"beer\" + 0.016*\"modelo\" + 0.016*\"especial\" + 0.016*\"brands\" + 0.012*\"point\"\n",
      "2017-06-14 22:23:51,309 : INFO : topic #4 (0.143): 0.045*\"business\" + 0.030*\"reflective\" + 0.023*\"beer\" + 0.023*\"wine\" + 0.023*\"iri\" + 0.016*\"probably\" + 0.016*\"market\" + 0.016*\"category\" + 0.016*\"spirits\" + 0.016*\"categories\"\n",
      "2017-06-14 22:23:51,311 : INFO : topic diff=0.000000, rho=0.113961\n",
      "2017-06-14 22:23:51,375 : INFO : -6.287 per-word bound, 78.1 perplexity estimate based on a held-out corpus of 19 documents with 1270 words\n",
      "2017-06-14 22:23:51,377 : INFO : PROGRESS: pass 76, at document #19/19\n",
      "2017-06-14 22:23:51,417 : INFO : topic #6 (0.143): 0.027*\"really\" + 0.027*\"'s\" + 0.020*\"brand\" + 0.020*\"would\" + 0.020*\"brands\" + 0.014*\"kind\" + 0.014*\"say\" + 0.010*\"n't\" + 0.010*\"segment\" + 0.010*\"think\"\n",
      "2017-06-14 22:23:51,417 : INFO : topic #1 (0.143): 0.038*\"'s\" + 0.027*\"think\" + 0.025*\"like\" + 0.016*\"really\" + 0.016*\"say\" + 0.016*\"would\" + 0.014*\"sort\" + 0.011*\"new\" + 0.011*\"beer\" + 0.011*\"okay\"\n",
      "2017-06-14 22:23:51,420 : INFO : topic #4 (0.143): 0.045*\"business\" + 0.030*\"reflective\" + 0.023*\"beer\" + 0.023*\"wine\" + 0.023*\"iri\" + 0.016*\"probably\" + 0.016*\"market\" + 0.016*\"category\" + 0.016*\"spirits\" + 0.016*\"categories\"\n",
      "2017-06-14 22:23:51,421 : INFO : topic #3 (0.143): 0.047*\"'s\" + 0.035*\"growth\" + 0.027*\"distribution\" + 0.016*\"portfolio\" + 0.016*\"okay\" + 0.016*\"beer\" + 0.016*\"modelo\" + 0.016*\"especial\" + 0.016*\"brands\" + 0.012*\"point\"\n",
      "2017-06-14 22:23:51,421 : INFO : topic #2 (0.143): 0.038*\"test\" + 0.029*\"well\" + 0.020*\"basically\" + 0.020*\"brand\" + 0.020*\"advertising\" + 0.011*\"back\" + 0.011*\"'re\" + 0.011*\"pretty\" + 0.011*\"extremely\" + 0.011*\"demonstrated\"\n",
      "2017-06-14 22:23:51,423 : INFO : topic diff=0.000000, rho=0.113228\n",
      "2017-06-14 22:23:51,486 : INFO : -6.287 per-word bound, 78.1 perplexity estimate based on a held-out corpus of 19 documents with 1270 words\n",
      "2017-06-14 22:23:51,486 : INFO : PROGRESS: pass 77, at document #19/19\n",
      "2017-06-14 22:23:51,526 : INFO : topic #1 (0.143): 0.038*\"'s\" + 0.027*\"think\" + 0.025*\"like\" + 0.016*\"really\" + 0.016*\"say\" + 0.016*\"would\" + 0.014*\"sort\" + 0.011*\"new\" + 0.011*\"beer\" + 0.011*\"okay\"\n",
      "2017-06-14 22:23:51,528 : INFO : topic #3 (0.143): 0.047*\"'s\" + 0.035*\"growth\" + 0.027*\"distribution\" + 0.016*\"portfolio\" + 0.016*\"okay\" + 0.016*\"beer\" + 0.016*\"modelo\" + 0.016*\"especial\" + 0.016*\"brands\" + 0.012*\"point\"\n",
      "2017-06-14 22:23:51,529 : INFO : topic #6 (0.143): 0.027*\"really\" + 0.027*\"'s\" + 0.020*\"brand\" + 0.020*\"would\" + 0.020*\"brands\" + 0.014*\"kind\" + 0.014*\"say\" + 0.010*\"n't\" + 0.010*\"segment\" + 0.010*\"think\"\n",
      "2017-06-14 22:23:51,530 : INFO : topic #0 (0.143): 0.016*\"'s\" + 0.016*\"quarter\" + 0.016*\"hot\" + 0.016*\"pinot\" + 0.016*\"noir\" + 0.016*\"would\" + 0.012*\"said\" + 0.012*\"first\" + 0.012*\"brand\" + 0.012*\"mean\"\n",
      "2017-06-14 22:23:51,532 : INFO : topic #2 (0.143): 0.038*\"test\" + 0.029*\"well\" + 0.020*\"basically\" + 0.020*\"brand\" + 0.020*\"advertising\" + 0.011*\"back\" + 0.011*\"'re\" + 0.011*\"pretty\" + 0.011*\"extremely\" + 0.011*\"demonstrated\"\n",
      "2017-06-14 22:23:51,532 : INFO : topic diff=0.000000, rho=0.112509\n",
      "2017-06-14 22:23:51,595 : INFO : -6.287 per-word bound, 78.1 perplexity estimate based on a held-out corpus of 19 documents with 1270 words\n",
      "2017-06-14 22:23:51,596 : INFO : PROGRESS: pass 78, at document #19/19\n",
      "2017-06-14 22:23:51,638 : INFO : topic #1 (0.143): 0.038*\"'s\" + 0.027*\"think\" + 0.025*\"like\" + 0.016*\"really\" + 0.016*\"say\" + 0.016*\"would\" + 0.014*\"sort\" + 0.011*\"new\" + 0.011*\"beer\" + 0.011*\"okay\"\n",
      "2017-06-14 22:23:51,641 : INFO : topic #2 (0.143): 0.038*\"test\" + 0.029*\"well\" + 0.020*\"basically\" + 0.020*\"brand\" + 0.020*\"advertising\" + 0.011*\"back\" + 0.011*\"'re\" + 0.011*\"pretty\" + 0.011*\"extremely\" + 0.011*\"demonstrated\"\n",
      "2017-06-14 22:23:51,641 : INFO : topic #6 (0.143): 0.027*\"really\" + 0.027*\"'s\" + 0.020*\"brand\" + 0.020*\"would\" + 0.020*\"brands\" + 0.014*\"kind\" + 0.014*\"say\" + 0.010*\"n't\" + 0.010*\"segment\" + 0.010*\"think\"\n",
      "2017-06-14 22:23:51,642 : INFO : topic #0 (0.143): 0.016*\"'s\" + 0.016*\"quarter\" + 0.016*\"hot\" + 0.016*\"pinot\" + 0.016*\"noir\" + 0.016*\"would\" + 0.012*\"said\" + 0.012*\"first\" + 0.012*\"brand\" + 0.012*\"mean\"\n",
      "2017-06-14 22:23:51,644 : INFO : topic #5 (0.143): 0.020*\"would\" + 0.017*\"brand\" + 0.014*\"n't\" + 0.014*\"say\" + 0.014*\"really\" + 0.014*\"'s\" + 0.010*\"yes\" + 0.010*\"lot\" + 0.010*\"changed\" + 0.010*\"craft\"\n",
      "2017-06-14 22:23:51,645 : INFO : topic diff=0.000000, rho=0.111803\n",
      "2017-06-14 22:23:51,707 : INFO : -6.287 per-word bound, 78.1 perplexity estimate based on a held-out corpus of 19 documents with 1270 words\n",
      "2017-06-14 22:23:51,709 : INFO : PROGRESS: pass 79, at document #19/19\n",
      "2017-06-14 22:23:51,749 : INFO : topic #2 (0.143): 0.038*\"test\" + 0.029*\"well\" + 0.020*\"basically\" + 0.020*\"brand\" + 0.020*\"advertising\" + 0.011*\"back\" + 0.011*\"'re\" + 0.011*\"pretty\" + 0.011*\"extremely\" + 0.011*\"demonstrated\"\n",
      "2017-06-14 22:23:51,750 : INFO : topic #5 (0.143): 0.020*\"would\" + 0.017*\"brand\" + 0.014*\"n't\" + 0.014*\"say\" + 0.014*\"really\" + 0.014*\"'s\" + 0.010*\"yes\" + 0.010*\"lot\" + 0.010*\"changed\" + 0.010*\"craft\"\n",
      "2017-06-14 22:23:51,752 : INFO : topic #6 (0.143): 0.027*\"really\" + 0.027*\"'s\" + 0.020*\"brand\" + 0.020*\"would\" + 0.020*\"brands\" + 0.014*\"kind\" + 0.014*\"say\" + 0.010*\"n't\" + 0.010*\"segment\" + 0.010*\"think\"\n",
      "2017-06-14 22:23:51,753 : INFO : topic #0 (0.143): 0.016*\"'s\" + 0.016*\"quarter\" + 0.016*\"hot\" + 0.016*\"pinot\" + 0.016*\"noir\" + 0.016*\"would\" + 0.012*\"said\" + 0.012*\"first\" + 0.012*\"brand\" + 0.012*\"mean\"\n",
      "2017-06-14 22:23:51,753 : INFO : topic #1 (0.143): 0.038*\"'s\" + 0.027*\"think\" + 0.025*\"like\" + 0.016*\"really\" + 0.016*\"say\" + 0.016*\"would\" + 0.014*\"sort\" + 0.011*\"new\" + 0.011*\"beer\" + 0.011*\"okay\"\n",
      "2017-06-14 22:23:51,755 : INFO : topic diff=0.000000, rho=0.111111\n",
      "2017-06-14 22:23:51,818 : INFO : -6.287 per-word bound, 78.1 perplexity estimate based on a held-out corpus of 19 documents with 1270 words\n",
      "2017-06-14 22:23:51,819 : INFO : PROGRESS: pass 80, at document #19/19\n",
      "2017-06-14 22:23:51,858 : INFO : topic #2 (0.143): 0.038*\"test\" + 0.029*\"well\" + 0.020*\"basically\" + 0.020*\"brand\" + 0.020*\"advertising\" + 0.011*\"back\" + 0.011*\"'re\" + 0.011*\"pretty\" + 0.011*\"extremely\" + 0.011*\"demonstrated\"\n",
      "2017-06-14 22:23:51,859 : INFO : topic #0 (0.143): 0.016*\"'s\" + 0.016*\"quarter\" + 0.016*\"hot\" + 0.016*\"pinot\" + 0.016*\"noir\" + 0.016*\"would\" + 0.012*\"said\" + 0.012*\"first\" + 0.012*\"brand\" + 0.012*\"mean\"\n",
      "2017-06-14 22:23:51,861 : INFO : topic #6 (0.143): 0.027*\"really\" + 0.027*\"'s\" + 0.020*\"brand\" + 0.020*\"would\" + 0.020*\"brands\" + 0.014*\"kind\" + 0.014*\"say\" + 0.010*\"n't\" + 0.010*\"segment\" + 0.010*\"think\"\n",
      "2017-06-14 22:23:51,862 : INFO : topic #5 (0.143): 0.020*\"would\" + 0.017*\"brand\" + 0.014*\"n't\" + 0.014*\"say\" + 0.014*\"really\" + 0.014*\"'s\" + 0.010*\"yes\" + 0.010*\"lot\" + 0.010*\"changed\" + 0.010*\"craft\"\n",
      "2017-06-14 22:23:51,864 : INFO : topic #4 (0.143): 0.045*\"business\" + 0.030*\"reflective\" + 0.023*\"beer\" + 0.023*\"wine\" + 0.023*\"iri\" + 0.016*\"probably\" + 0.016*\"market\" + 0.016*\"category\" + 0.016*\"spirits\" + 0.016*\"categories\"\n",
      "2017-06-14 22:23:51,865 : INFO : topic diff=0.000000, rho=0.110432\n",
      "2017-06-14 22:23:51,930 : INFO : -6.287 per-word bound, 78.1 perplexity estimate based on a held-out corpus of 19 documents with 1270 words\n",
      "2017-06-14 22:23:51,930 : INFO : PROGRESS: pass 81, at document #19/19\n",
      "2017-06-14 22:23:51,971 : INFO : topic #5 (0.143): 0.020*\"would\" + 0.017*\"brand\" + 0.014*\"n't\" + 0.014*\"say\" + 0.014*\"really\" + 0.014*\"'s\" + 0.010*\"yes\" + 0.010*\"lot\" + 0.010*\"changed\" + 0.010*\"craft\"\n",
      "2017-06-14 22:23:51,973 : INFO : topic #6 (0.143): 0.027*\"really\" + 0.027*\"'s\" + 0.020*\"brand\" + 0.020*\"would\" + 0.020*\"brands\" + 0.014*\"kind\" + 0.014*\"say\" + 0.010*\"n't\" + 0.010*\"segment\" + 0.010*\"think\"\n",
      "2017-06-14 22:23:51,973 : INFO : topic #4 (0.143): 0.045*\"business\" + 0.030*\"reflective\" + 0.023*\"beer\" + 0.023*\"wine\" + 0.023*\"iri\" + 0.016*\"probably\" + 0.016*\"market\" + 0.016*\"category\" + 0.016*\"spirits\" + 0.016*\"categories\"\n",
      "2017-06-14 22:23:51,974 : INFO : topic #2 (0.143): 0.038*\"test\" + 0.029*\"well\" + 0.020*\"basically\" + 0.020*\"brand\" + 0.020*\"advertising\" + 0.011*\"back\" + 0.011*\"'re\" + 0.011*\"pretty\" + 0.011*\"extremely\" + 0.011*\"demonstrated\"\n",
      "2017-06-14 22:23:51,976 : INFO : topic #0 (0.143): 0.016*\"'s\" + 0.016*\"quarter\" + 0.016*\"hot\" + 0.016*\"pinot\" + 0.016*\"noir\" + 0.016*\"would\" + 0.012*\"said\" + 0.012*\"first\" + 0.012*\"brand\" + 0.012*\"mean\"\n",
      "2017-06-14 22:23:51,977 : INFO : topic diff=0.000000, rho=0.109764\n",
      "2017-06-14 22:23:52,040 : INFO : -6.287 per-word bound, 78.1 perplexity estimate based on a held-out corpus of 19 documents with 1270 words\n",
      "2017-06-14 22:23:52,042 : INFO : PROGRESS: pass 82, at document #19/19\n",
      "2017-06-14 22:23:52,082 : INFO : topic #4 (0.143): 0.045*\"business\" + 0.030*\"reflective\" + 0.023*\"beer\" + 0.023*\"wine\" + 0.023*\"iri\" + 0.016*\"probably\" + 0.016*\"market\" + 0.016*\"category\" + 0.016*\"spirits\" + 0.016*\"categories\"\n",
      "2017-06-14 22:23:52,084 : INFO : topic #0 (0.143): 0.016*\"'s\" + 0.016*\"quarter\" + 0.016*\"hot\" + 0.016*\"pinot\" + 0.016*\"noir\" + 0.016*\"would\" + 0.012*\"said\" + 0.012*\"first\" + 0.012*\"brand\" + 0.012*\"mean\"\n",
      "2017-06-14 22:23:52,085 : INFO : topic #3 (0.143): 0.047*\"'s\" + 0.035*\"growth\" + 0.027*\"distribution\" + 0.016*\"portfolio\" + 0.016*\"okay\" + 0.016*\"beer\" + 0.016*\"modelo\" + 0.016*\"especial\" + 0.016*\"brands\" + 0.012*\"point\"\n",
      "2017-06-14 22:23:52,085 : INFO : topic #1 (0.143): 0.038*\"'s\" + 0.027*\"think\" + 0.025*\"like\" + 0.016*\"really\" + 0.016*\"say\" + 0.016*\"would\" + 0.014*\"sort\" + 0.011*\"new\" + 0.011*\"beer\" + 0.011*\"okay\"\n",
      "2017-06-14 22:23:52,088 : INFO : topic #6 (0.143): 0.027*\"really\" + 0.027*\"'s\" + 0.020*\"brand\" + 0.020*\"would\" + 0.020*\"brands\" + 0.014*\"kind\" + 0.014*\"say\" + 0.010*\"n't\" + 0.010*\"segment\" + 0.010*\"think\"\n",
      "2017-06-14 22:23:52,089 : INFO : topic diff=0.000000, rho=0.109109\n",
      "2017-06-14 22:23:52,151 : INFO : -6.287 per-word bound, 78.1 perplexity estimate based on a held-out corpus of 19 documents with 1270 words\n",
      "2017-06-14 22:23:52,153 : INFO : PROGRESS: pass 83, at document #19/19\n",
      "2017-06-14 22:23:52,194 : INFO : topic #3 (0.143): 0.047*\"'s\" + 0.035*\"growth\" + 0.027*\"distribution\" + 0.016*\"portfolio\" + 0.016*\"okay\" + 0.016*\"beer\" + 0.016*\"modelo\" + 0.016*\"especial\" + 0.016*\"brands\" + 0.012*\"point\"\n",
      "2017-06-14 22:23:52,194 : INFO : topic #6 (0.143): 0.027*\"really\" + 0.027*\"'s\" + 0.020*\"brand\" + 0.020*\"would\" + 0.020*\"brands\" + 0.014*\"kind\" + 0.014*\"say\" + 0.010*\"n't\" + 0.010*\"segment\" + 0.010*\"think\"\n",
      "2017-06-14 22:23:52,197 : INFO : topic #2 (0.143): 0.038*\"test\" + 0.029*\"well\" + 0.020*\"basically\" + 0.020*\"brand\" + 0.020*\"advertising\" + 0.011*\"back\" + 0.011*\"'re\" + 0.011*\"pretty\" + 0.011*\"extremely\" + 0.011*\"demonstrated\"\n",
      "2017-06-14 22:23:52,197 : INFO : topic #5 (0.143): 0.020*\"would\" + 0.017*\"brand\" + 0.014*\"n't\" + 0.014*\"say\" + 0.014*\"really\" + 0.014*\"'s\" + 0.010*\"yes\" + 0.010*\"lot\" + 0.010*\"changed\" + 0.010*\"craft\"\n",
      "2017-06-14 22:23:52,200 : INFO : topic #0 (0.143): 0.016*\"'s\" + 0.016*\"quarter\" + 0.016*\"hot\" + 0.016*\"pinot\" + 0.016*\"noir\" + 0.016*\"would\" + 0.012*\"said\" + 0.012*\"first\" + 0.012*\"brand\" + 0.012*\"mean\"\n",
      "2017-06-14 22:23:52,200 : INFO : topic diff=0.000000, rho=0.108465\n",
      "2017-06-14 22:23:52,263 : INFO : -6.287 per-word bound, 78.1 perplexity estimate based on a held-out corpus of 19 documents with 1270 words\n",
      "2017-06-14 22:23:52,266 : INFO : PROGRESS: pass 84, at document #19/19\n",
      "2017-06-14 22:23:52,306 : INFO : topic #5 (0.143): 0.020*\"would\" + 0.017*\"brand\" + 0.014*\"n't\" + 0.014*\"say\" + 0.014*\"really\" + 0.014*\"'s\" + 0.010*\"yes\" + 0.010*\"lot\" + 0.010*\"changed\" + 0.010*\"craft\"\n",
      "2017-06-14 22:23:52,309 : INFO : topic #4 (0.143): 0.045*\"business\" + 0.030*\"reflective\" + 0.023*\"beer\" + 0.023*\"wine\" + 0.023*\"iri\" + 0.016*\"probably\" + 0.016*\"market\" + 0.016*\"category\" + 0.016*\"spirits\" + 0.016*\"categories\"\n",
      "2017-06-14 22:23:52,309 : INFO : topic #3 (0.143): 0.047*\"'s\" + 0.035*\"growth\" + 0.027*\"distribution\" + 0.016*\"portfolio\" + 0.016*\"okay\" + 0.016*\"beer\" + 0.016*\"modelo\" + 0.016*\"especial\" + 0.016*\"brands\" + 0.012*\"point\"\n",
      "2017-06-14 22:23:52,312 : INFO : topic #0 (0.143): 0.016*\"'s\" + 0.016*\"quarter\" + 0.016*\"hot\" + 0.016*\"pinot\" + 0.016*\"noir\" + 0.016*\"would\" + 0.012*\"said\" + 0.012*\"first\" + 0.012*\"brand\" + 0.012*\"mean\"\n",
      "2017-06-14 22:23:52,312 : INFO : topic #2 (0.143): 0.038*\"test\" + 0.029*\"well\" + 0.020*\"basically\" + 0.020*\"brand\" + 0.020*\"advertising\" + 0.011*\"back\" + 0.011*\"'re\" + 0.011*\"pretty\" + 0.011*\"extremely\" + 0.011*\"demonstrated\"\n",
      "2017-06-14 22:23:52,315 : INFO : topic diff=0.000000, rho=0.107833\n",
      "2017-06-14 22:23:52,380 : INFO : -6.287 per-word bound, 78.1 perplexity estimate based on a held-out corpus of 19 documents with 1270 words\n",
      "2017-06-14 22:23:52,381 : INFO : PROGRESS: pass 85, at document #19/19\n",
      "2017-06-14 22:23:52,421 : INFO : topic #1 (0.143): 0.038*\"'s\" + 0.027*\"think\" + 0.025*\"like\" + 0.016*\"really\" + 0.016*\"say\" + 0.016*\"would\" + 0.014*\"sort\" + 0.011*\"new\" + 0.011*\"beer\" + 0.011*\"okay\"\n",
      "2017-06-14 22:23:52,424 : INFO : topic #0 (0.143): 0.016*\"'s\" + 0.016*\"quarter\" + 0.016*\"hot\" + 0.016*\"pinot\" + 0.016*\"noir\" + 0.016*\"would\" + 0.012*\"said\" + 0.012*\"first\" + 0.012*\"brand\" + 0.012*\"mean\"\n",
      "2017-06-14 22:23:52,426 : INFO : topic #4 (0.143): 0.045*\"business\" + 0.030*\"reflective\" + 0.023*\"beer\" + 0.023*\"wine\" + 0.023*\"iri\" + 0.016*\"probably\" + 0.016*\"market\" + 0.016*\"category\" + 0.016*\"spirits\" + 0.016*\"categories\"\n",
      "2017-06-14 22:23:52,427 : INFO : topic #5 (0.143): 0.020*\"would\" + 0.017*\"brand\" + 0.014*\"n't\" + 0.014*\"say\" + 0.014*\"really\" + 0.014*\"'s\" + 0.010*\"yes\" + 0.010*\"lot\" + 0.010*\"changed\" + 0.010*\"craft\"\n",
      "2017-06-14 22:23:52,428 : INFO : topic #2 (0.143): 0.038*\"test\" + 0.029*\"well\" + 0.020*\"basically\" + 0.020*\"brand\" + 0.020*\"advertising\" + 0.011*\"back\" + 0.011*\"'re\" + 0.011*\"pretty\" + 0.011*\"extremely\" + 0.011*\"demonstrated\"\n",
      "2017-06-14 22:23:52,430 : INFO : topic diff=0.000000, rho=0.107211\n",
      "2017-06-14 22:23:52,493 : INFO : -6.287 per-word bound, 78.1 perplexity estimate based on a held-out corpus of 19 documents with 1270 words\n",
      "2017-06-14 22:23:52,493 : INFO : PROGRESS: pass 86, at document #19/19\n",
      "2017-06-14 22:23:52,533 : INFO : topic #0 (0.143): 0.016*\"'s\" + 0.016*\"quarter\" + 0.016*\"hot\" + 0.016*\"pinot\" + 0.016*\"noir\" + 0.016*\"would\" + 0.012*\"said\" + 0.012*\"first\" + 0.012*\"brand\" + 0.012*\"mean\"\n",
      "2017-06-14 22:23:52,535 : INFO : topic #5 (0.143): 0.020*\"would\" + 0.017*\"brand\" + 0.014*\"n't\" + 0.014*\"say\" + 0.014*\"really\" + 0.014*\"'s\" + 0.010*\"yes\" + 0.010*\"lot\" + 0.010*\"changed\" + 0.010*\"craft\"\n",
      "2017-06-14 22:23:52,536 : INFO : topic #2 (0.143): 0.038*\"test\" + 0.029*\"well\" + 0.020*\"basically\" + 0.020*\"brand\" + 0.020*\"advertising\" + 0.011*\"back\" + 0.011*\"'re\" + 0.011*\"pretty\" + 0.011*\"extremely\" + 0.011*\"demonstrated\"\n",
      "2017-06-14 22:23:52,538 : INFO : topic #1 (0.143): 0.038*\"'s\" + 0.027*\"think\" + 0.025*\"like\" + 0.016*\"really\" + 0.016*\"say\" + 0.016*\"would\" + 0.014*\"sort\" + 0.011*\"new\" + 0.011*\"beer\" + 0.011*\"okay\"\n",
      "2017-06-14 22:23:52,539 : INFO : topic #4 (0.143): 0.045*\"business\" + 0.030*\"reflective\" + 0.023*\"beer\" + 0.023*\"wine\" + 0.023*\"iri\" + 0.016*\"probably\" + 0.016*\"market\" + 0.016*\"category\" + 0.016*\"spirits\" + 0.016*\"categories\"\n",
      "2017-06-14 22:23:52,539 : INFO : topic diff=0.000000, rho=0.106600\n",
      "2017-06-14 22:23:52,604 : INFO : -6.287 per-word bound, 78.1 perplexity estimate based on a held-out corpus of 19 documents with 1270 words\n",
      "2017-06-14 22:23:52,605 : INFO : PROGRESS: pass 87, at document #19/19\n",
      "2017-06-14 22:23:52,645 : INFO : topic #2 (0.143): 0.038*\"test\" + 0.029*\"well\" + 0.020*\"basically\" + 0.020*\"brand\" + 0.020*\"advertising\" + 0.011*\"back\" + 0.011*\"'re\" + 0.011*\"pretty\" + 0.011*\"extremely\" + 0.011*\"demonstrated\"\n",
      "2017-06-14 22:23:52,648 : INFO : topic #4 (0.143): 0.045*\"business\" + 0.030*\"reflective\" + 0.023*\"beer\" + 0.023*\"wine\" + 0.023*\"iri\" + 0.016*\"probably\" + 0.016*\"market\" + 0.016*\"category\" + 0.016*\"spirits\" + 0.016*\"categories\"\n",
      "2017-06-14 22:23:52,650 : INFO : topic #1 (0.143): 0.038*\"'s\" + 0.027*\"think\" + 0.025*\"like\" + 0.016*\"really\" + 0.016*\"say\" + 0.016*\"would\" + 0.014*\"sort\" + 0.011*\"new\" + 0.011*\"beer\" + 0.011*\"okay\"\n",
      "2017-06-14 22:23:52,651 : INFO : topic #3 (0.143): 0.047*\"'s\" + 0.035*\"growth\" + 0.027*\"distribution\" + 0.016*\"portfolio\" + 0.016*\"okay\" + 0.016*\"beer\" + 0.016*\"modelo\" + 0.016*\"especial\" + 0.016*\"brands\" + 0.012*\"point\"\n",
      "2017-06-14 22:23:52,651 : INFO : topic #5 (0.143): 0.020*\"would\" + 0.017*\"brand\" + 0.014*\"n't\" + 0.014*\"say\" + 0.014*\"really\" + 0.014*\"'s\" + 0.010*\"yes\" + 0.010*\"lot\" + 0.010*\"changed\" + 0.010*\"craft\"\n",
      "2017-06-14 22:23:52,654 : INFO : topic diff=0.000000, rho=0.106000\n",
      "2017-06-14 22:23:52,716 : INFO : -6.287 per-word bound, 78.1 perplexity estimate based on a held-out corpus of 19 documents with 1270 words\n",
      "2017-06-14 22:23:52,717 : INFO : PROGRESS: pass 88, at document #19/19\n",
      "2017-06-14 22:23:52,757 : INFO : topic #6 (0.143): 0.027*\"really\" + 0.027*\"'s\" + 0.020*\"brand\" + 0.020*\"would\" + 0.020*\"brands\" + 0.014*\"kind\" + 0.014*\"say\" + 0.010*\"n't\" + 0.010*\"segment\" + 0.010*\"think\"\n",
      "2017-06-14 22:23:52,759 : INFO : topic #5 (0.143): 0.020*\"would\" + 0.017*\"brand\" + 0.014*\"n't\" + 0.014*\"say\" + 0.014*\"really\" + 0.014*\"'s\" + 0.010*\"yes\" + 0.010*\"lot\" + 0.010*\"changed\" + 0.010*\"craft\"\n",
      "2017-06-14 22:23:52,762 : INFO : topic #2 (0.143): 0.038*\"test\" + 0.029*\"well\" + 0.020*\"basically\" + 0.020*\"brand\" + 0.020*\"advertising\" + 0.011*\"back\" + 0.011*\"'re\" + 0.011*\"pretty\" + 0.011*\"extremely\" + 0.011*\"demonstrated\"\n",
      "2017-06-14 22:23:52,763 : INFO : topic #4 (0.143): 0.045*\"business\" + 0.030*\"reflective\" + 0.023*\"beer\" + 0.023*\"wine\" + 0.023*\"iri\" + 0.016*\"probably\" + 0.016*\"market\" + 0.016*\"category\" + 0.016*\"spirits\" + 0.016*\"categories\"\n",
      "2017-06-14 22:23:52,763 : INFO : topic #3 (0.143): 0.047*\"'s\" + 0.035*\"growth\" + 0.027*\"distribution\" + 0.016*\"portfolio\" + 0.016*\"okay\" + 0.016*\"beer\" + 0.016*\"modelo\" + 0.016*\"especial\" + 0.016*\"brands\" + 0.012*\"point\"\n",
      "2017-06-14 22:23:52,765 : INFO : topic diff=0.000000, rho=0.105409\n",
      "2017-06-14 22:23:52,828 : INFO : -6.287 per-word bound, 78.1 perplexity estimate based on a held-out corpus of 19 documents with 1270 words\n",
      "2017-06-14 22:23:52,829 : INFO : PROGRESS: pass 89, at document #19/19\n",
      "2017-06-14 22:23:52,871 : INFO : topic #3 (0.143): 0.047*\"'s\" + 0.035*\"growth\" + 0.027*\"distribution\" + 0.016*\"portfolio\" + 0.016*\"okay\" + 0.016*\"beer\" + 0.016*\"modelo\" + 0.016*\"especial\" + 0.016*\"brands\" + 0.012*\"point\"\n",
      "2017-06-14 22:23:52,874 : INFO : topic #1 (0.143): 0.038*\"'s\" + 0.027*\"think\" + 0.025*\"like\" + 0.016*\"really\" + 0.016*\"say\" + 0.016*\"would\" + 0.014*\"sort\" + 0.011*\"new\" + 0.011*\"beer\" + 0.011*\"okay\"\n",
      "2017-06-14 22:23:52,875 : INFO : topic #2 (0.143): 0.038*\"test\" + 0.029*\"well\" + 0.020*\"basically\" + 0.020*\"brand\" + 0.020*\"advertising\" + 0.011*\"back\" + 0.011*\"'re\" + 0.011*\"pretty\" + 0.011*\"extremely\" + 0.011*\"demonstrated\"\n",
      "2017-06-14 22:23:52,877 : INFO : topic #6 (0.143): 0.027*\"really\" + 0.027*\"'s\" + 0.020*\"brand\" + 0.020*\"would\" + 0.020*\"brands\" + 0.014*\"kind\" + 0.014*\"say\" + 0.010*\"n't\" + 0.010*\"segment\" + 0.010*\"think\"\n",
      "2017-06-14 22:23:52,878 : INFO : topic #5 (0.143): 0.020*\"would\" + 0.017*\"brand\" + 0.014*\"n't\" + 0.014*\"say\" + 0.014*\"really\" + 0.014*\"'s\" + 0.010*\"yes\" + 0.010*\"lot\" + 0.010*\"changed\" + 0.010*\"craft\"\n",
      "2017-06-14 22:23:52,880 : INFO : topic diff=0.000000, rho=0.104828\n",
      "2017-06-14 22:23:52,943 : INFO : -6.287 per-word bound, 78.1 perplexity estimate based on a held-out corpus of 19 documents with 1270 words\n",
      "2017-06-14 22:23:52,944 : INFO : PROGRESS: pass 90, at document #19/19\n",
      "2017-06-14 22:23:52,986 : INFO : topic #0 (0.143): 0.016*\"'s\" + 0.016*\"quarter\" + 0.016*\"hot\" + 0.016*\"pinot\" + 0.016*\"noir\" + 0.016*\"would\" + 0.012*\"said\" + 0.012*\"first\" + 0.012*\"brand\" + 0.012*\"mean\"\n",
      "2017-06-14 22:23:52,987 : INFO : topic #4 (0.143): 0.045*\"business\" + 0.030*\"reflective\" + 0.023*\"beer\" + 0.023*\"wine\" + 0.023*\"iri\" + 0.016*\"probably\" + 0.016*\"market\" + 0.016*\"category\" + 0.016*\"spirits\" + 0.016*\"categories\"\n",
      "2017-06-14 22:23:52,989 : INFO : topic #2 (0.143): 0.038*\"test\" + 0.029*\"well\" + 0.020*\"basically\" + 0.020*\"brand\" + 0.020*\"advertising\" + 0.011*\"back\" + 0.011*\"'re\" + 0.011*\"pretty\" + 0.011*\"extremely\" + 0.011*\"demonstrated\"\n",
      "2017-06-14 22:23:52,990 : INFO : topic #3 (0.143): 0.047*\"'s\" + 0.035*\"growth\" + 0.027*\"distribution\" + 0.016*\"portfolio\" + 0.016*\"okay\" + 0.016*\"beer\" + 0.016*\"modelo\" + 0.016*\"especial\" + 0.016*\"brands\" + 0.012*\"point\"\n",
      "2017-06-14 22:23:52,992 : INFO : topic #5 (0.143): 0.020*\"would\" + 0.017*\"brand\" + 0.014*\"n't\" + 0.014*\"say\" + 0.014*\"really\" + 0.014*\"'s\" + 0.010*\"yes\" + 0.010*\"lot\" + 0.010*\"changed\" + 0.010*\"craft\"\n",
      "2017-06-14 22:23:52,993 : INFO : topic diff=0.000000, rho=0.104257\n",
      "2017-06-14 22:23:53,055 : INFO : -6.287 per-word bound, 78.1 perplexity estimate based on a held-out corpus of 19 documents with 1270 words\n",
      "2017-06-14 22:23:53,056 : INFO : PROGRESS: pass 91, at document #19/19\n",
      "2017-06-14 22:23:53,096 : INFO : topic #6 (0.143): 0.027*\"really\" + 0.027*\"'s\" + 0.020*\"brand\" + 0.020*\"would\" + 0.020*\"brands\" + 0.014*\"kind\" + 0.014*\"say\" + 0.010*\"n't\" + 0.010*\"segment\" + 0.010*\"think\"\n",
      "2017-06-14 22:23:53,099 : INFO : topic #1 (0.143): 0.038*\"'s\" + 0.027*\"think\" + 0.025*\"like\" + 0.016*\"really\" + 0.016*\"say\" + 0.016*\"would\" + 0.014*\"sort\" + 0.011*\"new\" + 0.011*\"beer\" + 0.011*\"okay\"\n",
      "2017-06-14 22:23:53,101 : INFO : topic #0 (0.143): 0.016*\"'s\" + 0.016*\"quarter\" + 0.016*\"hot\" + 0.016*\"pinot\" + 0.016*\"noir\" + 0.016*\"would\" + 0.012*\"said\" + 0.012*\"first\" + 0.012*\"brand\" + 0.012*\"mean\"\n",
      "2017-06-14 22:23:53,101 : INFO : topic #4 (0.143): 0.045*\"business\" + 0.030*\"reflective\" + 0.023*\"beer\" + 0.023*\"wine\" + 0.023*\"iri\" + 0.016*\"probably\" + 0.016*\"market\" + 0.016*\"category\" + 0.016*\"spirits\" + 0.016*\"categories\"\n",
      "2017-06-14 22:23:53,102 : INFO : topic #5 (0.143): 0.020*\"would\" + 0.017*\"brand\" + 0.014*\"n't\" + 0.014*\"say\" + 0.014*\"really\" + 0.014*\"'s\" + 0.010*\"yes\" + 0.010*\"lot\" + 0.010*\"changed\" + 0.010*\"craft\"\n",
      "2017-06-14 22:23:53,104 : INFO : topic diff=0.000000, rho=0.103695\n",
      "2017-06-14 22:23:53,168 : INFO : -6.287 per-word bound, 78.1 perplexity estimate based on a held-out corpus of 19 documents with 1270 words\n",
      "2017-06-14 22:23:53,170 : INFO : PROGRESS: pass 92, at document #19/19\n",
      "2017-06-14 22:23:53,210 : INFO : topic #3 (0.143): 0.047*\"'s\" + 0.035*\"growth\" + 0.027*\"distribution\" + 0.016*\"portfolio\" + 0.016*\"okay\" + 0.016*\"beer\" + 0.016*\"modelo\" + 0.016*\"especial\" + 0.016*\"brands\" + 0.012*\"point\"\n",
      "2017-06-14 22:23:53,213 : INFO : topic #5 (0.143): 0.020*\"would\" + 0.017*\"brand\" + 0.014*\"n't\" + 0.014*\"say\" + 0.014*\"really\" + 0.014*\"'s\" + 0.010*\"yes\" + 0.010*\"lot\" + 0.010*\"changed\" + 0.010*\"craft\"\n",
      "2017-06-14 22:23:53,213 : INFO : topic #2 (0.143): 0.038*\"test\" + 0.029*\"well\" + 0.020*\"basically\" + 0.020*\"brand\" + 0.020*\"advertising\" + 0.011*\"back\" + 0.011*\"'re\" + 0.011*\"pretty\" + 0.011*\"extremely\" + 0.011*\"demonstrated\"\n",
      "2017-06-14 22:23:53,214 : INFO : topic #1 (0.143): 0.038*\"'s\" + 0.027*\"think\" + 0.025*\"like\" + 0.016*\"really\" + 0.016*\"say\" + 0.016*\"would\" + 0.014*\"sort\" + 0.011*\"new\" + 0.011*\"beer\" + 0.011*\"okay\"\n",
      "2017-06-14 22:23:53,217 : INFO : topic #4 (0.143): 0.045*\"business\" + 0.030*\"reflective\" + 0.023*\"beer\" + 0.023*\"wine\" + 0.023*\"iri\" + 0.016*\"probably\" + 0.016*\"market\" + 0.016*\"category\" + 0.016*\"spirits\" + 0.016*\"categories\"\n",
      "2017-06-14 22:23:53,217 : INFO : topic diff=0.000000, rho=0.103142\n",
      "2017-06-14 22:23:53,279 : INFO : -6.287 per-word bound, 78.1 perplexity estimate based on a held-out corpus of 19 documents with 1270 words\n",
      "2017-06-14 22:23:53,279 : INFO : PROGRESS: pass 93, at document #19/19\n",
      "2017-06-14 22:23:53,321 : INFO : topic #2 (0.143): 0.038*\"test\" + 0.029*\"well\" + 0.020*\"basically\" + 0.020*\"brand\" + 0.020*\"advertising\" + 0.011*\"back\" + 0.011*\"'re\" + 0.011*\"pretty\" + 0.011*\"extremely\" + 0.011*\"demonstrated\"\n",
      "2017-06-14 22:23:53,322 : INFO : topic #0 (0.143): 0.016*\"'s\" + 0.016*\"quarter\" + 0.016*\"hot\" + 0.016*\"pinot\" + 0.016*\"noir\" + 0.016*\"would\" + 0.012*\"said\" + 0.012*\"first\" + 0.012*\"brand\" + 0.012*\"mean\"\n",
      "2017-06-14 22:23:53,323 : INFO : topic #5 (0.143): 0.020*\"would\" + 0.017*\"brand\" + 0.014*\"n't\" + 0.014*\"say\" + 0.014*\"really\" + 0.014*\"'s\" + 0.010*\"yes\" + 0.010*\"lot\" + 0.010*\"changed\" + 0.010*\"craft\"\n",
      "2017-06-14 22:23:53,325 : INFO : topic #3 (0.143): 0.047*\"'s\" + 0.035*\"growth\" + 0.027*\"distribution\" + 0.016*\"portfolio\" + 0.016*\"okay\" + 0.016*\"beer\" + 0.016*\"modelo\" + 0.016*\"especial\" + 0.016*\"brands\" + 0.012*\"point\"\n",
      "2017-06-14 22:23:53,325 : INFO : topic #1 (0.143): 0.038*\"'s\" + 0.027*\"think\" + 0.025*\"like\" + 0.016*\"really\" + 0.016*\"say\" + 0.016*\"would\" + 0.014*\"sort\" + 0.011*\"new\" + 0.011*\"beer\" + 0.011*\"okay\"\n",
      "2017-06-14 22:23:53,326 : INFO : topic diff=0.000000, rho=0.102598\n",
      "2017-06-14 22:23:53,391 : INFO : -6.287 per-word bound, 78.1 perplexity estimate based on a held-out corpus of 19 documents with 1270 words\n",
      "2017-06-14 22:23:53,391 : INFO : PROGRESS: pass 94, at document #19/19\n",
      "2017-06-14 22:23:53,434 : INFO : topic #6 (0.143): 0.027*\"really\" + 0.027*\"'s\" + 0.020*\"brand\" + 0.020*\"would\" + 0.020*\"brands\" + 0.014*\"kind\" + 0.014*\"say\" + 0.010*\"n't\" + 0.010*\"segment\" + 0.010*\"think\"\n",
      "2017-06-14 22:23:53,434 : INFO : topic #2 (0.143): 0.038*\"test\" + 0.029*\"well\" + 0.020*\"basically\" + 0.020*\"brand\" + 0.020*\"advertising\" + 0.011*\"back\" + 0.011*\"'re\" + 0.011*\"pretty\" + 0.011*\"extremely\" + 0.011*\"demonstrated\"\n",
      "2017-06-14 22:23:53,437 : INFO : topic #0 (0.143): 0.016*\"'s\" + 0.016*\"quarter\" + 0.016*\"hot\" + 0.016*\"pinot\" + 0.016*\"noir\" + 0.016*\"would\" + 0.012*\"said\" + 0.012*\"first\" + 0.012*\"brand\" + 0.012*\"mean\"\n",
      "2017-06-14 22:23:53,437 : INFO : topic #3 (0.143): 0.047*\"'s\" + 0.035*\"growth\" + 0.027*\"distribution\" + 0.016*\"portfolio\" + 0.016*\"okay\" + 0.016*\"beer\" + 0.016*\"modelo\" + 0.016*\"especial\" + 0.016*\"brands\" + 0.012*\"point\"\n",
      "2017-06-14 22:23:53,438 : INFO : topic #1 (0.143): 0.038*\"'s\" + 0.027*\"think\" + 0.025*\"like\" + 0.016*\"really\" + 0.016*\"say\" + 0.016*\"would\" + 0.014*\"sort\" + 0.011*\"new\" + 0.011*\"beer\" + 0.011*\"okay\"\n",
      "2017-06-14 22:23:53,440 : INFO : topic diff=0.000000, rho=0.102062\n",
      "2017-06-14 22:23:53,503 : INFO : -6.287 per-word bound, 78.1 perplexity estimate based on a held-out corpus of 19 documents with 1270 words\n",
      "2017-06-14 22:23:53,503 : INFO : PROGRESS: pass 95, at document #19/19\n",
      "2017-06-14 22:23:53,543 : INFO : topic #4 (0.143): 0.045*\"business\" + 0.030*\"reflective\" + 0.023*\"beer\" + 0.023*\"wine\" + 0.023*\"iri\" + 0.016*\"probably\" + 0.016*\"market\" + 0.016*\"category\" + 0.016*\"spirits\" + 0.016*\"categories\"\n",
      "2017-06-14 22:23:53,545 : INFO : topic #5 (0.143): 0.020*\"would\" + 0.017*\"brand\" + 0.014*\"n't\" + 0.014*\"say\" + 0.014*\"really\" + 0.014*\"'s\" + 0.010*\"yes\" + 0.010*\"lot\" + 0.010*\"changed\" + 0.010*\"craft\"\n",
      "2017-06-14 22:23:53,548 : INFO : topic #2 (0.143): 0.038*\"test\" + 0.029*\"well\" + 0.020*\"basically\" + 0.020*\"brand\" + 0.020*\"advertising\" + 0.011*\"back\" + 0.011*\"'re\" + 0.011*\"pretty\" + 0.011*\"extremely\" + 0.011*\"demonstrated\"\n",
      "2017-06-14 22:23:53,549 : INFO : topic #6 (0.143): 0.027*\"really\" + 0.027*\"'s\" + 0.020*\"brand\" + 0.020*\"would\" + 0.020*\"brands\" + 0.014*\"kind\" + 0.014*\"say\" + 0.010*\"n't\" + 0.010*\"segment\" + 0.010*\"think\"\n",
      "2017-06-14 22:23:53,551 : INFO : topic #1 (0.143): 0.038*\"'s\" + 0.027*\"think\" + 0.025*\"like\" + 0.016*\"really\" + 0.016*\"say\" + 0.016*\"would\" + 0.014*\"sort\" + 0.011*\"new\" + 0.011*\"beer\" + 0.011*\"okay\"\n",
      "2017-06-14 22:23:53,552 : INFO : topic diff=0.000000, rho=0.101535\n",
      "2017-06-14 22:23:53,614 : INFO : -6.287 per-word bound, 78.1 perplexity estimate based on a held-out corpus of 19 documents with 1270 words\n",
      "2017-06-14 22:23:53,615 : INFO : PROGRESS: pass 96, at document #19/19\n",
      "2017-06-14 22:23:53,654 : INFO : topic #0 (0.143): 0.016*\"'s\" + 0.016*\"quarter\" + 0.016*\"hot\" + 0.016*\"pinot\" + 0.016*\"noir\" + 0.016*\"would\" + 0.012*\"said\" + 0.012*\"first\" + 0.012*\"brand\" + 0.012*\"mean\"\n",
      "2017-06-14 22:23:53,657 : INFO : topic #1 (0.143): 0.038*\"'s\" + 0.027*\"think\" + 0.025*\"like\" + 0.016*\"really\" + 0.016*\"say\" + 0.016*\"would\" + 0.014*\"sort\" + 0.011*\"new\" + 0.011*\"beer\" + 0.011*\"okay\"\n",
      "2017-06-14 22:23:53,657 : INFO : topic #5 (0.143): 0.020*\"would\" + 0.017*\"brand\" + 0.014*\"n't\" + 0.014*\"say\" + 0.014*\"really\" + 0.014*\"'s\" + 0.010*\"yes\" + 0.010*\"lot\" + 0.010*\"changed\" + 0.010*\"craft\"\n",
      "2017-06-14 22:23:53,660 : INFO : topic #3 (0.143): 0.047*\"'s\" + 0.035*\"growth\" + 0.027*\"distribution\" + 0.016*\"portfolio\" + 0.016*\"okay\" + 0.016*\"beer\" + 0.016*\"modelo\" + 0.016*\"especial\" + 0.016*\"brands\" + 0.012*\"point\"\n",
      "2017-06-14 22:23:53,661 : INFO : topic #4 (0.143): 0.045*\"business\" + 0.030*\"reflective\" + 0.023*\"beer\" + 0.023*\"wine\" + 0.023*\"iri\" + 0.016*\"probably\" + 0.016*\"market\" + 0.016*\"category\" + 0.016*\"spirits\" + 0.016*\"categories\"\n",
      "2017-06-14 22:23:53,661 : INFO : topic diff=0.000000, rho=0.101015\n",
      "2017-06-14 22:23:53,724 : INFO : -6.287 per-word bound, 78.1 perplexity estimate based on a held-out corpus of 19 documents with 1270 words\n",
      "2017-06-14 22:23:53,726 : INFO : PROGRESS: pass 97, at document #19/19\n",
      "2017-06-14 22:23:53,766 : INFO : topic #1 (0.143): 0.038*\"'s\" + 0.027*\"think\" + 0.025*\"like\" + 0.016*\"really\" + 0.016*\"say\" + 0.016*\"would\" + 0.014*\"sort\" + 0.011*\"new\" + 0.011*\"beer\" + 0.011*\"okay\"\n",
      "2017-06-14 22:23:53,767 : INFO : topic #3 (0.143): 0.047*\"'s\" + 0.035*\"growth\" + 0.027*\"distribution\" + 0.016*\"portfolio\" + 0.016*\"okay\" + 0.016*\"beer\" + 0.016*\"modelo\" + 0.016*\"especial\" + 0.016*\"brands\" + 0.012*\"point\"\n",
      "2017-06-14 22:23:53,769 : INFO : topic #5 (0.143): 0.020*\"would\" + 0.017*\"brand\" + 0.014*\"n't\" + 0.014*\"say\" + 0.014*\"really\" + 0.014*\"'s\" + 0.010*\"yes\" + 0.010*\"lot\" + 0.010*\"changed\" + 0.010*\"craft\"\n",
      "2017-06-14 22:23:53,769 : INFO : topic #6 (0.143): 0.027*\"really\" + 0.027*\"'s\" + 0.020*\"brand\" + 0.020*\"would\" + 0.020*\"brands\" + 0.014*\"kind\" + 0.014*\"say\" + 0.010*\"n't\" + 0.010*\"segment\" + 0.010*\"think\"\n",
      "2017-06-14 22:23:53,772 : INFO : topic #4 (0.143): 0.045*\"business\" + 0.030*\"reflective\" + 0.023*\"beer\" + 0.023*\"wine\" + 0.023*\"iri\" + 0.016*\"probably\" + 0.016*\"market\" + 0.016*\"category\" + 0.016*\"spirits\" + 0.016*\"categories\"\n",
      "2017-06-14 22:23:53,773 : INFO : topic diff=0.000000, rho=0.100504\n",
      "2017-06-14 22:23:53,835 : INFO : -6.287 per-word bound, 78.1 perplexity estimate based on a held-out corpus of 19 documents with 1270 words\n",
      "2017-06-14 22:23:53,835 : INFO : PROGRESS: pass 98, at document #19/19\n",
      "2017-06-14 22:23:53,877 : INFO : topic #6 (0.143): 0.027*\"really\" + 0.027*\"'s\" + 0.020*\"brand\" + 0.020*\"would\" + 0.020*\"brands\" + 0.014*\"kind\" + 0.014*\"say\" + 0.010*\"n't\" + 0.010*\"segment\" + 0.010*\"think\"\n",
      "2017-06-14 22:23:53,878 : INFO : topic #4 (0.143): 0.045*\"business\" + 0.030*\"reflective\" + 0.023*\"beer\" + 0.023*\"wine\" + 0.023*\"iri\" + 0.016*\"probably\" + 0.016*\"market\" + 0.016*\"category\" + 0.016*\"spirits\" + 0.016*\"categories\"\n",
      "2017-06-14 22:23:53,878 : INFO : topic #1 (0.143): 0.038*\"'s\" + 0.027*\"think\" + 0.025*\"like\" + 0.016*\"really\" + 0.016*\"say\" + 0.016*\"would\" + 0.014*\"sort\" + 0.011*\"new\" + 0.011*\"beer\" + 0.011*\"okay\"\n",
      "2017-06-14 22:23:53,880 : INFO : topic #2 (0.143): 0.038*\"test\" + 0.029*\"well\" + 0.020*\"basically\" + 0.020*\"brand\" + 0.020*\"advertising\" + 0.011*\"back\" + 0.011*\"'re\" + 0.011*\"pretty\" + 0.011*\"extremely\" + 0.011*\"demonstrated\"\n",
      "2017-06-14 22:23:53,881 : INFO : topic #0 (0.143): 0.016*\"'s\" + 0.016*\"quarter\" + 0.016*\"hot\" + 0.016*\"pinot\" + 0.016*\"noir\" + 0.016*\"would\" + 0.012*\"said\" + 0.012*\"first\" + 0.012*\"brand\" + 0.012*\"mean\"\n",
      "2017-06-14 22:23:53,881 : INFO : topic diff=0.000000, rho=0.100000\n",
      "2017-06-14 22:23:53,946 : INFO : -6.287 per-word bound, 78.1 perplexity estimate based on a held-out corpus of 19 documents with 1270 words\n",
      "2017-06-14 22:23:53,947 : INFO : PROGRESS: pass 99, at document #19/19\n",
      "2017-06-14 22:23:53,987 : INFO : topic #3 (0.143): 0.047*\"'s\" + 0.035*\"growth\" + 0.027*\"distribution\" + 0.016*\"portfolio\" + 0.016*\"okay\" + 0.016*\"beer\" + 0.016*\"modelo\" + 0.016*\"especial\" + 0.016*\"brands\" + 0.012*\"point\"\n",
      "2017-06-14 22:23:53,989 : INFO : topic #0 (0.143): 0.016*\"'s\" + 0.016*\"quarter\" + 0.016*\"hot\" + 0.016*\"pinot\" + 0.016*\"noir\" + 0.016*\"would\" + 0.012*\"said\" + 0.012*\"first\" + 0.012*\"brand\" + 0.012*\"mean\"\n",
      "2017-06-14 22:23:53,990 : INFO : topic #2 (0.143): 0.038*\"test\" + 0.029*\"well\" + 0.020*\"basically\" + 0.020*\"brand\" + 0.020*\"advertising\" + 0.011*\"back\" + 0.011*\"'re\" + 0.011*\"pretty\" + 0.011*\"extremely\" + 0.011*\"demonstrated\"\n",
      "2017-06-14 22:23:53,992 : INFO : topic #6 (0.143): 0.027*\"really\" + 0.027*\"'s\" + 0.020*\"brand\" + 0.020*\"would\" + 0.020*\"brands\" + 0.014*\"kind\" + 0.014*\"say\" + 0.010*\"n't\" + 0.010*\"segment\" + 0.010*\"think\"\n",
      "2017-06-14 22:23:53,993 : INFO : topic #5 (0.143): 0.020*\"would\" + 0.017*\"brand\" + 0.014*\"n't\" + 0.014*\"say\" + 0.014*\"really\" + 0.014*\"'s\" + 0.010*\"yes\" + 0.010*\"lot\" + 0.010*\"changed\" + 0.010*\"craft\"\n",
      "2017-06-14 22:23:53,994 : INFO : topic diff=0.000000, rho=0.099504\n"
     ]
    }
   ],
   "source": [
    "model = models.LdaModel(corpus, id2word=dictionary, num_topics=7, passes=100)"
   ]
  },
  {
   "cell_type": "code",
   "execution_count": 79,
   "metadata": {
    "collapsed": false
   },
   "outputs": [
    {
     "name": "stderr",
     "output_type": "stream",
     "text": [
      "2017-06-14 22:25:19,016 : INFO : topic #0 (0.143): 0.016*\"'s\" + 0.016*\"quarter\" + 0.016*\"hot\" + 0.016*\"pinot\" + 0.016*\"noir\" + 0.016*\"would\" + 0.012*\"said\" + 0.012*\"first\" + 0.012*\"brand\" + 0.012*\"mean\"\n",
      "2017-06-14 22:25:19,017 : INFO : topic #1 (0.143): 0.038*\"'s\" + 0.027*\"think\" + 0.025*\"like\" + 0.016*\"really\" + 0.016*\"say\" + 0.016*\"would\" + 0.014*\"sort\" + 0.011*\"new\" + 0.011*\"beer\" + 0.011*\"okay\"\n",
      "2017-06-14 22:25:19,019 : INFO : topic #2 (0.143): 0.038*\"test\" + 0.029*\"well\" + 0.020*\"basically\" + 0.020*\"brand\" + 0.020*\"advertising\" + 0.011*\"back\" + 0.011*\"'re\" + 0.011*\"pretty\" + 0.011*\"extremely\" + 0.011*\"demonstrated\"\n",
      "2017-06-14 22:25:19,020 : INFO : topic #3 (0.143): 0.047*\"'s\" + 0.035*\"growth\" + 0.027*\"distribution\" + 0.016*\"portfolio\" + 0.016*\"okay\" + 0.016*\"beer\" + 0.016*\"modelo\" + 0.016*\"especial\" + 0.016*\"brands\" + 0.012*\"point\"\n",
      "2017-06-14 22:25:19,022 : INFO : topic #4 (0.143): 0.045*\"business\" + 0.030*\"reflective\" + 0.023*\"beer\" + 0.023*\"wine\" + 0.023*\"iri\" + 0.016*\"probably\" + 0.016*\"market\" + 0.016*\"category\" + 0.016*\"spirits\" + 0.016*\"categories\"\n",
      "2017-06-14 22:25:19,022 : INFO : topic #5 (0.143): 0.020*\"would\" + 0.017*\"brand\" + 0.014*\"n't\" + 0.014*\"say\" + 0.014*\"really\" + 0.014*\"'s\" + 0.010*\"yes\" + 0.010*\"lot\" + 0.010*\"changed\" + 0.010*\"craft\"\n",
      "2017-06-14 22:25:19,023 : INFO : topic #6 (0.143): 0.027*\"really\" + 0.027*\"'s\" + 0.020*\"brand\" + 0.020*\"would\" + 0.020*\"brands\" + 0.014*\"kind\" + 0.014*\"say\" + 0.010*\"n't\" + 0.010*\"segment\" + 0.010*\"think\"\n"
     ]
    },
    {
     "name": "stdout",
     "output_type": "stream",
     "text": [
      "(0, u'0.016*\"\\'s\" + 0.016*\"quarter\" + 0.016*\"hot\" + 0.016*\"pinot\" + 0.016*\"noir\" + 0.016*\"would\" + 0.012*\"said\" + 0.012*\"first\" + 0.012*\"brand\" + 0.012*\"mean\"')\n",
      "(1, u'0.038*\"\\'s\" + 0.027*\"think\" + 0.025*\"like\" + 0.016*\"really\" + 0.016*\"say\" + 0.016*\"would\" + 0.014*\"sort\" + 0.011*\"new\" + 0.011*\"beer\" + 0.011*\"okay\"')\n",
      "(2, u'0.038*\"test\" + 0.029*\"well\" + 0.020*\"basically\" + 0.020*\"brand\" + 0.020*\"advertising\" + 0.011*\"back\" + 0.011*\"\\'re\" + 0.011*\"pretty\" + 0.011*\"extremely\" + 0.011*\"demonstrated\"')\n",
      "(3, u'0.047*\"\\'s\" + 0.035*\"growth\" + 0.027*\"distribution\" + 0.016*\"portfolio\" + 0.016*\"okay\" + 0.016*\"beer\" + 0.016*\"modelo\" + 0.016*\"especial\" + 0.016*\"brands\" + 0.012*\"point\"')\n",
      "(4, u'0.045*\"business\" + 0.030*\"reflective\" + 0.023*\"beer\" + 0.023*\"wine\" + 0.023*\"iri\" + 0.016*\"probably\" + 0.016*\"market\" + 0.016*\"category\" + 0.016*\"spirits\" + 0.016*\"categories\"')\n",
      "(5, u'0.020*\"would\" + 0.017*\"brand\" + 0.014*\"n\\'t\" + 0.014*\"say\" + 0.014*\"really\" + 0.014*\"\\'s\" + 0.010*\"yes\" + 0.010*\"lot\" + 0.010*\"changed\" + 0.010*\"craft\"')\n",
      "(6, u'0.027*\"really\" + 0.027*\"\\'s\" + 0.020*\"brand\" + 0.020*\"would\" + 0.020*\"brands\" + 0.014*\"kind\" + 0.014*\"say\" + 0.010*\"n\\'t\" + 0.010*\"segment\" + 0.010*\"think\"')\n",
      "\n"
     ]
    }
   ],
   "source": [
    "# Prints the topics.\n",
    "for top in model.print_topics():\n",
    "  print top\n",
    "print"
   ]
  },
  {
   "cell_type": "code",
   "execution_count": 97,
   "metadata": {
    "collapsed": false
   },
   "outputs": [
    {
     "data": {
      "text/plain": [
       "[(2,\n",
       "  u'0.038*\"test\" + 0.029*\"well\" + 0.020*\"basically\" + 0.020*\"brand\" + 0.020*\"advertising\" + 0.011*\"back\" + 0.011*\"\\'re\" + 0.011*\"pretty\" + 0.011*\"extremely\" + 0.011*\"demonstrated\"')]"
      ]
     },
     "execution_count": 97,
     "metadata": {},
     "output_type": "execute_result"
    }
   ],
   "source": [
    "model.show_topics(1)\n",
    "#model.get_topic_terms(0, topn=10)"
   ]
  },
  {
   "cell_type": "code",
   "execution_count": null,
   "metadata": {
    "collapsed": true
   },
   "outputs": [],
   "source": []
  }
 ],
 "metadata": {
  "anaconda-cloud": {},
  "kernelspec": {
   "display_name": "Python [conda root]",
   "language": "python",
   "name": "conda-root-py"
  },
  "language_info": {
   "codemirror_mode": {
    "name": "ipython",
    "version": 2
   },
   "file_extension": ".py",
   "mimetype": "text/x-python",
   "name": "python",
   "nbconvert_exporter": "python",
   "pygments_lexer": "ipython2",
   "version": "2.7.12"
  }
 },
 "nbformat": 4,
 "nbformat_minor": 1
}
